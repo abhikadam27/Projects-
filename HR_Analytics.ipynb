{
 "cells": [
  {
   "cell_type": "code",
   "execution_count": 1,
   "id": "eea35054",
   "metadata": {},
   "outputs": [],
   "source": [
    "#import Neccessory libraries\n",
    "import pandas as pd\n",
    "import numpy as np\n",
    "import matplotlib.pyplot as plt\n",
    "import seaborn as sns\n",
    "\n",
    "from sklearn.preprocessing import StandardScaler\n",
    "\n",
    "from sklearn.model_selection import train_test_split, GridSearchCV\n",
    "from sklearn.metrics import accuracy_score, confusion_matrix, classification_report\n",
    "from sklearn.metrics import roc_curve, roc_auc_score\n",
    "\n",
    "\n",
    "\n",
    "import warnings\n",
    "warnings.filterwarnings('ignore')\n",
    "%matplotlib inline"
   ]
  },
  {
   "cell_type": "code",
   "execution_count": 2,
   "id": "90e54ec9",
   "metadata": {},
   "outputs": [
    {
     "data": {
      "text/html": [
       "<div>\n",
       "<style scoped>\n",
       "    .dataframe tbody tr th:only-of-type {\n",
       "        vertical-align: middle;\n",
       "    }\n",
       "\n",
       "    .dataframe tbody tr th {\n",
       "        vertical-align: top;\n",
       "    }\n",
       "\n",
       "    .dataframe thead th {\n",
       "        text-align: right;\n",
       "    }\n",
       "</style>\n",
       "<table border=\"1\" class=\"dataframe\">\n",
       "  <thead>\n",
       "    <tr style=\"text-align: right;\">\n",
       "      <th></th>\n",
       "      <th>Age</th>\n",
       "      <th>Attrition</th>\n",
       "      <th>BusinessTravel</th>\n",
       "      <th>DailyRate</th>\n",
       "      <th>Department</th>\n",
       "      <th>DistanceFromHome</th>\n",
       "      <th>Education</th>\n",
       "      <th>EducationField</th>\n",
       "      <th>EmployeeCount</th>\n",
       "      <th>EmployeeNumber</th>\n",
       "      <th>...</th>\n",
       "      <th>RelationshipSatisfaction</th>\n",
       "      <th>StandardHours</th>\n",
       "      <th>StockOptionLevel</th>\n",
       "      <th>TotalWorkingYears</th>\n",
       "      <th>TrainingTimesLastYear</th>\n",
       "      <th>WorkLifeBalance</th>\n",
       "      <th>YearsAtCompany</th>\n",
       "      <th>YearsInCurrentRole</th>\n",
       "      <th>YearsSinceLastPromotion</th>\n",
       "      <th>YearsWithCurrManager</th>\n",
       "    </tr>\n",
       "  </thead>\n",
       "  <tbody>\n",
       "    <tr>\n",
       "      <th>0</th>\n",
       "      <td>41</td>\n",
       "      <td>Yes</td>\n",
       "      <td>Travel_Rarely</td>\n",
       "      <td>1102</td>\n",
       "      <td>Sales</td>\n",
       "      <td>1</td>\n",
       "      <td>2</td>\n",
       "      <td>Life Sciences</td>\n",
       "      <td>1</td>\n",
       "      <td>1</td>\n",
       "      <td>...</td>\n",
       "      <td>1</td>\n",
       "      <td>80</td>\n",
       "      <td>0</td>\n",
       "      <td>8</td>\n",
       "      <td>0</td>\n",
       "      <td>1</td>\n",
       "      <td>6</td>\n",
       "      <td>4</td>\n",
       "      <td>0</td>\n",
       "      <td>5</td>\n",
       "    </tr>\n",
       "    <tr>\n",
       "      <th>1</th>\n",
       "      <td>49</td>\n",
       "      <td>No</td>\n",
       "      <td>Travel_Frequently</td>\n",
       "      <td>279</td>\n",
       "      <td>Research &amp; Development</td>\n",
       "      <td>8</td>\n",
       "      <td>1</td>\n",
       "      <td>Life Sciences</td>\n",
       "      <td>1</td>\n",
       "      <td>2</td>\n",
       "      <td>...</td>\n",
       "      <td>4</td>\n",
       "      <td>80</td>\n",
       "      <td>1</td>\n",
       "      <td>10</td>\n",
       "      <td>3</td>\n",
       "      <td>3</td>\n",
       "      <td>10</td>\n",
       "      <td>7</td>\n",
       "      <td>1</td>\n",
       "      <td>7</td>\n",
       "    </tr>\n",
       "    <tr>\n",
       "      <th>2</th>\n",
       "      <td>37</td>\n",
       "      <td>Yes</td>\n",
       "      <td>Travel_Rarely</td>\n",
       "      <td>1373</td>\n",
       "      <td>Research &amp; Development</td>\n",
       "      <td>2</td>\n",
       "      <td>2</td>\n",
       "      <td>Other</td>\n",
       "      <td>1</td>\n",
       "      <td>4</td>\n",
       "      <td>...</td>\n",
       "      <td>2</td>\n",
       "      <td>80</td>\n",
       "      <td>0</td>\n",
       "      <td>7</td>\n",
       "      <td>3</td>\n",
       "      <td>3</td>\n",
       "      <td>0</td>\n",
       "      <td>0</td>\n",
       "      <td>0</td>\n",
       "      <td>0</td>\n",
       "    </tr>\n",
       "    <tr>\n",
       "      <th>3</th>\n",
       "      <td>33</td>\n",
       "      <td>No</td>\n",
       "      <td>Travel_Frequently</td>\n",
       "      <td>1392</td>\n",
       "      <td>Research &amp; Development</td>\n",
       "      <td>3</td>\n",
       "      <td>4</td>\n",
       "      <td>Life Sciences</td>\n",
       "      <td>1</td>\n",
       "      <td>5</td>\n",
       "      <td>...</td>\n",
       "      <td>3</td>\n",
       "      <td>80</td>\n",
       "      <td>0</td>\n",
       "      <td>8</td>\n",
       "      <td>3</td>\n",
       "      <td>3</td>\n",
       "      <td>8</td>\n",
       "      <td>7</td>\n",
       "      <td>3</td>\n",
       "      <td>0</td>\n",
       "    </tr>\n",
       "    <tr>\n",
       "      <th>4</th>\n",
       "      <td>27</td>\n",
       "      <td>No</td>\n",
       "      <td>Travel_Rarely</td>\n",
       "      <td>591</td>\n",
       "      <td>Research &amp; Development</td>\n",
       "      <td>2</td>\n",
       "      <td>1</td>\n",
       "      <td>Medical</td>\n",
       "      <td>1</td>\n",
       "      <td>7</td>\n",
       "      <td>...</td>\n",
       "      <td>4</td>\n",
       "      <td>80</td>\n",
       "      <td>1</td>\n",
       "      <td>6</td>\n",
       "      <td>3</td>\n",
       "      <td>3</td>\n",
       "      <td>2</td>\n",
       "      <td>2</td>\n",
       "      <td>2</td>\n",
       "      <td>2</td>\n",
       "    </tr>\n",
       "    <tr>\n",
       "      <th>...</th>\n",
       "      <td>...</td>\n",
       "      <td>...</td>\n",
       "      <td>...</td>\n",
       "      <td>...</td>\n",
       "      <td>...</td>\n",
       "      <td>...</td>\n",
       "      <td>...</td>\n",
       "      <td>...</td>\n",
       "      <td>...</td>\n",
       "      <td>...</td>\n",
       "      <td>...</td>\n",
       "      <td>...</td>\n",
       "      <td>...</td>\n",
       "      <td>...</td>\n",
       "      <td>...</td>\n",
       "      <td>...</td>\n",
       "      <td>...</td>\n",
       "      <td>...</td>\n",
       "      <td>...</td>\n",
       "      <td>...</td>\n",
       "      <td>...</td>\n",
       "    </tr>\n",
       "    <tr>\n",
       "      <th>1465</th>\n",
       "      <td>36</td>\n",
       "      <td>No</td>\n",
       "      <td>Travel_Frequently</td>\n",
       "      <td>884</td>\n",
       "      <td>Research &amp; Development</td>\n",
       "      <td>23</td>\n",
       "      <td>2</td>\n",
       "      <td>Medical</td>\n",
       "      <td>1</td>\n",
       "      <td>2061</td>\n",
       "      <td>...</td>\n",
       "      <td>3</td>\n",
       "      <td>80</td>\n",
       "      <td>1</td>\n",
       "      <td>17</td>\n",
       "      <td>3</td>\n",
       "      <td>3</td>\n",
       "      <td>5</td>\n",
       "      <td>2</td>\n",
       "      <td>0</td>\n",
       "      <td>3</td>\n",
       "    </tr>\n",
       "    <tr>\n",
       "      <th>1466</th>\n",
       "      <td>39</td>\n",
       "      <td>No</td>\n",
       "      <td>Travel_Rarely</td>\n",
       "      <td>613</td>\n",
       "      <td>Research &amp; Development</td>\n",
       "      <td>6</td>\n",
       "      <td>1</td>\n",
       "      <td>Medical</td>\n",
       "      <td>1</td>\n",
       "      <td>2062</td>\n",
       "      <td>...</td>\n",
       "      <td>1</td>\n",
       "      <td>80</td>\n",
       "      <td>1</td>\n",
       "      <td>9</td>\n",
       "      <td>5</td>\n",
       "      <td>3</td>\n",
       "      <td>7</td>\n",
       "      <td>7</td>\n",
       "      <td>1</td>\n",
       "      <td>7</td>\n",
       "    </tr>\n",
       "    <tr>\n",
       "      <th>1467</th>\n",
       "      <td>27</td>\n",
       "      <td>No</td>\n",
       "      <td>Travel_Rarely</td>\n",
       "      <td>155</td>\n",
       "      <td>Research &amp; Development</td>\n",
       "      <td>4</td>\n",
       "      <td>3</td>\n",
       "      <td>Life Sciences</td>\n",
       "      <td>1</td>\n",
       "      <td>2064</td>\n",
       "      <td>...</td>\n",
       "      <td>2</td>\n",
       "      <td>80</td>\n",
       "      <td>1</td>\n",
       "      <td>6</td>\n",
       "      <td>0</td>\n",
       "      <td>3</td>\n",
       "      <td>6</td>\n",
       "      <td>2</td>\n",
       "      <td>0</td>\n",
       "      <td>3</td>\n",
       "    </tr>\n",
       "    <tr>\n",
       "      <th>1468</th>\n",
       "      <td>49</td>\n",
       "      <td>No</td>\n",
       "      <td>Travel_Frequently</td>\n",
       "      <td>1023</td>\n",
       "      <td>Sales</td>\n",
       "      <td>2</td>\n",
       "      <td>3</td>\n",
       "      <td>Medical</td>\n",
       "      <td>1</td>\n",
       "      <td>2065</td>\n",
       "      <td>...</td>\n",
       "      <td>4</td>\n",
       "      <td>80</td>\n",
       "      <td>0</td>\n",
       "      <td>17</td>\n",
       "      <td>3</td>\n",
       "      <td>2</td>\n",
       "      <td>9</td>\n",
       "      <td>6</td>\n",
       "      <td>0</td>\n",
       "      <td>8</td>\n",
       "    </tr>\n",
       "    <tr>\n",
       "      <th>1469</th>\n",
       "      <td>34</td>\n",
       "      <td>No</td>\n",
       "      <td>Travel_Rarely</td>\n",
       "      <td>628</td>\n",
       "      <td>Research &amp; Development</td>\n",
       "      <td>8</td>\n",
       "      <td>3</td>\n",
       "      <td>Medical</td>\n",
       "      <td>1</td>\n",
       "      <td>2068</td>\n",
       "      <td>...</td>\n",
       "      <td>1</td>\n",
       "      <td>80</td>\n",
       "      <td>0</td>\n",
       "      <td>6</td>\n",
       "      <td>3</td>\n",
       "      <td>4</td>\n",
       "      <td>4</td>\n",
       "      <td>3</td>\n",
       "      <td>1</td>\n",
       "      <td>2</td>\n",
       "    </tr>\n",
       "  </tbody>\n",
       "</table>\n",
       "<p>1470 rows × 35 columns</p>\n",
       "</div>"
      ],
      "text/plain": [
       "      Age Attrition     BusinessTravel  DailyRate              Department  \\\n",
       "0      41       Yes      Travel_Rarely       1102                   Sales   \n",
       "1      49        No  Travel_Frequently        279  Research & Development   \n",
       "2      37       Yes      Travel_Rarely       1373  Research & Development   \n",
       "3      33        No  Travel_Frequently       1392  Research & Development   \n",
       "4      27        No      Travel_Rarely        591  Research & Development   \n",
       "...   ...       ...                ...        ...                     ...   \n",
       "1465   36        No  Travel_Frequently        884  Research & Development   \n",
       "1466   39        No      Travel_Rarely        613  Research & Development   \n",
       "1467   27        No      Travel_Rarely        155  Research & Development   \n",
       "1468   49        No  Travel_Frequently       1023                   Sales   \n",
       "1469   34        No      Travel_Rarely        628  Research & Development   \n",
       "\n",
       "      DistanceFromHome  Education EducationField  EmployeeCount  \\\n",
       "0                    1          2  Life Sciences              1   \n",
       "1                    8          1  Life Sciences              1   \n",
       "2                    2          2          Other              1   \n",
       "3                    3          4  Life Sciences              1   \n",
       "4                    2          1        Medical              1   \n",
       "...                ...        ...            ...            ...   \n",
       "1465                23          2        Medical              1   \n",
       "1466                 6          1        Medical              1   \n",
       "1467                 4          3  Life Sciences              1   \n",
       "1468                 2          3        Medical              1   \n",
       "1469                 8          3        Medical              1   \n",
       "\n",
       "      EmployeeNumber  ...  RelationshipSatisfaction StandardHours  \\\n",
       "0                  1  ...                         1            80   \n",
       "1                  2  ...                         4            80   \n",
       "2                  4  ...                         2            80   \n",
       "3                  5  ...                         3            80   \n",
       "4                  7  ...                         4            80   \n",
       "...              ...  ...                       ...           ...   \n",
       "1465            2061  ...                         3            80   \n",
       "1466            2062  ...                         1            80   \n",
       "1467            2064  ...                         2            80   \n",
       "1468            2065  ...                         4            80   \n",
       "1469            2068  ...                         1            80   \n",
       "\n",
       "      StockOptionLevel  TotalWorkingYears  TrainingTimesLastYear  \\\n",
       "0                    0                  8                      0   \n",
       "1                    1                 10                      3   \n",
       "2                    0                  7                      3   \n",
       "3                    0                  8                      3   \n",
       "4                    1                  6                      3   \n",
       "...                ...                ...                    ...   \n",
       "1465                 1                 17                      3   \n",
       "1466                 1                  9                      5   \n",
       "1467                 1                  6                      0   \n",
       "1468                 0                 17                      3   \n",
       "1469                 0                  6                      3   \n",
       "\n",
       "     WorkLifeBalance  YearsAtCompany YearsInCurrentRole  \\\n",
       "0                  1               6                  4   \n",
       "1                  3              10                  7   \n",
       "2                  3               0                  0   \n",
       "3                  3               8                  7   \n",
       "4                  3               2                  2   \n",
       "...              ...             ...                ...   \n",
       "1465               3               5                  2   \n",
       "1466               3               7                  7   \n",
       "1467               3               6                  2   \n",
       "1468               2               9                  6   \n",
       "1469               4               4                  3   \n",
       "\n",
       "      YearsSinceLastPromotion  YearsWithCurrManager  \n",
       "0                           0                     5  \n",
       "1                           1                     7  \n",
       "2                           0                     0  \n",
       "3                           3                     0  \n",
       "4                           2                     2  \n",
       "...                       ...                   ...  \n",
       "1465                        0                     3  \n",
       "1466                        1                     7  \n",
       "1467                        0                     3  \n",
       "1468                        0                     8  \n",
       "1469                        1                     2  \n",
       "\n",
       "[1470 rows x 35 columns]"
      ]
     },
     "execution_count": 2,
     "metadata": {},
     "output_type": "execute_result"
    }
   ],
   "source": [
    "#Read csv file and convert into dataframe\n",
    "df = pd.read_csv(r\"WA_Fn-UseC_-HR-Employee-Attrition.csv\")\n",
    "df"
   ]
  },
  {
   "cell_type": "code",
   "execution_count": 3,
   "id": "d22de59e",
   "metadata": {},
   "outputs": [
    {
     "data": {
      "text/plain": [
       "Age                         0\n",
       "Attrition                   0\n",
       "BusinessTravel              0\n",
       "DailyRate                   0\n",
       "Department                  0\n",
       "DistanceFromHome            0\n",
       "Education                   0\n",
       "EducationField              0\n",
       "EmployeeCount               0\n",
       "EmployeeNumber              0\n",
       "EnvironmentSatisfaction     0\n",
       "Gender                      0\n",
       "HourlyRate                  0\n",
       "JobInvolvement              0\n",
       "JobLevel                    0\n",
       "JobRole                     0\n",
       "JobSatisfaction             0\n",
       "MaritalStatus               0\n",
       "MonthlyIncome               0\n",
       "MonthlyRate                 0\n",
       "NumCompaniesWorked          0\n",
       "Over18                      0\n",
       "OverTime                    0\n",
       "PercentSalaryHike           0\n",
       "PerformanceRating           0\n",
       "RelationshipSatisfaction    0\n",
       "StandardHours               0\n",
       "StockOptionLevel            0\n",
       "TotalWorkingYears           0\n",
       "TrainingTimesLastYear       0\n",
       "WorkLifeBalance             0\n",
       "YearsAtCompany              0\n",
       "YearsInCurrentRole          0\n",
       "YearsSinceLastPromotion     0\n",
       "YearsWithCurrManager        0\n",
       "dtype: int64"
      ]
     },
     "execution_count": 3,
     "metadata": {},
     "output_type": "execute_result"
    }
   ],
   "source": [
    "#lets check the null values in dataframe\n",
    "df.isnull().sum()"
   ]
  },
  {
   "cell_type": "markdown",
   "id": "a3d4be9d",
   "metadata": {},
   "source": [
    "Greate we don't have any null values in our data set."
   ]
  },
  {
   "cell_type": "code",
   "execution_count": 4,
   "id": "b5a9ce8e",
   "metadata": {},
   "outputs": [
    {
     "name": "stdout",
     "output_type": "stream",
     "text": [
      "<class 'pandas.core.frame.DataFrame'>\n",
      "RangeIndex: 1470 entries, 0 to 1469\n",
      "Data columns (total 35 columns):\n",
      " #   Column                    Non-Null Count  Dtype \n",
      "---  ------                    --------------  ----- \n",
      " 0   Age                       1470 non-null   int64 \n",
      " 1   Attrition                 1470 non-null   object\n",
      " 2   BusinessTravel            1470 non-null   object\n",
      " 3   DailyRate                 1470 non-null   int64 \n",
      " 4   Department                1470 non-null   object\n",
      " 5   DistanceFromHome          1470 non-null   int64 \n",
      " 6   Education                 1470 non-null   int64 \n",
      " 7   EducationField            1470 non-null   object\n",
      " 8   EmployeeCount             1470 non-null   int64 \n",
      " 9   EmployeeNumber            1470 non-null   int64 \n",
      " 10  EnvironmentSatisfaction   1470 non-null   int64 \n",
      " 11  Gender                    1470 non-null   object\n",
      " 12  HourlyRate                1470 non-null   int64 \n",
      " 13  JobInvolvement            1470 non-null   int64 \n",
      " 14  JobLevel                  1470 non-null   int64 \n",
      " 15  JobRole                   1470 non-null   object\n",
      " 16  JobSatisfaction           1470 non-null   int64 \n",
      " 17  MaritalStatus             1470 non-null   object\n",
      " 18  MonthlyIncome             1470 non-null   int64 \n",
      " 19  MonthlyRate               1470 non-null   int64 \n",
      " 20  NumCompaniesWorked        1470 non-null   int64 \n",
      " 21  Over18                    1470 non-null   object\n",
      " 22  OverTime                  1470 non-null   object\n",
      " 23  PercentSalaryHike         1470 non-null   int64 \n",
      " 24  PerformanceRating         1470 non-null   int64 \n",
      " 25  RelationshipSatisfaction  1470 non-null   int64 \n",
      " 26  StandardHours             1470 non-null   int64 \n",
      " 27  StockOptionLevel          1470 non-null   int64 \n",
      " 28  TotalWorkingYears         1470 non-null   int64 \n",
      " 29  TrainingTimesLastYear     1470 non-null   int64 \n",
      " 30  WorkLifeBalance           1470 non-null   int64 \n",
      " 31  YearsAtCompany            1470 non-null   int64 \n",
      " 32  YearsInCurrentRole        1470 non-null   int64 \n",
      " 33  YearsSinceLastPromotion   1470 non-null   int64 \n",
      " 34  YearsWithCurrManager      1470 non-null   int64 \n",
      "dtypes: int64(26), object(9)\n",
      "memory usage: 402.1+ KB\n"
     ]
    }
   ],
   "source": [
    "#look at the info of data\n",
    "df.info()"
   ]
  },
  {
   "cell_type": "markdown",
   "id": "dcccef3b",
   "metadata": {},
   "source": [
    "## EDA"
   ]
  },
  {
   "cell_type": "code",
   "execution_count": 5,
   "id": "c4fdc642",
   "metadata": {},
   "outputs": [],
   "source": [
    "#AT first lets convert our dependent variable (label) into numeric data\n",
    "from sklearn.preprocessing import LabelEncoder\n",
    "leb_enc = LabelEncoder()\n",
    "df2 = leb_enc.fit_transform(df[\"Attrition\"])\n",
    "pd.Series(df2)\n",
    "df[\"Attrition\"] = df2"
   ]
  },
  {
   "cell_type": "code",
   "execution_count": 6,
   "id": "a40c87e4",
   "metadata": {},
   "outputs": [
    {
     "data": {
      "image/png": "[encoded data removed]",
      "text/plain": [
       "<Figure size 432x288 with 1 Axes>"
      ]
     },
     "metadata": {
      "needs_background": "light"
     },
     "output_type": "display_data"
    }
   ],
   "source": [
    "#lets have a look on relation of every columns with attrition\n",
    "#age v/s attririon\n",
    "sns.barplot(x = \"Attrition\", y=\"Age\", data = df)\n",
    "plt.show()"
   ]
  },
  {
   "cell_type": "markdown",
   "id": "048e03d9",
   "metadata": {},
   "source": [
    "we can say that employees with more age than 33 years are more likely to stay in the company compared to employees with lesser age."
   ]
  },
  {
   "cell_type": "code",
   "execution_count": 7,
   "id": "f1e20a00",
   "metadata": {},
   "outputs": [
    {
     "data": {
      "image/png": "[encoded data removed]",
      "text/plain": [
       "<Figure size 432x288 with 1 Axes>"
      ]
     },
     "metadata": {
      "needs_background": "light"
     },
     "output_type": "display_data"
    }
   ],
   "source": [
    "#lets have a look on BusinessTravel column\n",
    "sns.countplot(x = \"BusinessTravel\", data = df)\n",
    "plt.show()"
   ]
  },
  {
   "cell_type": "markdown",
   "id": "7635ae11",
   "metadata": {},
   "source": [
    "This feature is having data of business related travel entries. Most of the elmployees travel rarely."
   ]
  },
  {
   "cell_type": "code",
   "execution_count": 8,
   "id": "285a23c6",
   "metadata": {},
   "outputs": [
    {
     "data": {
      "image/png": "[encoded data removed]",
      "text/plain": [
       "<Figure size 432x288 with 1 Axes>"
      ]
     },
     "metadata": {
      "needs_background": "light"
     },
     "output_type": "display_data"
    }
   ],
   "source": [
    "#lets visualize the relation of BusinessTravel with Attrition\n",
    "sns.countplot(x = \"BusinessTravel\", hue=\"Attrition\", data=df )\n",
    "plt.show()"
   ]
  },
  {
   "cell_type": "markdown",
   "id": "3966b97b",
   "metadata": {},
   "source": [
    "Here we can say when employees has to travel rarely or they don't have to travel the attrition is comparitively less.\n",
    "\n",
    "While when employees travels frequently the proportion of attrition increases."
   ]
  },
  {
   "cell_type": "code",
   "execution_count": 9,
   "id": "3a3463b7",
   "metadata": {},
   "outputs": [
    {
     "data": {
      "image/png": "[encoded data removed]",
      "text/plain": [
       "<Figure size 432x288 with 1 Axes>"
      ]
     },
     "metadata": {
      "needs_background": "light"
     },
     "output_type": "display_data"
    }
   ],
   "source": [
    "#lets look at the number of employees in each department\n",
    "sns.countplot(x= \"Department\", data=df)\n",
    "plt.show()"
   ]
  },
  {
   "cell_type": "markdown",
   "id": "655f3b2a",
   "metadata": {},
   "source": [
    "There are more number of employees in the department of Research and Development compared to sales and Human Resource department.\n",
    "\n",
    "Human Resources department has very less number of employees."
   ]
  },
  {
   "cell_type": "code",
   "execution_count": 10,
   "id": "33060451",
   "metadata": {},
   "outputs": [
    {
     "data": {
      "image/png": "[encoded data removed]",
      "text/plain": [
       "<Figure size 432x288 with 1 Axes>"
      ]
     },
     "metadata": {
      "needs_background": "light"
     },
     "output_type": "display_data"
    }
   ],
   "source": [
    "#lets visualize the relation of attrition with departments\n",
    "sns.countplot(x= \"Department\", hue = \"Attrition\", data=df)\n",
    "plt.show()"
   ]
  },
  {
   "cell_type": "markdown",
   "id": "b1175306",
   "metadata": {},
   "source": [
    "We can say R & D department is more stable compared to rest two. As the ratio of attrition in sales and HR department is arround 1:4\n",
    "    \n",
    "Where as in R&D department it is 1:9"
   ]
  },
  {
   "cell_type": "code",
   "execution_count": 11,
   "id": "0e28530c",
   "metadata": {},
   "outputs": [
    {
     "data": {
      "image/png": "[encoded data removed]",
      "text/plain": [
       "<Figure size 432x288 with 1 Axes>"
      ]
     },
     "metadata": {
      "needs_background": "light"
     },
     "output_type": "display_data"
    }
   ],
   "source": [
    "#lets see how the distance from home affects attrition\n",
    "sns.scatterplot( x = 'Attrition', y = 'DistanceFromHome', data = df)\n",
    "plt.show()"
   ]
  },
  {
   "cell_type": "markdown",
   "id": "39840ef0",
   "metadata": {},
   "source": [
    "* It looks quite difficult to conclude anything from this plot. here we can plot number of attrition (yes/no) for specific range of distance. \n",
    "\n",
    "* For that we need to devide the distance into two different ranges."
   ]
  },
  {
   "cell_type": "code",
   "execution_count": 12,
   "id": "a9ca568c",
   "metadata": {},
   "outputs": [
    {
     "data": {
      "image/png": "[encoded data removed]",
      "text/plain": [
       "<Figure size 432x288 with 1 Axes>"
      ]
     },
     "metadata": {
      "needs_background": "light"
     },
     "output_type": "display_data"
    }
   ],
   "source": [
    "#lets chcek when distance is above 15 kms how attrition occurs\n",
    "sns.countplot(x = \"Attrition\", data = df.loc[df[\"DistanceFromHome\"]>15])\n",
    "plt.show()"
   ]
  },
  {
   "cell_type": "markdown",
   "id": "58026c76",
   "metadata": {},
   "source": [
    "* By looking at the plot we can say at higher distance from home, nymber of attrition is very less."
   ]
  },
  {
   "cell_type": "code",
   "execution_count": 13,
   "id": "b0541adc",
   "metadata": {},
   "outputs": [
    {
     "data": {
      "image/png": "[encoded data removed]",
      "text/plain": [
       "<Figure size 432x288 with 1 Axes>"
      ]
     },
     "metadata": {
      "needs_background": "light"
     },
     "output_type": "display_data"
    }
   ],
   "source": [
    "#lets see how education parameter is given\n",
    "sns.distplot(df['Education'])\n",
    "plt.show()"
   ]
  },
  {
   "cell_type": "markdown",
   "id": "fa5bfe7b",
   "metadata": {},
   "source": [
    "* The education is given in the range of 1 to 5, from this plot it looks like at level 3 the number of counts is maximum.\n",
    "\n",
    "* Lets visualize using count plot."
   ]
  },
  {
   "cell_type": "code",
   "execution_count": 14,
   "id": "14af5a1b",
   "metadata": {},
   "outputs": [
    {
     "data": {
      "image/png": "[encoded data removed]",
      "text/plain": [
       "<Figure size 432x288 with 1 Axes>"
      ]
     },
     "metadata": {
      "needs_background": "light"
     },
     "output_type": "display_data"
    }
   ],
   "source": [
    "sns.countplot(x= \"Education\", hue = \"Attrition\", data=df)\n",
    "plt.show()"
   ]
  },
  {
   "cell_type": "markdown",
   "id": "4e2a1148",
   "metadata": {},
   "source": [
    "* It seems like this feature is not affects much to attrition, as the ratio of attrition at every level looks nearly same."
   ]
  },
  {
   "cell_type": "code",
   "execution_count": 15,
   "id": "bc5a3fbc",
   "metadata": {},
   "outputs": [
    {
     "data": {
      "text/plain": [
       "array(['Life Sciences', 'Other', 'Medical', 'Marketing',\n",
       "       'Technical Degree', 'Human Resources'], dtype=object)"
      ]
     },
     "execution_count": 15,
     "metadata": {},
     "output_type": "execute_result"
    }
   ],
   "source": [
    "#lets check elements in the column - EducationField\n",
    "df[\"EducationField\"].unique()"
   ]
  },
  {
   "cell_type": "code",
   "execution_count": 16,
   "id": "05f1891e",
   "metadata": {},
   "outputs": [
    {
     "data": {
      "image/png": "[encoded data removed]",
      "text/plain": [
       "<Figure size 864x288 with 1 Axes>"
      ]
     },
     "metadata": {
      "needs_background": "light"
     },
     "output_type": "display_data"
    }
   ],
   "source": [
    "#visualize the data in the column EducationField using countplot\n",
    "plt.figure(figsize=(12,4))\n",
    "sns.countplot( x = \"EducationField\", hue = \"Attrition\", data = df )\n",
    "plt.show()"
   ]
  },
  {
   "cell_type": "markdown",
   "id": "72122be4",
   "metadata": {},
   "source": [
    "* There are more number of employees from life science and medical fields. and also less atrition is observed in the employees from these fields.\n",
    "\n",
    "* Very less number of employees belongs to HR and Other fields, and employees from HR field has more attrition rate.\n",
    "\n",
    "* Employees from technical and marketing fields are moderate in number and has attrition ratio around 3:10"
   ]
  },
  {
   "cell_type": "code",
   "execution_count": 17,
   "id": "114754b2",
   "metadata": {},
   "outputs": [
    {
     "data": {
      "text/plain": [
       "array([1], dtype=int64)"
      ]
     },
     "execution_count": 17,
     "metadata": {},
     "output_type": "execute_result"
    }
   ],
   "source": [
    "#lets check entries in the column EmployeeCount\n",
    "df['EmployeeCount'].unique()"
   ]
  },
  {
   "cell_type": "code",
   "execution_count": 18,
   "id": "a21611aa",
   "metadata": {},
   "outputs": [],
   "source": [
    "#here in the column EmployeeCount having same entries in entire dataset, so we can drop this feature\n",
    "df.drop(columns = 'EmployeeCount', inplace = True)"
   ]
  },
  {
   "cell_type": "code",
   "execution_count": 19,
   "id": "9660b1a7",
   "metadata": {},
   "outputs": [
    {
     "data": {
      "text/plain": [
       "2048    1\n",
       "1368    1\n",
       "1364    1\n",
       "1363    1\n",
       "1362    1\n",
       "       ..\n",
       "648     1\n",
       "647     1\n",
       "645     1\n",
       "644     1\n",
       "2046    1\n",
       "Name: EmployeeNumber, Length: 1470, dtype: int64"
      ]
     },
     "execution_count": 19,
     "metadata": {},
     "output_type": "execute_result"
    }
   ],
   "source": [
    "#lets check the entries in the column EmployeeNumber\n",
    "df[\"EmployeeNumber\"].value_counts()\n",
    "#this will tell us this feature is not contributing to attrition, so we can drop this"
   ]
  },
  {
   "cell_type": "code",
   "execution_count": 20,
   "id": "09e12599",
   "metadata": {},
   "outputs": [],
   "source": [
    "df.drop(columns = \"EmployeeNumber\", inplace = True)"
   ]
  },
  {
   "cell_type": "code",
   "execution_count": 21,
   "id": "e4dc506e",
   "metadata": {},
   "outputs": [
    {
     "data": {
      "image/png": "[encoded data removed]",
      "text/plain": [
       "<Figure size 432x288 with 1 Axes>"
      ]
     },
     "metadata": {
      "needs_background": "light"
     },
     "output_type": "display_data"
    }
   ],
   "source": [
    "#lets have a look at EnvironmentSatisfaction feature\n",
    "sns.countplot( x = \"EnvironmentSatisfaction\", hue = \"Attrition\", data = df)\n",
    "plt.show()"
   ]
  },
  {
   "cell_type": "markdown",
   "id": "8bdc4209",
   "metadata": {},
   "source": [
    "* The EnvironmentSatisfaction is given in 4 different levels.\n",
    "\n",
    "* At higher EnvironmentSatisfaction that is 3 & 4 the attrition ratio is very less whereas at lower EnvironmentSatisfaction at 1, the ratio becomes more."
   ]
  },
  {
   "cell_type": "code",
   "execution_count": 22,
   "id": "2fb66ff1",
   "metadata": {},
   "outputs": [
    {
     "data": {
      "image/png": "[encoded data removed]",
      "text/plain": [
       "<Figure size 432x288 with 1 Axes>"
      ]
     },
     "metadata": {
      "needs_background": "light"
     },
     "output_type": "display_data"
    }
   ],
   "source": [
    "#lets chcek the attrition ratio based on employee gender\n",
    "sns.countplot(x = \"Gender\", hue=\"Attrition\", data=df)\n",
    "plt.show()"
   ]
  },
  {
   "cell_type": "markdown",
   "id": "246396f1",
   "metadata": {},
   "source": [
    "* Attrition rate looks slightly more in the case of female employees than male employees."
   ]
  },
  {
   "cell_type": "code",
   "execution_count": 23,
   "id": "56c01c12",
   "metadata": {},
   "outputs": [
    {
     "data": {
      "image/png": "[encoded data removed]",
      "text/plain": [
       "<Figure size 720x288 with 1 Axes>"
      ]
     },
     "metadata": {
      "needs_background": "light"
     },
     "output_type": "display_data"
    }
   ],
   "source": [
    "#The HourlyRate may be depends on Education fields, lets have a look\n",
    "plt.figure(figsize=(10,4))\n",
    "sns.barplot(x = \"EducationField\", y = \"HourlyRate\", data = df)\n",
    "plt.show()"
   ]
  },
  {
   "cell_type": "markdown",
   "id": "4e331d9b",
   "metadata": {},
   "source": [
    "* the HourlyRate is quite less in the case of HR and Other fields compared to other departments."
   ]
  },
  {
   "cell_type": "code",
   "execution_count": 24,
   "id": "acefd656",
   "metadata": {},
   "outputs": [
    {
     "data": {
      "image/png": "[encoded data removed]",
      "text/plain": [
       "<Figure size 432x288 with 1 Axes>"
      ]
     },
     "metadata": {
      "needs_background": "light"
     },
     "output_type": "display_data"
    }
   ],
   "source": [
    "#lets see how job involvement affects attrition \n",
    "sns.countplot( x = \"JobInvolvement\", hue = \"Attrition\", data = df)\n",
    "plt.show()"
   ]
  },
  {
   "cell_type": "markdown",
   "id": "73e5e227",
   "metadata": {},
   "source": [
    "* It shows if the job involvement is less then the attrition will be more.\n",
    "\n",
    "* At higher job involvement the attrition rate will be less"
   ]
  },
  {
   "cell_type": "code",
   "execution_count": 25,
   "id": "e78c4d0e",
   "metadata": {},
   "outputs": [
    {
     "data": {
      "image/png": "[encoded data removed]",
      "text/plain": [
       "<Figure size 432x288 with 1 Axes>"
      ]
     },
     "metadata": {
      "needs_background": "light"
     },
     "output_type": "display_data"
    }
   ],
   "source": [
    "#JobLevel v/s Attrition\n",
    "sns.countplot(x = \"JobLevel\", hue = \"Attrition\", data = df)\n",
    "plt.show()"
   ]
  },
  {
   "cell_type": "markdown",
   "id": "89834ea8",
   "metadata": {},
   "source": [
    "* We can see at maximum job attrition will found at lower job level.\n",
    "\n",
    "* the attrition rate is much lower at higher job level compared to lower job level."
   ]
  },
  {
   "cell_type": "code",
   "execution_count": 26,
   "id": "f2164622",
   "metadata": {},
   "outputs": [
    {
     "data": {
      "image/png": "[encoded data removed]",
      "text/plain": [
       "<Figure size 432x288 with 1 Axes>"
      ]
     },
     "metadata": {
      "needs_background": "light"
     },
     "output_type": "display_data"
    }
   ],
   "source": [
    "#lets see effect of JobSatisfaction on attrition\n",
    "sns.countplot( x = \"JobSatisfaction\", hue = \"Attrition\", data = df)\n",
    "plt.show()"
   ]
  },
  {
   "cell_type": "markdown",
   "id": "ab696a15",
   "metadata": {},
   "source": [
    "* Here also we can say if employee is much satisfied with what he is doing the attrition rate becomes lower"
   ]
  },
  {
   "cell_type": "code",
   "execution_count": 27,
   "id": "06e3f528",
   "metadata": {},
   "outputs": [
    {
     "data": {
      "image/png": "[encoded data removed]",
      "text/plain": [
       "<Figure size 1728x288 with 1 Axes>"
      ]
     },
     "metadata": {
      "needs_background": "light"
     },
     "output_type": "display_data"
    }
   ],
   "source": [
    "#Lets chcek the attrition based on each job role\n",
    "plt.figure(figsize=(24,4))\n",
    "sns.countplot(x = \"JobRole\", hue = \"Attrition\", data=df)\n",
    "plt.show()"
   ]
  },
  {
   "cell_type": "markdown",
   "id": "a44543cf",
   "metadata": {},
   "source": [
    "* From this we can analyze the attrition ratio with respect to every category."
   ]
  },
  {
   "cell_type": "code",
   "execution_count": 28,
   "id": "0b600f47",
   "metadata": {},
   "outputs": [
    {
     "data": {
      "image/png": "[encoded data removed]",
      "text/plain": [
       "<Figure size 432x288 with 1 Axes>"
      ]
     },
     "metadata": {
      "needs_background": "light"
     },
     "output_type": "display_data"
    }
   ],
   "source": [
    "#Lets chcek the attrition ratio in MaritalStatus\n",
    "sns.countplot(x = \"MaritalStatus\", hue=\"Attrition\", data=df)\n",
    "plt.show()"
   ]
  },
  {
   "cell_type": "markdown",
   "id": "ab0846ba",
   "metadata": {},
   "source": [
    "* The attrition rate is more in the case of singals compared to other two categories."
   ]
  },
  {
   "cell_type": "code",
   "execution_count": 29,
   "id": "7af22861",
   "metadata": {},
   "outputs": [
    {
     "data": {
      "image/png": "[encoded data removed]",
      "text/plain": [
       "<Figure size 720x288 with 1 Axes>"
      ]
     },
     "metadata": {
      "needs_background": "light"
     },
     "output_type": "display_data"
    }
   ],
   "source": [
    "# the monthly rate may be depends on education field, lets check\n",
    "plt.figure(figsize=(10,4))\n",
    "sns.barplot( x = \"EducationField\", y = \"MonthlyRate\", data = df)\n",
    "plt.show()"
   ]
  },
  {
   "cell_type": "markdown",
   "id": "b60e05c3",
   "metadata": {},
   "source": [
    "* From above bar plot we can say the monthly income is less for other fields compared to rest"
   ]
  },
  {
   "cell_type": "code",
   "execution_count": 30,
   "id": "434a8897",
   "metadata": {},
   "outputs": [
    {
     "data": {
      "image/png": "[encoded data removed]",
      "text/plain": [
       "<Figure size 432x288 with 1 Axes>"
      ]
     },
     "metadata": {
      "needs_background": "light"
     },
     "output_type": "display_data"
    }
   ],
   "source": [
    "#lets see how MonthlyIncome will affects Attrition\n",
    "sns.boxplot(x = \"Attrition\", y = \"MonthlyIncome\", data = df)\n",
    "plt.show()"
   ]
  },
  {
   "cell_type": "markdown",
   "id": "76cf0aab",
   "metadata": {},
   "source": [
    "* This will tell us at higher monthly rates the attrition is less."
   ]
  },
  {
   "cell_type": "code",
   "execution_count": 31,
   "id": "a4bf1063",
   "metadata": {},
   "outputs": [
    {
     "data": {
      "image/png": "[encoded data removed]",
      "text/plain": [
       "<Figure size 432x288 with 1 Axes>"
      ]
     },
     "metadata": {
      "needs_background": "light"
     },
     "output_type": "display_data"
    }
   ],
   "source": [
    "#Lets compare attrition based on overtime\n",
    "sns.countplot(x = \"OverTime\", hue = \"Attrition\", data=df)\n",
    "plt.show()\n",
    "#Below if graph clearly shows if overtime is there then attrition proportion is higher"
   ]
  },
  {
   "cell_type": "markdown",
   "id": "fb14a702",
   "metadata": {},
   "source": [
    "* we can say employees that are not doing overtime has very less attrition rates than that of who are doing overtime."
   ]
  },
  {
   "cell_type": "code",
   "execution_count": 32,
   "id": "a68a53f1",
   "metadata": {},
   "outputs": [
    {
     "data": {
      "image/png": "[encoded data removed]",
      "text/plain": [
       "<Figure size 432x288 with 1 Axes>"
      ]
     },
     "metadata": {
      "needs_background": "light"
     },
     "output_type": "display_data"
    }
   ],
   "source": [
    "# lets check effect of NumCompaniesWorked on attrition rate\n",
    "sns.countplot(x = \"NumCompaniesWorked\", hue = \"Attrition\", data = df)\n",
    "plt.show()"
   ]
  },
  {
   "cell_type": "markdown",
   "id": "34af2b2b",
   "metadata": {},
   "source": [
    "* Freshers has very less attrition rate compared to others\n",
    "\n"
   ]
  },
  {
   "cell_type": "code",
   "execution_count": 33,
   "id": "2e096975",
   "metadata": {},
   "outputs": [
    {
     "data": {
      "text/plain": [
       "array(['Y'], dtype=object)"
      ]
     },
     "execution_count": 33,
     "metadata": {},
     "output_type": "execute_result"
    }
   ],
   "source": [
    "#lets hav a look on Over18 columns\n",
    "df[\"Over18\"].unique()\n",
    "#this column has only one type of entry, its not giving any contribution to attrition, we can drop this feature"
   ]
  },
  {
   "cell_type": "code",
   "execution_count": 34,
   "id": "e6ecf4f4",
   "metadata": {},
   "outputs": [],
   "source": [
    "df.drop(columns = \"Over18\", inplace = True)"
   ]
  },
  {
   "cell_type": "code",
   "execution_count": 35,
   "id": "b2c53fef",
   "metadata": {},
   "outputs": [
    {
     "data": {
      "image/png": "[encoded data removed]",
      "text/plain": [
       "<Figure size 432x288 with 1 Axes>"
      ]
     },
     "metadata": {
      "needs_background": "light"
     },
     "output_type": "display_data"
    }
   ],
   "source": [
    "#Now lets check how performnce rating is afecting attrition level\n",
    "sns.countplot(x = \"PerformanceRating\", data = df.loc[df[\"Attrition\"]==1])\n",
    "plt.show()"
   ]
  },
  {
   "cell_type": "markdown",
   "id": "f69e50bf",
   "metadata": {},
   "source": [
    "May be since employees expect that their work deserves more rating and is undervalued,\n",
    "almost all the people left who got performance rating 3."
   ]
  },
  {
   "cell_type": "code",
   "execution_count": 36,
   "id": "9a720954",
   "metadata": {},
   "outputs": [
    {
     "data": {
      "image/png": "[encoded data removed]",
      "text/plain": [
       "<Figure size 432x288 with 1 Axes>"
      ]
     },
     "metadata": {
      "needs_background": "light"
     },
     "output_type": "display_data"
    }
   ],
   "source": [
    "#Lets have a look on how YearsWithCurrManager will affects attrition\n",
    "sns.countplot(x = \"YearsWithCurrManager\", data = df.loc[df[\"Attrition\"]==1])\n",
    "plt.show()"
   ]
  },
  {
   "cell_type": "markdown",
   "id": "1eb3f29a",
   "metadata": {},
   "source": [
    "* Here we can see if YearsWithCurrManager is 0 the attrition rate becomes very high, and same in the case of employees who are working for 2 years as a current manager left the jobs.\n",
    "\n",
    "* It may be due to the lack of interest in new projects or new working environment anything like that.\n"
   ]
  },
  {
   "cell_type": "code",
   "execution_count": 37,
   "id": "a2247133",
   "metadata": {},
   "outputs": [
    {
     "data": {
      "image/png": "[encoded data removed]",
      "text/plain": [
       "<Figure size 432x288 with 1 Axes>"
      ]
     },
     "metadata": {
      "needs_background": "light"
     },
     "output_type": "display_data"
    }
   ],
   "source": [
    "# Attrition rates based on working years of the employees \n",
    "sns.barplot(x = \"Attrition\", y = \"YearsAtCompany\", data=df)\n",
    "plt.show()\n"
   ]
  },
  {
   "cell_type": "markdown",
   "id": "9fb72093",
   "metadata": {},
   "source": [
    "* here we get what is the average number of years employee is staying in the company before leaving"
   ]
  },
  {
   "cell_type": "code",
   "execution_count": 38,
   "id": "bac366d3",
   "metadata": {},
   "outputs": [
    {
     "data": {
      "image/png": "[encoded data removed]",
      "text/plain": [
       "<Figure size 432x288 with 1 Axes>"
      ]
     },
     "metadata": {
      "needs_background": "light"
     },
     "output_type": "display_data"
    }
   ],
   "source": [
    "#lets chcek the work life balance with attrition\n",
    "sns.countplot(x = \"WorkLifeBalance\", data = df.loc[df[\"Attrition\"]==1])\n",
    "plt.show()"
   ]
  },
  {
   "cell_type": "code",
   "execution_count": 39,
   "id": "c23d62d8",
   "metadata": {},
   "outputs": [
    {
     "data": {
      "text/plain": [
       "array([80], dtype=int64)"
      ]
     },
     "execution_count": 39,
     "metadata": {},
     "output_type": "execute_result"
    }
   ],
   "source": [
    "#lets check the entries in StandardHours column\n",
    "df[\"StandardHours\"].unique()\n",
    "#Here we see that StandardHours has same value throughout"
   ]
  },
  {
   "cell_type": "code",
   "execution_count": 40,
   "id": "84f20884",
   "metadata": {},
   "outputs": [],
   "source": [
    "#Lets drop StandardHours as it will not proovide any infrmation\n",
    "df.drop(columns = \"StandardHours\", inplace = True)"
   ]
  },
  {
   "cell_type": "code",
   "execution_count": 41,
   "id": "d54a1323",
   "metadata": {},
   "outputs": [
    {
     "data": {
      "image/png": "[encoded data removed]",
      "text/plain": [
       "<Figure size 1800x1080 with 2 Axes>"
      ]
     },
     "metadata": {
      "needs_background": "light"
     },
     "output_type": "display_data"
    }
   ],
   "source": [
    "#Lets plot heatmap to check correlation among differnt features and label\n",
    "df_corr = df.corr()\n",
    "plt.figure(figsize = (25,15))\n",
    "sns.heatmap(df_corr,vmin=-1,vmax=1,annot=True,square=True,center=0,fmt='.2g',linewidths=0.1)\n",
    "plt.tight_layout()"
   ]
  },
  {
   "cell_type": "markdown",
   "id": "9a6a20b2",
   "metadata": {},
   "source": [
    "* From heat map we can say that the features monthly income is totally arround 95% depends on jib level of employee.\n",
    "\n",
    "* Features like age, job level, monthlyincome, Totalworkingyears, years at company, years in current role, years since last promotion, and years with current manager are showing some relation between one another.\n",
    "\n",
    "* Other features are not showing strong relation between them.\n",
    "\n",
    "* All features are giving very small contribution to attrition."
   ]
  },
  {
   "cell_type": "code",
   "execution_count": 42,
   "id": "6384eb5a",
   "metadata": {},
   "outputs": [
    {
     "data": {
      "text/html": [
       "<div>\n",
       "<style scoped>\n",
       "    .dataframe tbody tr th:only-of-type {\n",
       "        vertical-align: middle;\n",
       "    }\n",
       "\n",
       "    .dataframe tbody tr th {\n",
       "        vertical-align: top;\n",
       "    }\n",
       "\n",
       "    .dataframe thead th {\n",
       "        text-align: right;\n",
       "    }\n",
       "</style>\n",
       "<table border=\"1\" class=\"dataframe\">\n",
       "  <thead>\n",
       "    <tr style=\"text-align: right;\">\n",
       "      <th></th>\n",
       "      <th>Age</th>\n",
       "      <th>Attrition</th>\n",
       "      <th>DailyRate</th>\n",
       "      <th>DistanceFromHome</th>\n",
       "      <th>Education</th>\n",
       "      <th>EnvironmentSatisfaction</th>\n",
       "      <th>HourlyRate</th>\n",
       "      <th>JobInvolvement</th>\n",
       "      <th>JobLevel</th>\n",
       "      <th>JobSatisfaction</th>\n",
       "      <th>...</th>\n",
       "      <th>PerformanceRating</th>\n",
       "      <th>RelationshipSatisfaction</th>\n",
       "      <th>StockOptionLevel</th>\n",
       "      <th>TotalWorkingYears</th>\n",
       "      <th>TrainingTimesLastYear</th>\n",
       "      <th>WorkLifeBalance</th>\n",
       "      <th>YearsAtCompany</th>\n",
       "      <th>YearsInCurrentRole</th>\n",
       "      <th>YearsSinceLastPromotion</th>\n",
       "      <th>YearsWithCurrManager</th>\n",
       "    </tr>\n",
       "  </thead>\n",
       "  <tbody>\n",
       "    <tr>\n",
       "      <th>count</th>\n",
       "      <td>1470.000000</td>\n",
       "      <td>1470.000000</td>\n",
       "      <td>1470.000000</td>\n",
       "      <td>1470.000000</td>\n",
       "      <td>1470.000000</td>\n",
       "      <td>1470.000000</td>\n",
       "      <td>1470.000000</td>\n",
       "      <td>1470.000000</td>\n",
       "      <td>1470.000000</td>\n",
       "      <td>1470.000000</td>\n",
       "      <td>...</td>\n",
       "      <td>1470.000000</td>\n",
       "      <td>1470.000000</td>\n",
       "      <td>1470.000000</td>\n",
       "      <td>1470.000000</td>\n",
       "      <td>1470.000000</td>\n",
       "      <td>1470.000000</td>\n",
       "      <td>1470.000000</td>\n",
       "      <td>1470.000000</td>\n",
       "      <td>1470.000000</td>\n",
       "      <td>1470.000000</td>\n",
       "    </tr>\n",
       "    <tr>\n",
       "      <th>mean</th>\n",
       "      <td>36.923810</td>\n",
       "      <td>0.161224</td>\n",
       "      <td>802.485714</td>\n",
       "      <td>9.192517</td>\n",
       "      <td>2.912925</td>\n",
       "      <td>2.721769</td>\n",
       "      <td>65.891156</td>\n",
       "      <td>2.729932</td>\n",
       "      <td>2.063946</td>\n",
       "      <td>2.728571</td>\n",
       "      <td>...</td>\n",
       "      <td>3.153741</td>\n",
       "      <td>2.712245</td>\n",
       "      <td>0.793878</td>\n",
       "      <td>11.279592</td>\n",
       "      <td>2.799320</td>\n",
       "      <td>2.761224</td>\n",
       "      <td>7.008163</td>\n",
       "      <td>4.229252</td>\n",
       "      <td>2.187755</td>\n",
       "      <td>4.123129</td>\n",
       "    </tr>\n",
       "    <tr>\n",
       "      <th>std</th>\n",
       "      <td>9.135373</td>\n",
       "      <td>0.367863</td>\n",
       "      <td>403.509100</td>\n",
       "      <td>8.106864</td>\n",
       "      <td>1.024165</td>\n",
       "      <td>1.093082</td>\n",
       "      <td>20.329428</td>\n",
       "      <td>0.711561</td>\n",
       "      <td>1.106940</td>\n",
       "      <td>1.102846</td>\n",
       "      <td>...</td>\n",
       "      <td>0.360824</td>\n",
       "      <td>1.081209</td>\n",
       "      <td>0.852077</td>\n",
       "      <td>7.780782</td>\n",
       "      <td>1.289271</td>\n",
       "      <td>0.706476</td>\n",
       "      <td>6.126525</td>\n",
       "      <td>3.623137</td>\n",
       "      <td>3.222430</td>\n",
       "      <td>3.568136</td>\n",
       "    </tr>\n",
       "    <tr>\n",
       "      <th>min</th>\n",
       "      <td>18.000000</td>\n",
       "      <td>0.000000</td>\n",
       "      <td>102.000000</td>\n",
       "      <td>1.000000</td>\n",
       "      <td>1.000000</td>\n",
       "      <td>1.000000</td>\n",
       "      <td>30.000000</td>\n",
       "      <td>1.000000</td>\n",
       "      <td>1.000000</td>\n",
       "      <td>1.000000</td>\n",
       "      <td>...</td>\n",
       "      <td>3.000000</td>\n",
       "      <td>1.000000</td>\n",
       "      <td>0.000000</td>\n",
       "      <td>0.000000</td>\n",
       "      <td>0.000000</td>\n",
       "      <td>1.000000</td>\n",
       "      <td>0.000000</td>\n",
       "      <td>0.000000</td>\n",
       "      <td>0.000000</td>\n",
       "      <td>0.000000</td>\n",
       "    </tr>\n",
       "    <tr>\n",
       "      <th>25%</th>\n",
       "      <td>30.000000</td>\n",
       "      <td>0.000000</td>\n",
       "      <td>465.000000</td>\n",
       "      <td>2.000000</td>\n",
       "      <td>2.000000</td>\n",
       "      <td>2.000000</td>\n",
       "      <td>48.000000</td>\n",
       "      <td>2.000000</td>\n",
       "      <td>1.000000</td>\n",
       "      <td>2.000000</td>\n",
       "      <td>...</td>\n",
       "      <td>3.000000</td>\n",
       "      <td>2.000000</td>\n",
       "      <td>0.000000</td>\n",
       "      <td>6.000000</td>\n",
       "      <td>2.000000</td>\n",
       "      <td>2.000000</td>\n",
       "      <td>3.000000</td>\n",
       "      <td>2.000000</td>\n",
       "      <td>0.000000</td>\n",
       "      <td>2.000000</td>\n",
       "    </tr>\n",
       "    <tr>\n",
       "      <th>50%</th>\n",
       "      <td>36.000000</td>\n",
       "      <td>0.000000</td>\n",
       "      <td>802.000000</td>\n",
       "      <td>7.000000</td>\n",
       "      <td>3.000000</td>\n",
       "      <td>3.000000</td>\n",
       "      <td>66.000000</td>\n",
       "      <td>3.000000</td>\n",
       "      <td>2.000000</td>\n",
       "      <td>3.000000</td>\n",
       "      <td>...</td>\n",
       "      <td>3.000000</td>\n",
       "      <td>3.000000</td>\n",
       "      <td>1.000000</td>\n",
       "      <td>10.000000</td>\n",
       "      <td>3.000000</td>\n",
       "      <td>3.000000</td>\n",
       "      <td>5.000000</td>\n",
       "      <td>3.000000</td>\n",
       "      <td>1.000000</td>\n",
       "      <td>3.000000</td>\n",
       "    </tr>\n",
       "    <tr>\n",
       "      <th>75%</th>\n",
       "      <td>43.000000</td>\n",
       "      <td>0.000000</td>\n",
       "      <td>1157.000000</td>\n",
       "      <td>14.000000</td>\n",
       "      <td>4.000000</td>\n",
       "      <td>4.000000</td>\n",
       "      <td>83.750000</td>\n",
       "      <td>3.000000</td>\n",
       "      <td>3.000000</td>\n",
       "      <td>4.000000</td>\n",
       "      <td>...</td>\n",
       "      <td>3.000000</td>\n",
       "      <td>4.000000</td>\n",
       "      <td>1.000000</td>\n",
       "      <td>15.000000</td>\n",
       "      <td>3.000000</td>\n",
       "      <td>3.000000</td>\n",
       "      <td>9.000000</td>\n",
       "      <td>7.000000</td>\n",
       "      <td>3.000000</td>\n",
       "      <td>7.000000</td>\n",
       "    </tr>\n",
       "    <tr>\n",
       "      <th>max</th>\n",
       "      <td>60.000000</td>\n",
       "      <td>1.000000</td>\n",
       "      <td>1499.000000</td>\n",
       "      <td>29.000000</td>\n",
       "      <td>5.000000</td>\n",
       "      <td>4.000000</td>\n",
       "      <td>100.000000</td>\n",
       "      <td>4.000000</td>\n",
       "      <td>5.000000</td>\n",
       "      <td>4.000000</td>\n",
       "      <td>...</td>\n",
       "      <td>4.000000</td>\n",
       "      <td>4.000000</td>\n",
       "      <td>3.000000</td>\n",
       "      <td>40.000000</td>\n",
       "      <td>6.000000</td>\n",
       "      <td>4.000000</td>\n",
       "      <td>40.000000</td>\n",
       "      <td>18.000000</td>\n",
       "      <td>15.000000</td>\n",
       "      <td>17.000000</td>\n",
       "    </tr>\n",
       "  </tbody>\n",
       "</table>\n",
       "<p>8 rows × 24 columns</p>\n",
       "</div>"
      ],
      "text/plain": [
       "               Age    Attrition    DailyRate  DistanceFromHome    Education  \\\n",
       "count  1470.000000  1470.000000  1470.000000       1470.000000  1470.000000   \n",
       "mean     36.923810     0.161224   802.485714          9.192517     2.912925   \n",
       "std       9.135373     0.367863   403.509100          8.106864     1.024165   \n",
       "min      18.000000     0.000000   102.000000          1.000000     1.000000   \n",
       "25%      30.000000     0.000000   465.000000          2.000000     2.000000   \n",
       "50%      36.000000     0.000000   802.000000          7.000000     3.000000   \n",
       "75%      43.000000     0.000000  1157.000000         14.000000     4.000000   \n",
       "max      60.000000     1.000000  1499.000000         29.000000     5.000000   \n",
       "\n",
       "       EnvironmentSatisfaction   HourlyRate  JobInvolvement     JobLevel  \\\n",
       "count              1470.000000  1470.000000     1470.000000  1470.000000   \n",
       "mean                  2.721769    65.891156        2.729932     2.063946   \n",
       "std                   1.093082    20.329428        0.711561     1.106940   \n",
       "min                   1.000000    30.000000        1.000000     1.000000   \n",
       "25%                   2.000000    48.000000        2.000000     1.000000   \n",
       "50%                   3.000000    66.000000        3.000000     2.000000   \n",
       "75%                   4.000000    83.750000        3.000000     3.000000   \n",
       "max                   4.000000   100.000000        4.000000     5.000000   \n",
       "\n",
       "       JobSatisfaction  ...  PerformanceRating  RelationshipSatisfaction  \\\n",
       "count      1470.000000  ...        1470.000000               1470.000000   \n",
       "mean          2.728571  ...           3.153741                  2.712245   \n",
       "std           1.102846  ...           0.360824                  1.081209   \n",
       "min           1.000000  ...           3.000000                  1.000000   \n",
       "25%           2.000000  ...           3.000000                  2.000000   \n",
       "50%           3.000000  ...           3.000000                  3.000000   \n",
       "75%           4.000000  ...           3.000000                  4.000000   \n",
       "max           4.000000  ...           4.000000                  4.000000   \n",
       "\n",
       "       StockOptionLevel  TotalWorkingYears  TrainingTimesLastYear  \\\n",
       "count       1470.000000        1470.000000            1470.000000   \n",
       "mean           0.793878          11.279592               2.799320   \n",
       "std            0.852077           7.780782               1.289271   \n",
       "min            0.000000           0.000000               0.000000   \n",
       "25%            0.000000           6.000000               2.000000   \n",
       "50%            1.000000          10.000000               3.000000   \n",
       "75%            1.000000          15.000000               3.000000   \n",
       "max            3.000000          40.000000               6.000000   \n",
       "\n",
       "       WorkLifeBalance  YearsAtCompany  YearsInCurrentRole  \\\n",
       "count      1470.000000     1470.000000         1470.000000   \n",
       "mean          2.761224        7.008163            4.229252   \n",
       "std           0.706476        6.126525            3.623137   \n",
       "min           1.000000        0.000000            0.000000   \n",
       "25%           2.000000        3.000000            2.000000   \n",
       "50%           3.000000        5.000000            3.000000   \n",
       "75%           3.000000        9.000000            7.000000   \n",
       "max           4.000000       40.000000           18.000000   \n",
       "\n",
       "       YearsSinceLastPromotion  YearsWithCurrManager  \n",
       "count              1470.000000           1470.000000  \n",
       "mean                  2.187755              4.123129  \n",
       "std                   3.222430              3.568136  \n",
       "min                   0.000000              0.000000  \n",
       "25%                   0.000000              2.000000  \n",
       "50%                   1.000000              3.000000  \n",
       "75%                   3.000000              7.000000  \n",
       "max                  15.000000             17.000000  \n",
       "\n",
       "[8 rows x 24 columns]"
      ]
     },
     "execution_count": 42,
     "metadata": {},
     "output_type": "execute_result"
    }
   ],
   "source": [
    "#Lets check descrption of our data\n",
    "df.describe()"
   ]
  },
  {
   "cell_type": "markdown",
   "id": "c51182d7",
   "metadata": {},
   "source": [
    "* Lookin at the data we can say there may be some outliers, lets go for skewness checking"
   ]
  },
  {
   "cell_type": "code",
   "execution_count": 43,
   "id": "bbf33902",
   "metadata": {},
   "outputs": [
    {
     "name": "stdout",
     "output_type": "stream",
     "text": [
      "Age                         0.413286\n",
      "Attrition                   1.844366\n",
      "DailyRate                  -0.003519\n",
      "DistanceFromHome            0.958118\n",
      "Education                  -0.289681\n",
      "EnvironmentSatisfaction    -0.321654\n",
      "HourlyRate                 -0.032311\n",
      "JobInvolvement             -0.498419\n",
      "JobLevel                    1.025401\n",
      "JobSatisfaction            -0.329672\n",
      "MonthlyIncome               1.369817\n",
      "MonthlyRate                 0.018578\n",
      "NumCompaniesWorked          1.026471\n",
      "PercentSalaryHike           0.821128\n",
      "PerformanceRating           1.921883\n",
      "RelationshipSatisfaction   -0.302828\n",
      "StockOptionLevel            0.968980\n",
      "TotalWorkingYears           1.117172\n",
      "TrainingTimesLastYear       0.553124\n",
      "WorkLifeBalance            -0.552480\n",
      "YearsAtCompany              1.764529\n",
      "YearsInCurrentRole          0.917363\n",
      "YearsSinceLastPromotion     1.984290\n",
      "YearsWithCurrManager        0.833451\n",
      "dtype: float64\n",
      "--------------------------------------------------\n",
      "Number of feature showing significant skewness:  14\n"
     ]
    }
   ],
   "source": [
    "#Lets check skewness in our dataset\n",
    "print(df.skew())\n",
    "print('--------------------------------------------------')\n",
    "print(\"Number of feature showing significant skewness: \",len(df.skew().loc[(df.skew())>0.5]))"
   ]
  },
  {
   "cell_type": "code",
   "execution_count": 44,
   "id": "34cefa04",
   "metadata": {},
   "outputs": [
    {
     "data": {
      "text/html": [
       "<div>\n",
       "<style scoped>\n",
       "    .dataframe tbody tr th:only-of-type {\n",
       "        vertical-align: middle;\n",
       "    }\n",
       "\n",
       "    .dataframe tbody tr th {\n",
       "        vertical-align: top;\n",
       "    }\n",
       "\n",
       "    .dataframe thead th {\n",
       "        text-align: right;\n",
       "    }\n",
       "</style>\n",
       "<table border=\"1\" class=\"dataframe\">\n",
       "  <thead>\n",
       "    <tr style=\"text-align: right;\">\n",
       "      <th></th>\n",
       "      <th>Age</th>\n",
       "      <th>Attrition</th>\n",
       "      <th>BusinessTravel</th>\n",
       "      <th>DailyRate</th>\n",
       "      <th>Department</th>\n",
       "      <th>DistanceFromHome</th>\n",
       "      <th>Education</th>\n",
       "      <th>EducationField</th>\n",
       "      <th>EnvironmentSatisfaction</th>\n",
       "      <th>Gender</th>\n",
       "      <th>...</th>\n",
       "      <th>PerformanceRating</th>\n",
       "      <th>RelationshipSatisfaction</th>\n",
       "      <th>StockOptionLevel</th>\n",
       "      <th>TotalWorkingYears</th>\n",
       "      <th>TrainingTimesLastYear</th>\n",
       "      <th>WorkLifeBalance</th>\n",
       "      <th>YearsAtCompany</th>\n",
       "      <th>YearsInCurrentRole</th>\n",
       "      <th>YearsSinceLastPromotion</th>\n",
       "      <th>YearsWithCurrManager</th>\n",
       "    </tr>\n",
       "  </thead>\n",
       "  <tbody>\n",
       "    <tr>\n",
       "      <th>0</th>\n",
       "      <td>41</td>\n",
       "      <td>1</td>\n",
       "      <td>Travel_Rarely</td>\n",
       "      <td>1102</td>\n",
       "      <td>Sales</td>\n",
       "      <td>1</td>\n",
       "      <td>2</td>\n",
       "      <td>Life Sciences</td>\n",
       "      <td>2</td>\n",
       "      <td>Female</td>\n",
       "      <td>...</td>\n",
       "      <td>3</td>\n",
       "      <td>1</td>\n",
       "      <td>0</td>\n",
       "      <td>8</td>\n",
       "      <td>0</td>\n",
       "      <td>1</td>\n",
       "      <td>6</td>\n",
       "      <td>4</td>\n",
       "      <td>0</td>\n",
       "      <td>5</td>\n",
       "    </tr>\n",
       "    <tr>\n",
       "      <th>1</th>\n",
       "      <td>49</td>\n",
       "      <td>0</td>\n",
       "      <td>Travel_Frequently</td>\n",
       "      <td>279</td>\n",
       "      <td>Research &amp; Development</td>\n",
       "      <td>8</td>\n",
       "      <td>1</td>\n",
       "      <td>Life Sciences</td>\n",
       "      <td>3</td>\n",
       "      <td>Male</td>\n",
       "      <td>...</td>\n",
       "      <td>4</td>\n",
       "      <td>4</td>\n",
       "      <td>1</td>\n",
       "      <td>10</td>\n",
       "      <td>3</td>\n",
       "      <td>3</td>\n",
       "      <td>10</td>\n",
       "      <td>7</td>\n",
       "      <td>1</td>\n",
       "      <td>7</td>\n",
       "    </tr>\n",
       "    <tr>\n",
       "      <th>2</th>\n",
       "      <td>37</td>\n",
       "      <td>1</td>\n",
       "      <td>Travel_Rarely</td>\n",
       "      <td>1373</td>\n",
       "      <td>Research &amp; Development</td>\n",
       "      <td>2</td>\n",
       "      <td>2</td>\n",
       "      <td>Other</td>\n",
       "      <td>4</td>\n",
       "      <td>Male</td>\n",
       "      <td>...</td>\n",
       "      <td>3</td>\n",
       "      <td>2</td>\n",
       "      <td>0</td>\n",
       "      <td>7</td>\n",
       "      <td>3</td>\n",
       "      <td>3</td>\n",
       "      <td>0</td>\n",
       "      <td>0</td>\n",
       "      <td>0</td>\n",
       "      <td>0</td>\n",
       "    </tr>\n",
       "    <tr>\n",
       "      <th>3</th>\n",
       "      <td>33</td>\n",
       "      <td>0</td>\n",
       "      <td>Travel_Frequently</td>\n",
       "      <td>1392</td>\n",
       "      <td>Research &amp; Development</td>\n",
       "      <td>3</td>\n",
       "      <td>4</td>\n",
       "      <td>Life Sciences</td>\n",
       "      <td>4</td>\n",
       "      <td>Female</td>\n",
       "      <td>...</td>\n",
       "      <td>3</td>\n",
       "      <td>3</td>\n",
       "      <td>0</td>\n",
       "      <td>8</td>\n",
       "      <td>3</td>\n",
       "      <td>3</td>\n",
       "      <td>8</td>\n",
       "      <td>7</td>\n",
       "      <td>3</td>\n",
       "      <td>0</td>\n",
       "    </tr>\n",
       "    <tr>\n",
       "      <th>4</th>\n",
       "      <td>27</td>\n",
       "      <td>0</td>\n",
       "      <td>Travel_Rarely</td>\n",
       "      <td>591</td>\n",
       "      <td>Research &amp; Development</td>\n",
       "      <td>2</td>\n",
       "      <td>1</td>\n",
       "      <td>Medical</td>\n",
       "      <td>1</td>\n",
       "      <td>Male</td>\n",
       "      <td>...</td>\n",
       "      <td>3</td>\n",
       "      <td>4</td>\n",
       "      <td>1</td>\n",
       "      <td>6</td>\n",
       "      <td>3</td>\n",
       "      <td>3</td>\n",
       "      <td>2</td>\n",
       "      <td>2</td>\n",
       "      <td>2</td>\n",
       "      <td>2</td>\n",
       "    </tr>\n",
       "    <tr>\n",
       "      <th>...</th>\n",
       "      <td>...</td>\n",
       "      <td>...</td>\n",
       "      <td>...</td>\n",
       "      <td>...</td>\n",
       "      <td>...</td>\n",
       "      <td>...</td>\n",
       "      <td>...</td>\n",
       "      <td>...</td>\n",
       "      <td>...</td>\n",
       "      <td>...</td>\n",
       "      <td>...</td>\n",
       "      <td>...</td>\n",
       "      <td>...</td>\n",
       "      <td>...</td>\n",
       "      <td>...</td>\n",
       "      <td>...</td>\n",
       "      <td>...</td>\n",
       "      <td>...</td>\n",
       "      <td>...</td>\n",
       "      <td>...</td>\n",
       "      <td>...</td>\n",
       "    </tr>\n",
       "    <tr>\n",
       "      <th>1465</th>\n",
       "      <td>36</td>\n",
       "      <td>0</td>\n",
       "      <td>Travel_Frequently</td>\n",
       "      <td>884</td>\n",
       "      <td>Research &amp; Development</td>\n",
       "      <td>23</td>\n",
       "      <td>2</td>\n",
       "      <td>Medical</td>\n",
       "      <td>3</td>\n",
       "      <td>Male</td>\n",
       "      <td>...</td>\n",
       "      <td>3</td>\n",
       "      <td>3</td>\n",
       "      <td>1</td>\n",
       "      <td>17</td>\n",
       "      <td>3</td>\n",
       "      <td>3</td>\n",
       "      <td>5</td>\n",
       "      <td>2</td>\n",
       "      <td>0</td>\n",
       "      <td>3</td>\n",
       "    </tr>\n",
       "    <tr>\n",
       "      <th>1466</th>\n",
       "      <td>39</td>\n",
       "      <td>0</td>\n",
       "      <td>Travel_Rarely</td>\n",
       "      <td>613</td>\n",
       "      <td>Research &amp; Development</td>\n",
       "      <td>6</td>\n",
       "      <td>1</td>\n",
       "      <td>Medical</td>\n",
       "      <td>4</td>\n",
       "      <td>Male</td>\n",
       "      <td>...</td>\n",
       "      <td>3</td>\n",
       "      <td>1</td>\n",
       "      <td>1</td>\n",
       "      <td>9</td>\n",
       "      <td>5</td>\n",
       "      <td>3</td>\n",
       "      <td>7</td>\n",
       "      <td>7</td>\n",
       "      <td>1</td>\n",
       "      <td>7</td>\n",
       "    </tr>\n",
       "    <tr>\n",
       "      <th>1467</th>\n",
       "      <td>27</td>\n",
       "      <td>0</td>\n",
       "      <td>Travel_Rarely</td>\n",
       "      <td>155</td>\n",
       "      <td>Research &amp; Development</td>\n",
       "      <td>4</td>\n",
       "      <td>3</td>\n",
       "      <td>Life Sciences</td>\n",
       "      <td>2</td>\n",
       "      <td>Male</td>\n",
       "      <td>...</td>\n",
       "      <td>4</td>\n",
       "      <td>2</td>\n",
       "      <td>1</td>\n",
       "      <td>6</td>\n",
       "      <td>0</td>\n",
       "      <td>3</td>\n",
       "      <td>6</td>\n",
       "      <td>2</td>\n",
       "      <td>0</td>\n",
       "      <td>3</td>\n",
       "    </tr>\n",
       "    <tr>\n",
       "      <th>1468</th>\n",
       "      <td>49</td>\n",
       "      <td>0</td>\n",
       "      <td>Travel_Frequently</td>\n",
       "      <td>1023</td>\n",
       "      <td>Sales</td>\n",
       "      <td>2</td>\n",
       "      <td>3</td>\n",
       "      <td>Medical</td>\n",
       "      <td>4</td>\n",
       "      <td>Male</td>\n",
       "      <td>...</td>\n",
       "      <td>3</td>\n",
       "      <td>4</td>\n",
       "      <td>0</td>\n",
       "      <td>17</td>\n",
       "      <td>3</td>\n",
       "      <td>2</td>\n",
       "      <td>9</td>\n",
       "      <td>6</td>\n",
       "      <td>0</td>\n",
       "      <td>8</td>\n",
       "    </tr>\n",
       "    <tr>\n",
       "      <th>1469</th>\n",
       "      <td>34</td>\n",
       "      <td>0</td>\n",
       "      <td>Travel_Rarely</td>\n",
       "      <td>628</td>\n",
       "      <td>Research &amp; Development</td>\n",
       "      <td>8</td>\n",
       "      <td>3</td>\n",
       "      <td>Medical</td>\n",
       "      <td>2</td>\n",
       "      <td>Male</td>\n",
       "      <td>...</td>\n",
       "      <td>3</td>\n",
       "      <td>1</td>\n",
       "      <td>0</td>\n",
       "      <td>6</td>\n",
       "      <td>3</td>\n",
       "      <td>4</td>\n",
       "      <td>4</td>\n",
       "      <td>3</td>\n",
       "      <td>1</td>\n",
       "      <td>2</td>\n",
       "    </tr>\n",
       "  </tbody>\n",
       "</table>\n",
       "<p>1387 rows × 31 columns</p>\n",
       "</div>"
      ],
      "text/plain": [
       "      Age  Attrition     BusinessTravel  DailyRate              Department  \\\n",
       "0      41          1      Travel_Rarely       1102                   Sales   \n",
       "1      49          0  Travel_Frequently        279  Research & Development   \n",
       "2      37          1      Travel_Rarely       1373  Research & Development   \n",
       "3      33          0  Travel_Frequently       1392  Research & Development   \n",
       "4      27          0      Travel_Rarely        591  Research & Development   \n",
       "...   ...        ...                ...        ...                     ...   \n",
       "1465   36          0  Travel_Frequently        884  Research & Development   \n",
       "1466   39          0      Travel_Rarely        613  Research & Development   \n",
       "1467   27          0      Travel_Rarely        155  Research & Development   \n",
       "1468   49          0  Travel_Frequently       1023                   Sales   \n",
       "1469   34          0      Travel_Rarely        628  Research & Development   \n",
       "\n",
       "      DistanceFromHome  Education EducationField  EnvironmentSatisfaction  \\\n",
       "0                    1          2  Life Sciences                        2   \n",
       "1                    8          1  Life Sciences                        3   \n",
       "2                    2          2          Other                        4   \n",
       "3                    3          4  Life Sciences                        4   \n",
       "4                    2          1        Medical                        1   \n",
       "...                ...        ...            ...                      ...   \n",
       "1465                23          2        Medical                        3   \n",
       "1466                 6          1        Medical                        4   \n",
       "1467                 4          3  Life Sciences                        2   \n",
       "1468                 2          3        Medical                        4   \n",
       "1469                 8          3        Medical                        2   \n",
       "\n",
       "      Gender  ...  PerformanceRating  RelationshipSatisfaction  \\\n",
       "0     Female  ...                  3                         1   \n",
       "1       Male  ...                  4                         4   \n",
       "2       Male  ...                  3                         2   \n",
       "3     Female  ...                  3                         3   \n",
       "4       Male  ...                  3                         4   \n",
       "...      ...  ...                ...                       ...   \n",
       "1465    Male  ...                  3                         3   \n",
       "1466    Male  ...                  3                         1   \n",
       "1467    Male  ...                  4                         2   \n",
       "1468    Male  ...                  3                         4   \n",
       "1469    Male  ...                  3                         1   \n",
       "\n",
       "      StockOptionLevel TotalWorkingYears  TrainingTimesLastYear  \\\n",
       "0                    0                 8                      0   \n",
       "1                    1                10                      3   \n",
       "2                    0                 7                      3   \n",
       "3                    0                 8                      3   \n",
       "4                    1                 6                      3   \n",
       "...                ...               ...                    ...   \n",
       "1465                 1                17                      3   \n",
       "1466                 1                 9                      5   \n",
       "1467                 1                 6                      0   \n",
       "1468                 0                17                      3   \n",
       "1469                 0                 6                      3   \n",
       "\n",
       "     WorkLifeBalance  YearsAtCompany  YearsInCurrentRole  \\\n",
       "0                  1               6                   4   \n",
       "1                  3              10                   7   \n",
       "2                  3               0                   0   \n",
       "3                  3               8                   7   \n",
       "4                  3               2                   2   \n",
       "...              ...             ...                 ...   \n",
       "1465               3               5                   2   \n",
       "1466               3               7                   7   \n",
       "1467               3               6                   2   \n",
       "1468               2               9                   6   \n",
       "1469               4               4                   3   \n",
       "\n",
       "      YearsSinceLastPromotion YearsWithCurrManager  \n",
       "0                           0                    5  \n",
       "1                           1                    7  \n",
       "2                           0                    0  \n",
       "3                           3                    0  \n",
       "4                           2                    2  \n",
       "...                       ...                  ...  \n",
       "1465                        0                    3  \n",
       "1466                        1                    7  \n",
       "1467                        0                    3  \n",
       "1468                        0                    8  \n",
       "1469                        1                    2  \n",
       "\n",
       "[1387 rows x 31 columns]"
      ]
     },
     "execution_count": 44,
     "metadata": {},
     "output_type": "execute_result"
    }
   ],
   "source": [
    "# At first we will remove outliers from our data. thereafter again will check skewness\n",
    "# Applying zscore method for removing outliers from skewed features\n",
    "from scipy import stats\n",
    "from scipy.stats import zscore\n",
    "z_score = zscore(df[[\"DistanceFromHome\",\"JobLevel\",\"MonthlyIncome\",\"NumCompaniesWorked\",\"PercentSalaryHike\",\"PerformanceRating\",\"StockOptionLevel\",\"TotalWorkingYears\",\"TrainingTimesLastYear\",\"WorkLifeBalance\",\"YearsAtCompany\",\"YearsInCurrentRole\",\"YearsSinceLastPromotion\",\"YearsWithCurrManager\"]])\n",
    "abs_z_score = np.abs(z_score)\n",
    "filtering_entry = (abs_z_score < 3).all(axis = 1)\n",
    "df = df[filtering_entry]\n",
    "df"
   ]
  },
  {
   "cell_type": "markdown",
   "id": "5a26ecc4",
   "metadata": {},
   "source": [
    "* After removing outliers from the data we are loosing about 5% data, we can consider it is safe to remove outliers"
   ]
  },
  {
   "cell_type": "code",
   "execution_count": 45,
   "id": "4580b8f1",
   "metadata": {},
   "outputs": [
    {
     "name": "stdout",
     "output_type": "stream",
     "text": [
      "Age                         0.472280\n",
      "Attrition                   1.805983\n",
      "DailyRate                  -0.017078\n",
      "DistanceFromHome            0.954752\n",
      "Education                  -0.289024\n",
      "EnvironmentSatisfaction    -0.325285\n",
      "HourlyRate                 -0.030481\n",
      "JobInvolvement             -0.501401\n",
      "JobLevel                    1.126075\n",
      "JobSatisfaction            -0.345612\n",
      "MonthlyIncome               1.544770\n",
      "MonthlyRate                 0.030596\n",
      "NumCompaniesWorked          1.037715\n",
      "PercentSalaryHike           0.800592\n",
      "PerformanceRating           1.931566\n",
      "RelationshipSatisfaction   -0.295686\n",
      "StockOptionLevel            0.962332\n",
      "TotalWorkingYears           1.034487\n",
      "TrainingTimesLastYear       0.577614\n",
      "WorkLifeBalance            -0.557100\n",
      "YearsAtCompany              1.248623\n",
      "YearsInCurrentRole          0.726675\n",
      "YearsSinceLastPromotion     1.756335\n",
      "YearsWithCurrManager        0.694506\n",
      "dtype: float64\n",
      "--------------------------------------------------\n",
      "Number of feature showing significant skewness:  14\n"
     ]
    }
   ],
   "source": [
    "#Lets check the skewness again after removing outliers\n",
    "print(df.skew())\n",
    "print('--------------------------------------------------')\n",
    "print(\"Number of feature showing significant skewness: \",len(df.skew().loc[(df.skew())>0.5]))"
   ]
  },
  {
   "cell_type": "markdown",
   "id": "092a1f46",
   "metadata": {},
   "source": [
    "* After removing outliers we reduced some skewness in features, but still there is significant skewness is observed.\n",
    "\n",
    "* so we need to treat this skewness."
   ]
  },
  {
   "cell_type": "code",
   "execution_count": 46,
   "id": "660b1f6e",
   "metadata": {},
   "outputs": [],
   "source": [
    "# first we need to saperate our data intp label and features\n",
    "x = df.drop(columns = [\"Attrition\"])\n",
    "y = df[\"Attrition\"]"
   ]
  },
  {
   "cell_type": "code",
   "execution_count": 47,
   "id": "5597c1d1",
   "metadata": {},
   "outputs": [],
   "source": [
    "#Lets treat the skewed data\n",
    "for index in x.skew().index:\n",
    "    if x.skew().loc[index]>0.5:\n",
    "        x[index]=np.log1p(x[index])\n",
    "    if x.skew().loc[index]<-0.5:\n",
    "        x[index]=np.square(x[index])"
   ]
  },
  {
   "cell_type": "code",
   "execution_count": 48,
   "id": "abe33528",
   "metadata": {},
   "outputs": [
    {
     "data": {
      "text/plain": [
       "Age                         0.472280\n",
       "DailyRate                  -0.017078\n",
       "DistanceFromHome           -0.031570\n",
       "Education                  -0.289024\n",
       "EnvironmentSatisfaction    -0.325285\n",
       "HourlyRate                 -0.030481\n",
       "JobInvolvement              0.329667\n",
       "JobLevel                    0.497167\n",
       "JobSatisfaction            -0.345612\n",
       "MonthlyIncome               0.318873\n",
       "MonthlyRate                 0.030596\n",
       "NumCompaniesWorked          0.101288\n",
       "PercentSalaryHike           0.496106\n",
       "PerformanceRating           1.931566\n",
       "RelationshipSatisfaction   -0.295686\n",
       "StockOptionLevel            0.275912\n",
       "TotalWorkingYears           0.241110\n",
       "TrainingTimesLastYear       0.513454\n",
       "WorkLifeBalance             0.299233\n",
       "YearsAtCompany             -0.379527\n",
       "YearsInCurrentRole         -0.390406\n",
       "YearsSinceLastPromotion     0.695348\n",
       "YearsWithCurrManager       -0.347018\n",
       "dtype: float64"
      ]
     },
     "execution_count": 48,
     "metadata": {},
     "output_type": "execute_result"
    }
   ],
   "source": [
    "#check the skewness after treating it\n",
    "x.skew()"
   ]
  },
  {
   "cell_type": "markdown",
   "id": "08745ed3",
   "metadata": {},
   "source": [
    "* After treating skewness we reduced skewed features from 14 to 3, still skewness is there in three feature."
   ]
  },
  {
   "cell_type": "code",
   "execution_count": 49,
   "id": "4d7bf5a1",
   "metadata": {},
   "outputs": [
    {
     "data": {
      "text/plain": [
       "Index(['Age', 'DailyRate', 'DistanceFromHome', 'Education',\n",
       "       'EnvironmentSatisfaction', 'HourlyRate', 'JobInvolvement', 'JobLevel',\n",
       "       'JobSatisfaction', 'MonthlyIncome', 'MonthlyRate', 'NumCompaniesWorked',\n",
       "       'PercentSalaryHike', 'PerformanceRating', 'RelationshipSatisfaction',\n",
       "       'StockOptionLevel', 'TotalWorkingYears', 'TrainingTimesLastYear',\n",
       "       'WorkLifeBalance', 'YearsAtCompany', 'YearsInCurrentRole',\n",
       "       'YearsSinceLastPromotion', 'YearsWithCurrManager'],\n",
       "      dtype='object')"
      ]
     },
     "execution_count": 49,
     "metadata": {},
     "output_type": "execute_result"
    }
   ],
   "source": [
    "#Lets select numeric features only for scaling to standard form\n",
    "numeric_data = x.select_dtypes(include=[np.number])\n",
    "numeric_data.columns"
   ]
  },
  {
   "cell_type": "code",
   "execution_count": 50,
   "id": "f151e797",
   "metadata": {},
   "outputs": [],
   "source": [
    "#lets convert categorical data into numeric values, using label encoder\n",
    "leb_enc = LabelEncoder()\n",
    "for i in x.columns:\n",
    "    if x[i].dtypes == \"object\":\n",
    "        x[i] = leb_enc.fit_transform(x[i])"
   ]
  },
  {
   "cell_type": "code",
   "execution_count": 51,
   "id": "7b939ff0",
   "metadata": {},
   "outputs": [
    {
     "data": {
      "text/plain": [
       "0    1158\n",
       "1     229\n",
       "Name: Attrition, dtype: int64"
      ]
     },
     "execution_count": 51,
     "metadata": {},
     "output_type": "execute_result"
    }
   ],
   "source": [
    "#Lets have a look on our target variable value count\n",
    "y.value_counts()"
   ]
  },
  {
   "cell_type": "code",
   "execution_count": 52,
   "id": "eb7c81da",
   "metadata": {},
   "outputs": [],
   "source": [
    "#it looks the data is imbalance\n",
    "#lets do oversampling using SMOTE\n",
    "import imblearn\n",
    "from imblearn.over_sampling import SMOTE\n",
    "SM = SMOTE()\n",
    "x_over,y_over = SM.fit_resample(x,y)"
   ]
  },
  {
   "cell_type": "code",
   "execution_count": 55,
   "id": "c0a8eef3",
   "metadata": {},
   "outputs": [],
   "source": [
    "num_data = x_over.drop(columns = ['BusinessTravel','Department','EducationField','Gender','JobRole','MaritalStatus','OverTime'])"
   ]
  },
  {
   "cell_type": "code",
   "execution_count": 56,
   "id": "fd201146",
   "metadata": {},
   "outputs": [],
   "source": [
    "#Lets bring all numerical features to common scale\n",
    "scaler = StandardScaler()\n",
    "x_num = scaler.fit_transform(num_data)\n",
    "x_num = pd.DataFrame(x_num,columns=num_data.columns)"
   ]
  },
  {
   "cell_type": "code",
   "execution_count": 57,
   "id": "410a56d1",
   "metadata": {},
   "outputs": [],
   "source": [
    "cat_data = pd.DataFrame(x_over,columns = ['BusinessTravel','Department','EducationField','Gender','JobRole','MaritalStatus','OverTime'])"
   ]
  },
  {
   "cell_type": "code",
   "execution_count": 58,
   "id": "670322c7",
   "metadata": {},
   "outputs": [
    {
     "data": {
      "text/html": [
       "<div>\n",
       "<style scoped>\n",
       "    .dataframe tbody tr th:only-of-type {\n",
       "        vertical-align: middle;\n",
       "    }\n",
       "\n",
       "    .dataframe tbody tr th {\n",
       "        vertical-align: top;\n",
       "    }\n",
       "\n",
       "    .dataframe thead th {\n",
       "        text-align: right;\n",
       "    }\n",
       "</style>\n",
       "<table border=\"1\" class=\"dataframe\">\n",
       "  <thead>\n",
       "    <tr style=\"text-align: right;\">\n",
       "      <th></th>\n",
       "      <th>Age</th>\n",
       "      <th>DailyRate</th>\n",
       "      <th>DistanceFromHome</th>\n",
       "      <th>Education</th>\n",
       "      <th>EnvironmentSatisfaction</th>\n",
       "      <th>HourlyRate</th>\n",
       "      <th>JobInvolvement</th>\n",
       "      <th>JobLevel</th>\n",
       "      <th>JobSatisfaction</th>\n",
       "      <th>MonthlyIncome</th>\n",
       "      <th>...</th>\n",
       "      <th>YearsInCurrentRole</th>\n",
       "      <th>YearsSinceLastPromotion</th>\n",
       "      <th>YearsWithCurrManager</th>\n",
       "      <th>BusinessTravel</th>\n",
       "      <th>Department</th>\n",
       "      <th>EducationField</th>\n",
       "      <th>Gender</th>\n",
       "      <th>JobRole</th>\n",
       "      <th>MaritalStatus</th>\n",
       "      <th>OverTime</th>\n",
       "    </tr>\n",
       "  </thead>\n",
       "  <tbody>\n",
       "    <tr>\n",
       "      <th>0</th>\n",
       "      <td>0.704861</td>\n",
       "      <td>0.769753</td>\n",
       "      <td>-1.143337</td>\n",
       "      <td>-0.726884</td>\n",
       "      <td>-0.435682</td>\n",
       "      <td>1.520616</td>\n",
       "      <td>0.643472</td>\n",
       "      <td>0.253359</td>\n",
       "      <td>1.432706</td>\n",
       "      <td>0.670486</td>\n",
       "      <td>...</td>\n",
       "      <td>0.246401</td>\n",
       "      <td>-0.686383</td>\n",
       "      <td>0.596197</td>\n",
       "      <td>2</td>\n",
       "      <td>2</td>\n",
       "      <td>1</td>\n",
       "      <td>0</td>\n",
       "      <td>7</td>\n",
       "      <td>2</td>\n",
       "      <td>1</td>\n",
       "    </tr>\n",
       "    <tr>\n",
       "      <th>1</th>\n",
       "      <td>1.621135</td>\n",
       "      <td>-1.248713</td>\n",
       "      <td>-0.228487</td>\n",
       "      <td>-1.744082</td>\n",
       "      <td>0.493452</td>\n",
       "      <td>-0.228227</td>\n",
       "      <td>-0.712562</td>\n",
       "      <td>0.253359</td>\n",
       "      <td>-0.447797</td>\n",
       "      <td>0.325364</td>\n",
       "      <td>...</td>\n",
       "      <td>1.243485</td>\n",
       "      <td>-0.261226</td>\n",
       "      <td>1.254971</td>\n",
       "      <td>1</td>\n",
       "      <td>1</td>\n",
       "      <td>1</td>\n",
       "      <td>1</td>\n",
       "      <td>6</td>\n",
       "      <td>1</td>\n",
       "      <td>0</td>\n",
       "    </tr>\n",
       "    <tr>\n",
       "      <th>2</th>\n",
       "      <td>0.246723</td>\n",
       "      <td>1.492664</td>\n",
       "      <td>-1.012644</td>\n",
       "      <td>-0.726884</td>\n",
       "      <td>1.422586</td>\n",
       "      <td>1.414626</td>\n",
       "      <td>-0.712562</td>\n",
       "      <td>-0.821328</td>\n",
       "      <td>0.492455</td>\n",
       "      <td>-1.348615</td>\n",
       "      <td>...</td>\n",
       "      <td>-1.083045</td>\n",
       "      <td>-0.686383</td>\n",
       "      <td>-1.050740</td>\n",
       "      <td>2</td>\n",
       "      <td>1</td>\n",
       "      <td>4</td>\n",
       "      <td>1</td>\n",
       "      <td>2</td>\n",
       "      <td>2</td>\n",
       "      <td>1</td>\n",
       "    </tr>\n",
       "    <tr>\n",
       "      <th>3</th>\n",
       "      <td>-0.211414</td>\n",
       "      <td>1.553583</td>\n",
       "      <td>-0.881951</td>\n",
       "      <td>1.307513</td>\n",
       "      <td>1.422586</td>\n",
       "      <td>-0.493204</td>\n",
       "      <td>0.643472</td>\n",
       "      <td>-0.821328</td>\n",
       "      <td>0.492455</td>\n",
       "      <td>-0.669240</td>\n",
       "      <td>...</td>\n",
       "      <td>1.243485</td>\n",
       "      <td>0.589088</td>\n",
       "      <td>-1.050740</td>\n",
       "      <td>1</td>\n",
       "      <td>1</td>\n",
       "      <td>1</td>\n",
       "      <td>0</td>\n",
       "      <td>6</td>\n",
       "      <td>1</td>\n",
       "      <td>1</td>\n",
       "    </tr>\n",
       "    <tr>\n",
       "      <th>4</th>\n",
       "      <td>-0.898619</td>\n",
       "      <td>-0.477066</td>\n",
       "      <td>-1.012644</td>\n",
       "      <td>-1.744082</td>\n",
       "      <td>-1.364816</td>\n",
       "      <td>-1.341128</td>\n",
       "      <td>0.643472</td>\n",
       "      <td>-0.821328</td>\n",
       "      <td>-0.447797</td>\n",
       "      <td>-0.438253</td>\n",
       "      <td>...</td>\n",
       "      <td>-0.418322</td>\n",
       "      <td>0.163931</td>\n",
       "      <td>-0.391965</td>\n",
       "      <td>2</td>\n",
       "      <td>1</td>\n",
       "      <td>3</td>\n",
       "      <td>1</td>\n",
       "      <td>2</td>\n",
       "      <td>1</td>\n",
       "      <td>0</td>\n",
       "    </tr>\n",
       "    <tr>\n",
       "      <th>...</th>\n",
       "      <td>...</td>\n",
       "      <td>...</td>\n",
       "      <td>...</td>\n",
       "      <td>...</td>\n",
       "      <td>...</td>\n",
       "      <td>...</td>\n",
       "      <td>...</td>\n",
       "      <td>...</td>\n",
       "      <td>...</td>\n",
       "      <td>...</td>\n",
       "      <td>...</td>\n",
       "      <td>...</td>\n",
       "      <td>...</td>\n",
       "      <td>...</td>\n",
       "      <td>...</td>\n",
       "      <td>...</td>\n",
       "      <td>...</td>\n",
       "      <td>...</td>\n",
       "      <td>...</td>\n",
       "      <td>...</td>\n",
       "      <td>...</td>\n",
       "    </tr>\n",
       "    <tr>\n",
       "      <th>2311</th>\n",
       "      <td>-1.471291</td>\n",
       "      <td>1.387070</td>\n",
       "      <td>0.555670</td>\n",
       "      <td>0.290314</td>\n",
       "      <td>-0.435682</td>\n",
       "      <td>-1.553109</td>\n",
       "      <td>-0.712562</td>\n",
       "      <td>-0.821328</td>\n",
       "      <td>-1.388048</td>\n",
       "      <td>-1.326875</td>\n",
       "      <td>...</td>\n",
       "      <td>-1.083045</td>\n",
       "      <td>-0.686383</td>\n",
       "      <td>-1.050740</td>\n",
       "      <td>2</td>\n",
       "      <td>1</td>\n",
       "      <td>1</td>\n",
       "      <td>0</td>\n",
       "      <td>2</td>\n",
       "      <td>1</td>\n",
       "      <td>0</td>\n",
       "    </tr>\n",
       "    <tr>\n",
       "      <th>2312</th>\n",
       "      <td>1.048463</td>\n",
       "      <td>1.082473</td>\n",
       "      <td>-0.228487</td>\n",
       "      <td>-0.726884</td>\n",
       "      <td>-0.435682</td>\n",
       "      <td>-0.281223</td>\n",
       "      <td>-0.712562</td>\n",
       "      <td>0.253359</td>\n",
       "      <td>-0.447797</td>\n",
       "      <td>0.988434</td>\n",
       "      <td>...</td>\n",
       "      <td>0.911124</td>\n",
       "      <td>-0.686383</td>\n",
       "      <td>0.925584</td>\n",
       "      <td>2</td>\n",
       "      <td>2</td>\n",
       "      <td>1</td>\n",
       "      <td>0</td>\n",
       "      <td>7</td>\n",
       "      <td>1</td>\n",
       "      <td>0</td>\n",
       "    </tr>\n",
       "    <tr>\n",
       "      <th>2313</th>\n",
       "      <td>0.132189</td>\n",
       "      <td>-1.366490</td>\n",
       "      <td>1.339828</td>\n",
       "      <td>0.290314</td>\n",
       "      <td>-0.435682</td>\n",
       "      <td>-0.599194</td>\n",
       "      <td>-0.712562</td>\n",
       "      <td>0.253359</td>\n",
       "      <td>-0.447797</td>\n",
       "      <td>1.012891</td>\n",
       "      <td>...</td>\n",
       "      <td>-0.085961</td>\n",
       "      <td>-0.686383</td>\n",
       "      <td>-1.050740</td>\n",
       "      <td>1</td>\n",
       "      <td>2</td>\n",
       "      <td>3</td>\n",
       "      <td>0</td>\n",
       "      <td>7</td>\n",
       "      <td>2</td>\n",
       "      <td>0</td>\n",
       "    </tr>\n",
       "    <tr>\n",
       "      <th>2314</th>\n",
       "      <td>-0.669551</td>\n",
       "      <td>-1.309632</td>\n",
       "      <td>0.163592</td>\n",
       "      <td>0.290314</td>\n",
       "      <td>-0.435682</td>\n",
       "      <td>0.566701</td>\n",
       "      <td>-2.068597</td>\n",
       "      <td>0.253359</td>\n",
       "      <td>-0.447797</td>\n",
       "      <td>0.613419</td>\n",
       "      <td>...</td>\n",
       "      <td>0.578762</td>\n",
       "      <td>1.439402</td>\n",
       "      <td>0.596197</td>\n",
       "      <td>1</td>\n",
       "      <td>2</td>\n",
       "      <td>1</td>\n",
       "      <td>1</td>\n",
       "      <td>7</td>\n",
       "      <td>1</td>\n",
       "      <td>0</td>\n",
       "    </tr>\n",
       "    <tr>\n",
       "      <th>2315</th>\n",
       "      <td>-0.784085</td>\n",
       "      <td>-0.180591</td>\n",
       "      <td>0.555670</td>\n",
       "      <td>-0.726884</td>\n",
       "      <td>-1.364816</td>\n",
       "      <td>-1.500114</td>\n",
       "      <td>-0.712562</td>\n",
       "      <td>0.253359</td>\n",
       "      <td>-0.447797</td>\n",
       "      <td>-0.030628</td>\n",
       "      <td>...</td>\n",
       "      <td>0.578762</td>\n",
       "      <td>1.439402</td>\n",
       "      <td>0.925584</td>\n",
       "      <td>2</td>\n",
       "      <td>1</td>\n",
       "      <td>2</td>\n",
       "      <td>0</td>\n",
       "      <td>5</td>\n",
       "      <td>1</td>\n",
       "      <td>1</td>\n",
       "    </tr>\n",
       "  </tbody>\n",
       "</table>\n",
       "<p>2316 rows × 30 columns</p>\n",
       "</div>"
      ],
      "text/plain": [
       "           Age  DailyRate  DistanceFromHome  Education  \\\n",
       "0     0.704861   0.769753         -1.143337  -0.726884   \n",
       "1     1.621135  -1.248713         -0.228487  -1.744082   \n",
       "2     0.246723   1.492664         -1.012644  -0.726884   \n",
       "3    -0.211414   1.553583         -0.881951   1.307513   \n",
       "4    -0.898619  -0.477066         -1.012644  -1.744082   \n",
       "...        ...        ...               ...        ...   \n",
       "2311 -1.471291   1.387070          0.555670   0.290314   \n",
       "2312  1.048463   1.082473         -0.228487  -0.726884   \n",
       "2313  0.132189  -1.366490          1.339828   0.290314   \n",
       "2314 -0.669551  -1.309632          0.163592   0.290314   \n",
       "2315 -0.784085  -0.180591          0.555670  -0.726884   \n",
       "\n",
       "      EnvironmentSatisfaction  HourlyRate  JobInvolvement  JobLevel  \\\n",
       "0                   -0.435682    1.520616        0.643472  0.253359   \n",
       "1                    0.493452   -0.228227       -0.712562  0.253359   \n",
       "2                    1.422586    1.414626       -0.712562 -0.821328   \n",
       "3                    1.422586   -0.493204        0.643472 -0.821328   \n",
       "4                   -1.364816   -1.341128        0.643472 -0.821328   \n",
       "...                       ...         ...             ...       ...   \n",
       "2311                -0.435682   -1.553109       -0.712562 -0.821328   \n",
       "2312                -0.435682   -0.281223       -0.712562  0.253359   \n",
       "2313                -0.435682   -0.599194       -0.712562  0.253359   \n",
       "2314                -0.435682    0.566701       -2.068597  0.253359   \n",
       "2315                -1.364816   -1.500114       -0.712562  0.253359   \n",
       "\n",
       "      JobSatisfaction  MonthlyIncome  ...  YearsInCurrentRole  \\\n",
       "0            1.432706       0.670486  ...            0.246401   \n",
       "1           -0.447797       0.325364  ...            1.243485   \n",
       "2            0.492455      -1.348615  ...           -1.083045   \n",
       "3            0.492455      -0.669240  ...            1.243485   \n",
       "4           -0.447797      -0.438253  ...           -0.418322   \n",
       "...               ...            ...  ...                 ...   \n",
       "2311        -1.388048      -1.326875  ...           -1.083045   \n",
       "2312        -0.447797       0.988434  ...            0.911124   \n",
       "2313        -0.447797       1.012891  ...           -0.085961   \n",
       "2314        -0.447797       0.613419  ...            0.578762   \n",
       "2315        -0.447797      -0.030628  ...            0.578762   \n",
       "\n",
       "      YearsSinceLastPromotion  YearsWithCurrManager  BusinessTravel  \\\n",
       "0                   -0.686383              0.596197               2   \n",
       "1                   -0.261226              1.254971               1   \n",
       "2                   -0.686383             -1.050740               2   \n",
       "3                    0.589088             -1.050740               1   \n",
       "4                    0.163931             -0.391965               2   \n",
       "...                       ...                   ...             ...   \n",
       "2311                -0.686383             -1.050740               2   \n",
       "2312                -0.686383              0.925584               2   \n",
       "2313                -0.686383             -1.050740               1   \n",
       "2314                 1.439402              0.596197               1   \n",
       "2315                 1.439402              0.925584               2   \n",
       "\n",
       "      Department  EducationField  Gender  JobRole  MaritalStatus  OverTime  \n",
       "0              2               1       0        7              2         1  \n",
       "1              1               1       1        6              1         0  \n",
       "2              1               4       1        2              2         1  \n",
       "3              1               1       0        6              1         1  \n",
       "4              1               3       1        2              1         0  \n",
       "...          ...             ...     ...      ...            ...       ...  \n",
       "2311           1               1       0        2              1         0  \n",
       "2312           2               1       0        7              1         0  \n",
       "2313           2               3       0        7              2         0  \n",
       "2314           2               1       1        7              1         0  \n",
       "2315           1               2       0        5              1         1  \n",
       "\n",
       "[2316 rows x 30 columns]"
      ]
     },
     "execution_count": 58,
     "metadata": {},
     "output_type": "execute_result"
    }
   ],
   "source": [
    "#Lets join both categorical data and numerical data of our features\n",
    "X = x_num.join(cat_data)\n",
    "X"
   ]
  },
  {
   "cell_type": "markdown",
   "id": "cea53385",
   "metadata": {},
   "source": [
    "### Finding best random_state"
   ]
  },
  {
   "cell_type": "code",
   "execution_count": 59,
   "id": "d9927156",
   "metadata": {},
   "outputs": [
    {
     "name": "stdout",
     "output_type": "stream",
     "text": [
      "Best accuracy is 0.8670120898100173 on Random State 181\n"
     ]
    }
   ],
   "source": [
    "from sklearn.linear_model import LogisticRegression\n",
    "max_accu = 0\n",
    "max_rs = 0\n",
    "for i in range(150,200):\n",
    "    x_train,x_test,y_train,y_test = train_test_split(X,y_over,test_size = 0.25, random_state = i)\n",
    "    LR = LogisticRegression()\n",
    "    LR.fit(x_train,y_train)\n",
    "    pred = LR.predict(x_test)\n",
    "    acc = accuracy_score(y_test,pred)\n",
    "    if acc > max_accu:\n",
    "        max_accu = acc\n",
    "        max_rs = i\n",
    "print(\"Best accuracy is\",max_accu,\"on Random State\",max_rs)"
   ]
  },
  {
   "cell_type": "code",
   "execution_count": 60,
   "id": "b6340bd0",
   "metadata": {},
   "outputs": [],
   "source": [
    "#lets split our data into train and test parts with best random_state\n",
    "x_train,x_test,y_train,y_test = train_test_split(X, y_over, test_size = 0.25, random_state = max_rs )"
   ]
  },
  {
   "cell_type": "code",
   "execution_count": 61,
   "id": "a6aff8ab",
   "metadata": {},
   "outputs": [
    {
     "name": "stdout",
     "output_type": "stream",
     "text": [
      "Accuracy Score: 86.70120898100173%\n",
      "---------------------------------------------------\n",
      "roc_auc_score: 86.72165982236653%\n",
      "Confusion Matrix : \n",
      " [[254  42]\n",
      " [ 35 248]]\n",
      "\n",
      "CLASSIFICATION REPORT : \n",
      "               precision    recall  f1-score   support\n",
      "\n",
      "           0       0.88      0.86      0.87       296\n",
      "           1       0.86      0.88      0.87       283\n",
      "\n",
      "    accuracy                           0.87       579\n",
      "   macro avg       0.87      0.87      0.87       579\n",
      "weighted avg       0.87      0.87      0.87       579\n",
      "\n"
     ]
    }
   ],
   "source": [
    "#Lets check the model with LogisticRegression\n",
    "LR.fit(x_train,y_train)\n",
    "predlr = LR.predict(x_test)\n",
    "print(f\"Accuracy Score: {accuracy_score(y_test,predlr)*100}%\")\n",
    "print(\"---------------------------------------------------\")\n",
    "print(f\"roc_auc_score: {roc_auc_score(y_test,predlr)*100}%\")\n",
    "\n",
    "print(f\"Confusion Matrix : \\n {confusion_matrix(y_test,predlr)}\\n\")\n",
    "print(f\"CLASSIFICATION REPORT : \\n {classification_report(y_test,predlr)}\")"
   ]
  },
  {
   "cell_type": "code",
   "execution_count": 62,
   "id": "8ad162c4",
   "metadata": {},
   "outputs": [
    {
     "name": "stdout",
     "output_type": "stream",
     "text": [
      "Accuracy Score: 83.41968911917098%\n",
      "---------------------------------------------------\n",
      "roc_auc_score: 83.46564320504251%\n",
      "Confusion Matrix : \n",
      " [[241  55]\n",
      " [ 41 242]]\n",
      "\n",
      "CLASSIFICATION REPORT : \n",
      "               precision    recall  f1-score   support\n",
      "\n",
      "           0       0.85      0.81      0.83       296\n",
      "           1       0.81      0.86      0.83       283\n",
      "\n",
      "    accuracy                           0.83       579\n",
      "   macro avg       0.83      0.83      0.83       579\n",
      "weighted avg       0.84      0.83      0.83       579\n",
      "\n"
     ]
    }
   ],
   "source": [
    "#model with DecesionTreeClassifier\n",
    "from sklearn.tree import DecisionTreeClassifier\n",
    "dt = DecisionTreeClassifier()\n",
    "dt.fit(x_train,y_train)\n",
    "pred_dt = dt.predict(x_test)\n",
    "print(f\"Accuracy Score: {accuracy_score(y_test,pred_dt)*100}%\")\n",
    "print(\"---------------------------------------------------\")\n",
    "print(f\"roc_auc_score: {roc_auc_score(y_test,pred_dt)*100}%\")\n",
    "\n",
    "print(f\"Confusion Matrix : \\n {confusion_matrix(y_test,pred_dt)}\\n\")\n",
    "print(f\"CLASSIFICATION REPORT : \\n {classification_report(y_test,pred_dt)}\")"
   ]
  },
  {
   "cell_type": "code",
   "execution_count": 63,
   "id": "7af7bfae",
   "metadata": {},
   "outputs": [
    {
     "name": "stdout",
     "output_type": "stream",
     "text": [
      "Accuracy Score: 92.573402417962%\n",
      "---------------------------------------------------\n",
      "roc_auc_score: 92.53473880240665%\n",
      "Confusion Matrix : \n",
      " [[279  17]\n",
      " [ 26 257]]\n",
      "\n",
      "CLASSIFICATION REPORT : \n",
      "               precision    recall  f1-score   support\n",
      "\n",
      "           0       0.91      0.94      0.93       296\n",
      "           1       0.94      0.91      0.92       283\n",
      "\n",
      "    accuracy                           0.93       579\n",
      "   macro avg       0.93      0.93      0.93       579\n",
      "weighted avg       0.93      0.93      0.93       579\n",
      "\n"
     ]
    }
   ],
   "source": [
    "#model with RandomForestClassifier\n",
    "from sklearn.ensemble import RandomForestClassifier\n",
    "rf = RandomForestClassifier()\n",
    "rf.fit(x_train,y_train)\n",
    "pred_rf = rf.predict(x_test)\n",
    "print(f\"Accuracy Score: {accuracy_score(y_test,pred_rf)*100}%\")\n",
    "print(\"---------------------------------------------------\")\n",
    "print(f\"roc_auc_score: {roc_auc_score(y_test,pred_rf)*100}%\")\n",
    "\n",
    "print(f\"Confusion Matrix : \\n {confusion_matrix(y_test,pred_rf)}\\n\")\n",
    "print(f\"CLASSIFICATION REPORT : \\n {classification_report(y_test,pred_rf)}\")"
   ]
  },
  {
   "cell_type": "code",
   "execution_count": 64,
   "id": "bc2d5552",
   "metadata": {},
   "outputs": [
    {
     "name": "stdout",
     "output_type": "stream",
     "text": [
      "Accuracy Score: 82.72884283246978%\n",
      "---------------------------------------------------\n",
      "roc_auc_score: 83.06931047655429%\n",
      "Confusion Matrix : \n",
      " [[201  95]\n",
      " [  5 278]]\n",
      "\n",
      "CLASSIFICATION REPORT : \n",
      "               precision    recall  f1-score   support\n",
      "\n",
      "           0       0.98      0.68      0.80       296\n",
      "           1       0.75      0.98      0.85       283\n",
      "\n",
      "    accuracy                           0.83       579\n",
      "   macro avg       0.86      0.83      0.82       579\n",
      "weighted avg       0.86      0.83      0.82       579\n",
      "\n"
     ]
    }
   ],
   "source": [
    "#model with KNeighborsClassifier\n",
    "from sklearn.neighbors import KNeighborsClassifier\n",
    "kn = KNeighborsClassifier()\n",
    "kn.fit(x_train,y_train)\n",
    "pred_kn = kn.predict(x_test)\n",
    "print(f\"Accuracy Score: {accuracy_score(y_test,pred_kn)*100}%\")\n",
    "print(\"---------------------------------------------------\")\n",
    "print(f\"roc_auc_score: {roc_auc_score(y_test,pred_kn)*100}%\")\n",
    "\n",
    "print(f\"Confusion Matrix : \\n {confusion_matrix(y_test,pred_kn)}\\n\")\n",
    "print(f\"CLASSIFICATION REPORT : \\n {classification_report(y_test,pred_kn)}\")"
   ]
  },
  {
   "cell_type": "code",
   "execution_count": 65,
   "id": "aa44ee10",
   "metadata": {},
   "outputs": [
    {
     "name": "stdout",
     "output_type": "stream",
     "text": [
      "Accuracy Score: 90.67357512953367%\n",
      "---------------------------------------------------\n",
      "roc_auc_score: 90.7076687995416%\n",
      "Confusion Matrix : \n",
      " [[264  32]\n",
      " [ 22 261]]\n",
      "\n",
      "CLASSIFICATION REPORT : \n",
      "               precision    recall  f1-score   support\n",
      "\n",
      "           0       0.92      0.89      0.91       296\n",
      "           1       0.89      0.92      0.91       283\n",
      "\n",
      "    accuracy                           0.91       579\n",
      "   macro avg       0.91      0.91      0.91       579\n",
      "weighted avg       0.91      0.91      0.91       579\n",
      "\n"
     ]
    }
   ],
   "source": [
    "#model with SVC\n",
    "from sklearn.svm import SVC\n",
    "svc = SVC()\n",
    "svc.fit(x_train,y_train)\n",
    "pred_svc = svc.predict(x_test)\n",
    "print(f\"Accuracy Score: {accuracy_score(y_test,pred_svc)*100}%\")\n",
    "print(\"---------------------------------------------------\")\n",
    "print(f\"roc_auc_score: {roc_auc_score(y_test,pred_svc)*100}%\")\n",
    "\n",
    "print(f\"Confusion Matrix : \\n {confusion_matrix(y_test,pred_svc)}\\n\")\n",
    "print(f\"CLASSIFICATION REPORT : \\n {classification_report(y_test,pred_svc)}\")"
   ]
  },
  {
   "cell_type": "code",
   "execution_count": 66,
   "id": "2a89144c",
   "metadata": {},
   "outputs": [
    {
     "name": "stdout",
     "output_type": "stream",
     "text": [
      "[10:41:55] WARNING: C:/Users/Administrator/workspace/xgboost-win64_release_1.4.0/src/learner.cc:1095: Starting in XGBoost 1.3.0, the default evaluation metric used with the objective 'binary:logistic' was changed from 'error' to 'logloss'. Explicitly set eval_metric if you'd like to restore the old behavior.\n",
      "-------------------------------------------------------\n",
      "Accuracy Score: 93.26424870466322%\n",
      "roc_auc_score: 93.25697163594691%\n",
      "Confusion Matrix : \n",
      " [[277  19]\n",
      " [ 20 263]]\n",
      "\n",
      "CLASSIFICATION REPORT : \n",
      "               precision    recall  f1-score   support\n",
      "\n",
      "           0       0.93      0.94      0.93       296\n",
      "           1       0.93      0.93      0.93       283\n",
      "\n",
      "    accuracy                           0.93       579\n",
      "   macro avg       0.93      0.93      0.93       579\n",
      "weighted avg       0.93      0.93      0.93       579\n",
      "\n"
     ]
    }
   ],
   "source": [
    "#lets check with XGBClassifier model\n",
    "from xgboost import XGBClassifier\n",
    "xgb = XGBClassifier()\n",
    "xgb.fit(x_train,y_train)\n",
    "pred_xgb = xgb.predict(x_test)\n",
    "print(\"-------------------------------------------------------\")\n",
    "\n",
    "print(f\"Accuracy Score: {accuracy_score(y_test,pred_xgb)*100}%\")\n",
    "print(f\"roc_auc_score: {roc_auc_score(y_test,pred_xgb)*100}%\")\n",
    "print(f\"Confusion Matrix : \\n {confusion_matrix(y_test,pred_xgb)}\\n\")\n",
    "print(f\"CLASSIFICATION REPORT : \\n {classification_report(y_test,pred_xgb)}\")"
   ]
  },
  {
   "cell_type": "markdown",
   "id": "4d6a9768",
   "metadata": {},
   "source": [
    "## Cross validation"
   ]
  },
  {
   "cell_type": "code",
   "execution_count": 67,
   "id": "6c1564f1",
   "metadata": {},
   "outputs": [
    {
     "name": "stdout",
     "output_type": "stream",
     "text": [
      "Cross validation score of Logistic Regression model is : 0.8178660534743427\n"
     ]
    }
   ],
   "source": [
    "#Let's check cross validation score for all algorithms\n",
    "#for LogisticRegression\n",
    "from sklearn.model_selection import KFold, cross_val_score\n",
    "k_f =KFold(n_splits = 3, shuffle = True)\n",
    "k_f\n",
    "scores = cross_val_score(LR, X, y_over, cv = 5,scoring = \"accuracy\" )\n",
    "print(\"Cross validation score of Logistic Regression model is :\", scores.mean())"
   ]
  },
  {
   "cell_type": "code",
   "execution_count": 68,
   "id": "018cd490",
   "metadata": {},
   "outputs": [
    {
     "name": "stdout",
     "output_type": "stream",
     "text": [
      "Cross validation score of DecisionTreeClassifier model is : 0.8031689878602816\n"
     ]
    }
   ],
   "source": [
    "#Let's check cross validation score for DecisionTreeClassifier\n",
    "scores = cross_val_score(dt, X, y_over, cv=5, scoring = \"accuracy\")\n",
    "print(\"Cross validation score of DecisionTreeClassifier model is :\", scores.mean())"
   ]
  },
  {
   "cell_type": "code",
   "execution_count": 69,
   "id": "fbcee6f9",
   "metadata": {},
   "outputs": [
    {
     "name": "stdout",
     "output_type": "stream",
     "text": [
      "Cross validation score of RandomForestClassifier model is : 0.9029204215386907\n"
     ]
    }
   ],
   "source": [
    "#Let's check cross validation score for RandomForestClassifier\n",
    "scores = cross_val_score(rf, X, y_over, cv=5, scoring = \"accuracy\")\n",
    "print(\"Cross validation score of RandomForestClassifier model is :\", scores.mean())"
   ]
  },
  {
   "cell_type": "code",
   "execution_count": 70,
   "id": "a93bc1b1",
   "metadata": {},
   "outputs": [
    {
     "name": "stdout",
     "output_type": "stream",
     "text": [
      "Cross validation score of KNeighborsClassifier model is : 0.851913122812244\n"
     ]
    }
   ],
   "source": [
    "#Let's check cross validation score for KNeighborsClassifier\n",
    "scores = cross_val_score(kn, X, y_over, cv=5, scoring = \"accuracy\")\n",
    "print(\"Cross validation score of KNeighborsClassifier model is :\", scores.mean())"
   ]
  },
  {
   "cell_type": "code",
   "execution_count": 71,
   "id": "174aef5f",
   "metadata": {},
   "outputs": [
    {
     "name": "stdout",
     "output_type": "stream",
     "text": [
      "Cross validation score of SVC model is : 0.8476828405451702\n"
     ]
    }
   ],
   "source": [
    "#Let's check cross validation score for SVC\n",
    "scores = cross_val_score(svc, X, y_over, cv=5, scoring = \"accuracy\")\n",
    "print(\"Cross validation score of SVC model is :\", scores.mean())"
   ]
  },
  {
   "cell_type": "code",
   "execution_count": 72,
   "id": "6a8827d7",
   "metadata": {},
   "outputs": [
    {
     "name": "stdout",
     "output_type": "stream",
     "text": [
      "[10:42:53] WARNING: C:/Users/Administrator/workspace/xgboost-win64_release_1.4.0/src/learner.cc:1095: Starting in XGBoost 1.3.0, the default evaluation metric used with the objective 'binary:logistic' was changed from 'error' to 'logloss'. Explicitly set eval_metric if you'd like to restore the old behavior.\n",
      "[10:42:53] WARNING: C:/Users/Administrator/workspace/xgboost-win64_release_1.4.0/src/learner.cc:1095: Starting in XGBoost 1.3.0, the default evaluation metric used with the objective 'binary:logistic' was changed from 'error' to 'logloss'. Explicitly set eval_metric if you'd like to restore the old behavior.\n",
      "[10:42:53] WARNING: C:/Users/Administrator/workspace/xgboost-win64_release_1.4.0/src/learner.cc:1095: Starting in XGBoost 1.3.0, the default evaluation metric used with the objective 'binary:logistic' was changed from 'error' to 'logloss'. Explicitly set eval_metric if you'd like to restore the old behavior.\n",
      "[10:42:54] WARNING: C:/Users/Administrator/workspace/xgboost-win64_release_1.4.0/src/learner.cc:1095: Starting in XGBoost 1.3.0, the default evaluation metric used with the objective 'binary:logistic' was changed from 'error' to 'logloss'. Explicitly set eval_metric if you'd like to restore the old behavior.\n",
      "[10:42:54] WARNING: C:/Users/Administrator/workspace/xgboost-win64_release_1.4.0/src/learner.cc:1095: Starting in XGBoost 1.3.0, the default evaluation metric used with the objective 'binary:logistic' was changed from 'error' to 'logloss'. Explicitly set eval_metric if you'd like to restore the old behavior.\n",
      "Cross validation score of XGBClassifier model is : 0.9003370075221568\n"
     ]
    }
   ],
   "source": [
    "#Let's check cross validation score for XGBClassifier\n",
    "scores = cross_val_score(xgb, X, y_over, cv=5, scoring = \"accuracy\")\n",
    "print(\"Cross validation score of XGBClassifier model is :\", scores.mean())"
   ]
  },
  {
   "cell_type": "markdown",
   "id": "d4c751e5",
   "metadata": {},
   "source": [
    "### Difference in accuracy score and cross validation score for different algorithms\n",
    "\n",
    "    * LogisticRegression = 4.92%\n",
    "    * DecisionTreeClassifier = 3.11%\n",
    "    * RandomForestClassifier = 2.27%\n",
    "    * KNeighborsClassifier = 2.47%\n",
    "    * SVC = 5.91%\n",
    "    * XGBClassifier = 3.23%\n",
    "    \n",
    "* from above observations we can say the __RandomForestClassifier__ is giving least difference. So we can choose this algorithm for hyperparameter tuning. "
   ]
  },
  {
   "cell_type": "markdown",
   "id": "b9e4e8b7",
   "metadata": {},
   "source": [
    "## ROC & AUC Curve"
   ]
  },
  {
   "cell_type": "code",
   "execution_count": 74,
   "id": "bdf29b32",
   "metadata": {},
   "outputs": [
    {
     "data": {
      "image/png": "[encoded data removed]",
      "text/plain": [
       "<Figure size 432x288 with 1 Axes>"
      ]
     },
     "metadata": {
      "needs_background": "light"
     },
     "output_type": "display_data"
    }
   ],
   "source": [
    "#Lets plot roc curve and check auc and performance of all algorithms\n",
    "from sklearn.metrics import plot_roc_curve\n",
    "disp = plot_roc_curve(LR, x_test, y_test)\n",
    "plot_roc_curve(dt, x_test, y_test, ax = disp.ax_)\n",
    "plot_roc_curve(rf, x_test, y_test, ax = disp.ax_)\n",
    "plot_roc_curve(kn, x_test, y_test, ax = disp.ax_)\n",
    "plot_roc_curve(svc, x_test, y_test, ax = disp.ax_)\n",
    "plot_roc_curve(xgb, x_test, y_test, ax = disp.ax_)\n",
    "\n",
    "plt.legend(prop={\"size\" :10} ,loc = 'lower right')\n",
    "plt.show()"
   ]
  },
  {
   "cell_type": "markdown",
   "id": "abd5cb9d",
   "metadata": {},
   "source": [
    "* RandomForestClassifier and XGBclassifier is giving good performance compared to other algorithms, with AUC arround 0.98."
   ]
  },
  {
   "cell_type": "code",
   "execution_count": 76,
   "id": "d11886e2",
   "metadata": {},
   "outputs": [],
   "source": [
    "grid_params = {\n",
    "               'criterion':['gini','entropy'],\n",
    "                'max_depth': [5,9,10,12,15],\n",
    "                'n_estimators':[100,200,500,700],\n",
    "                'max_features':['aoto','sqrt','log2'],\n",
    "                'min_samples_split': [2,3,4,6]\n",
    "                }"
   ]
  },
  {
   "cell_type": "code",
   "execution_count": 77,
   "id": "f0cfc44c",
   "metadata": {},
   "outputs": [
    {
     "data": {
      "text/plain": [
       "GridSearchCV(cv=5, estimator=RandomForestClassifier(),\n",
       "             param_grid={'criterion': ['gini', 'entropy'],\n",
       "                         'max_depth': [5, 9, 10, 12, 15],\n",
       "                         'max_features': ['aoto', 'sqrt', 'log2'],\n",
       "                         'min_samples_split': [2, 3, 4, 6],\n",
       "                         'n_estimators': [100, 200, 500, 700]})"
      ]
     },
     "execution_count": 77,
     "metadata": {},
     "output_type": "execute_result"
    }
   ],
   "source": [
    "GCV =  GridSearchCV(RandomForestClassifier(), grid_params, cv = 5)\n",
    "GCV.fit(x_train,y_train)"
   ]
  },
  {
   "cell_type": "code",
   "execution_count": 78,
   "id": "6d5afc26",
   "metadata": {},
   "outputs": [
    {
     "data": {
      "text/plain": [
       "{'criterion': 'gini',\n",
       " 'max_depth': 15,\n",
       " 'max_features': 'log2',\n",
       " 'min_samples_split': 2,\n",
       " 'n_estimators': 700}"
      ]
     },
     "execution_count": 78,
     "metadata": {},
     "output_type": "execute_result"
    }
   ],
   "source": [
    "GCV.best_params_       #printing the best parameters found by GridSearchCV"
   ]
  },
  {
   "cell_type": "code",
   "execution_count": 80,
   "id": "e9af21eb",
   "metadata": {},
   "outputs": [
    {
     "name": "stdout",
     "output_type": "stream",
     "text": [
      "Accuracy Score: 94.64594127806562%\n",
      "---------------------------------------------------\n",
      "roc_auc_score: 92.53473880240665%\n",
      "---------------------------------------------------\n",
      "Confusion Matrix : \n",
      " [[285  11]\n",
      " [ 20 263]]\n",
      "\n",
      "---------------------------------------------------\n",
      "CLASSIFICATION REPORT : \n",
      "               precision    recall  f1-score   support\n",
      "\n",
      "           0       0.93      0.96      0.95       296\n",
      "           1       0.96      0.93      0.94       283\n",
      "\n",
      "    accuracy                           0.95       579\n",
      "   macro avg       0.95      0.95      0.95       579\n",
      "weighted avg       0.95      0.95      0.95       579\n",
      "\n",
      "---------------------------------------------------\n"
     ]
    }
   ],
   "source": [
    "#Let's train and test our model using best parameters\n",
    "model = RandomForestClassifier(criterion='gini', max_depth=15, max_features='log2', n_estimators=700, min_samples_split = 2)\n",
    "\n",
    "model.fit(x_train,y_train)\n",
    "pred = model.predict(x_test)\n",
    "\n",
    "print(f\"Accuracy Score: {accuracy_score(y_test,pred)*100}%\")\n",
    "print(\"---------------------------------------------------\")\n",
    "\n",
    "print(f\"roc_auc_score: {roc_auc_score(y_test,pred_rf)*100}%\")\n",
    "print(\"---------------------------------------------------\")\n",
    "\n",
    "print(f\"Confusion Matrix : \\n {confusion_matrix(y_test,pred)}\\n\")\n",
    "print(\"---------------------------------------------------\")\n",
    "\n",
    "print(f\"CLASSIFICATION REPORT : \\n {classification_report(y_test,pred)}\")\n",
    "print(\"---------------------------------------------------\")\n"
   ]
  },
  {
   "cell_type": "markdown",
   "id": "3bc66111",
   "metadata": {},
   "source": [
    "* Greate we have improved our accuracy from __92.57%__ to __94.65%__, by hyperparameter tuning"
   ]
  },
  {
   "cell_type": "code",
   "execution_count": 81,
   "id": "f8bd9ac3",
   "metadata": {},
   "outputs": [
    {
     "data": {
      "text/plain": [
       "<sklearn.metrics._plot.roc_curve.RocCurveDisplay at 0xe5f8ef80a0>"
      ]
     },
     "execution_count": 81,
     "metadata": {},
     "output_type": "execute_result"
    },
    {
     "data": {
      "image/png": "[encoded data removed]",
      "text/plain": [
       "<Figure size 432x288 with 1 Axes>"
      ]
     },
     "metadata": {
      "needs_background": "light"
     },
     "output_type": "display_data"
    }
   ],
   "source": [
    "#Lets check our model performance after hyperparameter tuning by plottin \n",
    "plot_roc_curve(model, x_test, y_test)"
   ]
  },
  {
   "cell_type": "markdown",
   "id": "637a378f",
   "metadata": {},
   "source": [
    "* we can see our model is showing better performance now compared to previous."
   ]
  },
  {
   "cell_type": "markdown",
   "id": "e0638578",
   "metadata": {},
   "source": [
    "## Saving the model"
   ]
  },
  {
   "cell_type": "code",
   "execution_count": 82,
   "id": "afd4a0b7",
   "metadata": {},
   "outputs": [
    {
     "data": {
      "text/plain": [
       "['HR_Analytics.pkl']"
      ]
     },
     "execution_count": 82,
     "metadata": {},
     "output_type": "execute_result"
    }
   ],
   "source": [
    "import joblib\n",
    "joblib.dump(model,\"HR_Analytics.pkl\")"
   ]
  },
  {
   "cell_type": "code",
   "execution_count": null,
   "id": "d700f5cf",
   "metadata": {},
   "outputs": [],
   "source": []
  }
 ],
 "metadata": {
  "kernelspec": {
   "display_name": "Python 3",
   "language": "python",
   "name": "python3"
  },
  "language_info": {
   "codemirror_mode": {
    "name": "ipython",
    "version": 3
   },
   "file_extension": ".py",
   "mimetype": "text/x-python",
   "name": "python",
   "nbconvert_exporter": "python",
   "pygments_lexer": "ipython3",
   "version": "3.8.8"
  }
 },
 "nbformat": 4,
 "nbformat_minor": 5
}
