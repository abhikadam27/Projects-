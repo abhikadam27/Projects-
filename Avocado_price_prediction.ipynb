{
 "cells": [
  {
   "cell_type": "code",
   "execution_count": 1,
   "id": "bb8afa9b",
   "metadata": {},
   "outputs": [],
   "source": [
    "#import Neccessory libraries\n",
    "import pandas as pd\n",
    "import numpy as np\n",
    "import matplotlib.pyplot as plt\n",
    "import seaborn as sns\n",
    "\n",
    "from sklearn.preprocessing import StandardScaler\n",
    "\n",
    "from sklearn.model_selection import train_test_split, GridSearchCV\n",
    "from sklearn.metrics import mean_absolute_error\n",
    "from sklearn.metrics import mean_squared_error\n",
    "from sklearn.metrics import r2_score\n",
    "\n",
    "import datetime\n",
    "\n",
    "\n",
    "import warnings\n",
    "warnings.filterwarnings('ignore')\n",
    "%matplotlib inline"
   ]
  },
  {
   "cell_type": "code",
   "execution_count": 2,
   "id": "ca66b43d",
   "metadata": {},
   "outputs": [
    {
     "data": {
      "text/html": [
       "<div>\n",
       "<style scoped>\n",
       "    .dataframe tbody tr th:only-of-type {\n",
       "        vertical-align: middle;\n",
       "    }\n",
       "\n",
       "    .dataframe tbody tr th {\n",
       "        vertical-align: top;\n",
       "    }\n",
       "\n",
       "    .dataframe thead th {\n",
       "        text-align: right;\n",
       "    }\n",
       "</style>\n",
       "<table border=\"1\" class=\"dataframe\">\n",
       "  <thead>\n",
       "    <tr style=\"text-align: right;\">\n",
       "      <th></th>\n",
       "      <th>Unnamed: 0</th>\n",
       "      <th>Date</th>\n",
       "      <th>AveragePrice</th>\n",
       "      <th>Total Volume</th>\n",
       "      <th>4046</th>\n",
       "      <th>4225</th>\n",
       "      <th>4770</th>\n",
       "      <th>Total Bags</th>\n",
       "      <th>Small Bags</th>\n",
       "      <th>Large Bags</th>\n",
       "      <th>XLarge Bags</th>\n",
       "      <th>type</th>\n",
       "      <th>year</th>\n",
       "      <th>region</th>\n",
       "    </tr>\n",
       "  </thead>\n",
       "  <tbody>\n",
       "    <tr>\n",
       "      <th>0</th>\n",
       "      <td>0</td>\n",
       "      <td>2015-12-27</td>\n",
       "      <td>1.33</td>\n",
       "      <td>64236.62</td>\n",
       "      <td>1036.74</td>\n",
       "      <td>54454.85</td>\n",
       "      <td>48.16</td>\n",
       "      <td>8696.87</td>\n",
       "      <td>8603.62</td>\n",
       "      <td>93.25</td>\n",
       "      <td>0.0</td>\n",
       "      <td>conventional</td>\n",
       "      <td>2015</td>\n",
       "      <td>Albany</td>\n",
       "    </tr>\n",
       "    <tr>\n",
       "      <th>1</th>\n",
       "      <td>1</td>\n",
       "      <td>2015-12-20</td>\n",
       "      <td>1.35</td>\n",
       "      <td>54876.98</td>\n",
       "      <td>674.28</td>\n",
       "      <td>44638.81</td>\n",
       "      <td>58.33</td>\n",
       "      <td>9505.56</td>\n",
       "      <td>9408.07</td>\n",
       "      <td>97.49</td>\n",
       "      <td>0.0</td>\n",
       "      <td>conventional</td>\n",
       "      <td>2015</td>\n",
       "      <td>Albany</td>\n",
       "    </tr>\n",
       "    <tr>\n",
       "      <th>2</th>\n",
       "      <td>2</td>\n",
       "      <td>2015-12-13</td>\n",
       "      <td>0.93</td>\n",
       "      <td>118220.22</td>\n",
       "      <td>794.70</td>\n",
       "      <td>109149.67</td>\n",
       "      <td>130.50</td>\n",
       "      <td>8145.35</td>\n",
       "      <td>8042.21</td>\n",
       "      <td>103.14</td>\n",
       "      <td>0.0</td>\n",
       "      <td>conventional</td>\n",
       "      <td>2015</td>\n",
       "      <td>Albany</td>\n",
       "    </tr>\n",
       "    <tr>\n",
       "      <th>3</th>\n",
       "      <td>3</td>\n",
       "      <td>2015-12-06</td>\n",
       "      <td>1.08</td>\n",
       "      <td>78992.15</td>\n",
       "      <td>1132.00</td>\n",
       "      <td>71976.41</td>\n",
       "      <td>72.58</td>\n",
       "      <td>5811.16</td>\n",
       "      <td>5677.40</td>\n",
       "      <td>133.76</td>\n",
       "      <td>0.0</td>\n",
       "      <td>conventional</td>\n",
       "      <td>2015</td>\n",
       "      <td>Albany</td>\n",
       "    </tr>\n",
       "    <tr>\n",
       "      <th>4</th>\n",
       "      <td>4</td>\n",
       "      <td>2015-11-29</td>\n",
       "      <td>1.28</td>\n",
       "      <td>51039.60</td>\n",
       "      <td>941.48</td>\n",
       "      <td>43838.39</td>\n",
       "      <td>75.78</td>\n",
       "      <td>6183.95</td>\n",
       "      <td>5986.26</td>\n",
       "      <td>197.69</td>\n",
       "      <td>0.0</td>\n",
       "      <td>conventional</td>\n",
       "      <td>2015</td>\n",
       "      <td>Albany</td>\n",
       "    </tr>\n",
       "    <tr>\n",
       "      <th>5</th>\n",
       "      <td>5</td>\n",
       "      <td>2015-11-22</td>\n",
       "      <td>1.26</td>\n",
       "      <td>55979.78</td>\n",
       "      <td>1184.27</td>\n",
       "      <td>48067.99</td>\n",
       "      <td>43.61</td>\n",
       "      <td>6683.91</td>\n",
       "      <td>6556.47</td>\n",
       "      <td>127.44</td>\n",
       "      <td>0.0</td>\n",
       "      <td>conventional</td>\n",
       "      <td>2015</td>\n",
       "      <td>Albany</td>\n",
       "    </tr>\n",
       "    <tr>\n",
       "      <th>6</th>\n",
       "      <td>6</td>\n",
       "      <td>2015-11-15</td>\n",
       "      <td>0.99</td>\n",
       "      <td>83453.76</td>\n",
       "      <td>1368.92</td>\n",
       "      <td>73672.72</td>\n",
       "      <td>93.26</td>\n",
       "      <td>8318.86</td>\n",
       "      <td>8196.81</td>\n",
       "      <td>122.05</td>\n",
       "      <td>0.0</td>\n",
       "      <td>conventional</td>\n",
       "      <td>2015</td>\n",
       "      <td>Albany</td>\n",
       "    </tr>\n",
       "    <tr>\n",
       "      <th>7</th>\n",
       "      <td>7</td>\n",
       "      <td>2015-11-08</td>\n",
       "      <td>0.98</td>\n",
       "      <td>109428.33</td>\n",
       "      <td>703.75</td>\n",
       "      <td>101815.36</td>\n",
       "      <td>80.00</td>\n",
       "      <td>6829.22</td>\n",
       "      <td>6266.85</td>\n",
       "      <td>562.37</td>\n",
       "      <td>0.0</td>\n",
       "      <td>conventional</td>\n",
       "      <td>2015</td>\n",
       "      <td>Albany</td>\n",
       "    </tr>\n",
       "    <tr>\n",
       "      <th>8</th>\n",
       "      <td>8</td>\n",
       "      <td>2015-11-01</td>\n",
       "      <td>1.02</td>\n",
       "      <td>99811.42</td>\n",
       "      <td>1022.15</td>\n",
       "      <td>87315.57</td>\n",
       "      <td>85.34</td>\n",
       "      <td>11388.36</td>\n",
       "      <td>11104.53</td>\n",
       "      <td>283.83</td>\n",
       "      <td>0.0</td>\n",
       "      <td>conventional</td>\n",
       "      <td>2015</td>\n",
       "      <td>Albany</td>\n",
       "    </tr>\n",
       "    <tr>\n",
       "      <th>9</th>\n",
       "      <td>9</td>\n",
       "      <td>2015-10-25</td>\n",
       "      <td>1.07</td>\n",
       "      <td>74338.76</td>\n",
       "      <td>842.40</td>\n",
       "      <td>64757.44</td>\n",
       "      <td>113.00</td>\n",
       "      <td>8625.92</td>\n",
       "      <td>8061.47</td>\n",
       "      <td>564.45</td>\n",
       "      <td>0.0</td>\n",
       "      <td>conventional</td>\n",
       "      <td>2015</td>\n",
       "      <td>Albany</td>\n",
       "    </tr>\n",
       "    <tr>\n",
       "      <th>10</th>\n",
       "      <td>10</td>\n",
       "      <td>2015-10-18</td>\n",
       "      <td>1.12</td>\n",
       "      <td>84843.44</td>\n",
       "      <td>924.86</td>\n",
       "      <td>75595.85</td>\n",
       "      <td>117.07</td>\n",
       "      <td>8205.66</td>\n",
       "      <td>7877.86</td>\n",
       "      <td>327.80</td>\n",
       "      <td>0.0</td>\n",
       "      <td>conventional</td>\n",
       "      <td>2015</td>\n",
       "      <td>Albany</td>\n",
       "    </tr>\n",
       "    <tr>\n",
       "      <th>11</th>\n",
       "      <td>11</td>\n",
       "      <td>2015-10-11</td>\n",
       "      <td>1.28</td>\n",
       "      <td>64489.17</td>\n",
       "      <td>1582.03</td>\n",
       "      <td>52677.92</td>\n",
       "      <td>105.32</td>\n",
       "      <td>10123.90</td>\n",
       "      <td>9866.27</td>\n",
       "      <td>257.63</td>\n",
       "      <td>0.0</td>\n",
       "      <td>conventional</td>\n",
       "      <td>2015</td>\n",
       "      <td>Albany</td>\n",
       "    </tr>\n",
       "    <tr>\n",
       "      <th>12</th>\n",
       "      <td>12</td>\n",
       "      <td>2015-10-04</td>\n",
       "      <td>1.31</td>\n",
       "      <td>61007.10</td>\n",
       "      <td>2268.32</td>\n",
       "      <td>49880.67</td>\n",
       "      <td>101.36</td>\n",
       "      <td>8756.75</td>\n",
       "      <td>8379.98</td>\n",
       "      <td>376.77</td>\n",
       "      <td>0.0</td>\n",
       "      <td>conventional</td>\n",
       "      <td>2015</td>\n",
       "      <td>Albany</td>\n",
       "    </tr>\n",
       "    <tr>\n",
       "      <th>13</th>\n",
       "      <td>13</td>\n",
       "      <td>2015-09-27</td>\n",
       "      <td>0.99</td>\n",
       "      <td>106803.39</td>\n",
       "      <td>1204.88</td>\n",
       "      <td>99409.21</td>\n",
       "      <td>154.84</td>\n",
       "      <td>6034.46</td>\n",
       "      <td>5888.87</td>\n",
       "      <td>145.59</td>\n",
       "      <td>0.0</td>\n",
       "      <td>conventional</td>\n",
       "      <td>2015</td>\n",
       "      <td>Albany</td>\n",
       "    </tr>\n",
       "    <tr>\n",
       "      <th>14</th>\n",
       "      <td>14</td>\n",
       "      <td>2015-09-20</td>\n",
       "      <td>1.33</td>\n",
       "      <td>69759.01</td>\n",
       "      <td>1028.03</td>\n",
       "      <td>59313.12</td>\n",
       "      <td>150.50</td>\n",
       "      <td>9267.36</td>\n",
       "      <td>8489.10</td>\n",
       "      <td>778.26</td>\n",
       "      <td>0.0</td>\n",
       "      <td>conventional</td>\n",
       "      <td>2015</td>\n",
       "      <td>Albany</td>\n",
       "    </tr>\n",
       "    <tr>\n",
       "      <th>15</th>\n",
       "      <td>15</td>\n",
       "      <td>2015-09-13</td>\n",
       "      <td>1.28</td>\n",
       "      <td>76111.27</td>\n",
       "      <td>985.73</td>\n",
       "      <td>65696.86</td>\n",
       "      <td>142.00</td>\n",
       "      <td>9286.68</td>\n",
       "      <td>8665.19</td>\n",
       "      <td>621.49</td>\n",
       "      <td>0.0</td>\n",
       "      <td>conventional</td>\n",
       "      <td>2015</td>\n",
       "      <td>Albany</td>\n",
       "    </tr>\n",
       "    <tr>\n",
       "      <th>16</th>\n",
       "      <td>16</td>\n",
       "      <td>2015-09-06</td>\n",
       "      <td>1.11</td>\n",
       "      <td>99172.96</td>\n",
       "      <td>879.45</td>\n",
       "      <td>90062.62</td>\n",
       "      <td>240.79</td>\n",
       "      <td>7990.10</td>\n",
       "      <td>7762.87</td>\n",
       "      <td>227.23</td>\n",
       "      <td>0.0</td>\n",
       "      <td>conventional</td>\n",
       "      <td>2015</td>\n",
       "      <td>Albany</td>\n",
       "    </tr>\n",
       "    <tr>\n",
       "      <th>17</th>\n",
       "      <td>17</td>\n",
       "      <td>2015-08-30</td>\n",
       "      <td>1.07</td>\n",
       "      <td>105693.84</td>\n",
       "      <td>689.01</td>\n",
       "      <td>94362.67</td>\n",
       "      <td>335.43</td>\n",
       "      <td>10306.73</td>\n",
       "      <td>10218.93</td>\n",
       "      <td>87.80</td>\n",
       "      <td>0.0</td>\n",
       "      <td>conventional</td>\n",
       "      <td>2015</td>\n",
       "      <td>Albany</td>\n",
       "    </tr>\n",
       "    <tr>\n",
       "      <th>18</th>\n",
       "      <td>18</td>\n",
       "      <td>2015-08-23</td>\n",
       "      <td>1.34</td>\n",
       "      <td>79992.09</td>\n",
       "      <td>733.16</td>\n",
       "      <td>67933.79</td>\n",
       "      <td>444.78</td>\n",
       "      <td>10880.36</td>\n",
       "      <td>10745.79</td>\n",
       "      <td>134.57</td>\n",
       "      <td>0.0</td>\n",
       "      <td>conventional</td>\n",
       "      <td>2015</td>\n",
       "      <td>Albany</td>\n",
       "    </tr>\n",
       "    <tr>\n",
       "      <th>19</th>\n",
       "      <td>19</td>\n",
       "      <td>2015-08-16</td>\n",
       "      <td>1.33</td>\n",
       "      <td>80043.78</td>\n",
       "      <td>539.65</td>\n",
       "      <td>68666.01</td>\n",
       "      <td>394.90</td>\n",
       "      <td>10443.22</td>\n",
       "      <td>10297.68</td>\n",
       "      <td>145.54</td>\n",
       "      <td>0.0</td>\n",
       "      <td>conventional</td>\n",
       "      <td>2015</td>\n",
       "      <td>Albany</td>\n",
       "    </tr>\n",
       "  </tbody>\n",
       "</table>\n",
       "</div>"
      ],
      "text/plain": [
       "    Unnamed: 0        Date  AveragePrice  Total Volume     4046       4225  \\\n",
       "0            0  2015-12-27          1.33      64236.62  1036.74   54454.85   \n",
       "1            1  2015-12-20          1.35      54876.98   674.28   44638.81   \n",
       "2            2  2015-12-13          0.93     118220.22   794.70  109149.67   \n",
       "3            3  2015-12-06          1.08      78992.15  1132.00   71976.41   \n",
       "4            4  2015-11-29          1.28      51039.60   941.48   43838.39   \n",
       "5            5  2015-11-22          1.26      55979.78  1184.27   48067.99   \n",
       "6            6  2015-11-15          0.99      83453.76  1368.92   73672.72   \n",
       "7            7  2015-11-08          0.98     109428.33   703.75  101815.36   \n",
       "8            8  2015-11-01          1.02      99811.42  1022.15   87315.57   \n",
       "9            9  2015-10-25          1.07      74338.76   842.40   64757.44   \n",
       "10          10  2015-10-18          1.12      84843.44   924.86   75595.85   \n",
       "11          11  2015-10-11          1.28      64489.17  1582.03   52677.92   \n",
       "12          12  2015-10-04          1.31      61007.10  2268.32   49880.67   \n",
       "13          13  2015-09-27          0.99     106803.39  1204.88   99409.21   \n",
       "14          14  2015-09-20          1.33      69759.01  1028.03   59313.12   \n",
       "15          15  2015-09-13          1.28      76111.27   985.73   65696.86   \n",
       "16          16  2015-09-06          1.11      99172.96   879.45   90062.62   \n",
       "17          17  2015-08-30          1.07     105693.84   689.01   94362.67   \n",
       "18          18  2015-08-23          1.34      79992.09   733.16   67933.79   \n",
       "19          19  2015-08-16          1.33      80043.78   539.65   68666.01   \n",
       "\n",
       "      4770  Total Bags  Small Bags  Large Bags  XLarge Bags          type  \\\n",
       "0    48.16     8696.87     8603.62       93.25          0.0  conventional   \n",
       "1    58.33     9505.56     9408.07       97.49          0.0  conventional   \n",
       "2   130.50     8145.35     8042.21      103.14          0.0  conventional   \n",
       "3    72.58     5811.16     5677.40      133.76          0.0  conventional   \n",
       "4    75.78     6183.95     5986.26      197.69          0.0  conventional   \n",
       "5    43.61     6683.91     6556.47      127.44          0.0  conventional   \n",
       "6    93.26     8318.86     8196.81      122.05          0.0  conventional   \n",
       "7    80.00     6829.22     6266.85      562.37          0.0  conventional   \n",
       "8    85.34    11388.36    11104.53      283.83          0.0  conventional   \n",
       "9   113.00     8625.92     8061.47      564.45          0.0  conventional   \n",
       "10  117.07     8205.66     7877.86      327.80          0.0  conventional   \n",
       "11  105.32    10123.90     9866.27      257.63          0.0  conventional   \n",
       "12  101.36     8756.75     8379.98      376.77          0.0  conventional   \n",
       "13  154.84     6034.46     5888.87      145.59          0.0  conventional   \n",
       "14  150.50     9267.36     8489.10      778.26          0.0  conventional   \n",
       "15  142.00     9286.68     8665.19      621.49          0.0  conventional   \n",
       "16  240.79     7990.10     7762.87      227.23          0.0  conventional   \n",
       "17  335.43    10306.73    10218.93       87.80          0.0  conventional   \n",
       "18  444.78    10880.36    10745.79      134.57          0.0  conventional   \n",
       "19  394.90    10443.22    10297.68      145.54          0.0  conventional   \n",
       "\n",
       "    year  region  \n",
       "0   2015  Albany  \n",
       "1   2015  Albany  \n",
       "2   2015  Albany  \n",
       "3   2015  Albany  \n",
       "4   2015  Albany  \n",
       "5   2015  Albany  \n",
       "6   2015  Albany  \n",
       "7   2015  Albany  \n",
       "8   2015  Albany  \n",
       "9   2015  Albany  \n",
       "10  2015  Albany  \n",
       "11  2015  Albany  \n",
       "12  2015  Albany  \n",
       "13  2015  Albany  \n",
       "14  2015  Albany  \n",
       "15  2015  Albany  \n",
       "16  2015  Albany  \n",
       "17  2015  Albany  \n",
       "18  2015  Albany  \n",
       "19  2015  Albany  "
      ]
     },
     "execution_count": 2,
     "metadata": {},
     "output_type": "execute_result"
    }
   ],
   "source": [
    "#Read csv file and convert into dataframe\n",
    "df = pd.read_csv(r\"avocado.csv\")\n",
    "df.head(20)"
   ]
  },
  {
   "cell_type": "markdown",
   "id": "0347c8fd",
   "metadata": {},
   "source": [
    "### * Information related to different features\n",
    "\n",
    "    Unnamed\t-  SNo.\n",
    "    Date  -  The date of the observation\n",
    "    AveragePrice  -  the average price of a single avocado\n",
    "    Total Volume  -  Total number of avocados sold\n",
    "    4046  -  Total number of avocados with PLU 4046 sold\n",
    "    4225  -  Total number of avocados with PLU 4225 sold\n",
    "    4770  -  Total number of avocados with PLU 4770 sold\n",
    "    Total Bags\t-  Total Number of Bags sold\n",
    "    Small Bags  -  Total Number of Small Bags sold\n",
    "    Large Bags  -  Total Number of Large Bags sold\n",
    "    XLarge Bags  -  Total Number of XLarge Bags sold\n",
    "    type  -  Organic or Conventional\n",
    "    year  -  The year of observation\n",
    "    region  -  the city or region of the observation"
   ]
  },
  {
   "cell_type": "markdown",
   "id": "27fbf1bc",
   "metadata": {},
   "source": [
    "* here the data looks like arranged sequencially by region. we need to shuffle it to get good results."
   ]
  },
  {
   "cell_type": "code",
   "execution_count": 3,
   "id": "c1b46677",
   "metadata": {},
   "outputs": [
    {
     "data": {
      "text/html": [
       "<div>\n",
       "<style scoped>\n",
       "    .dataframe tbody tr th:only-of-type {\n",
       "        vertical-align: middle;\n",
       "    }\n",
       "\n",
       "    .dataframe tbody tr th {\n",
       "        vertical-align: top;\n",
       "    }\n",
       "\n",
       "    .dataframe thead th {\n",
       "        text-align: right;\n",
       "    }\n",
       "</style>\n",
       "<table border=\"1\" class=\"dataframe\">\n",
       "  <thead>\n",
       "    <tr style=\"text-align: right;\">\n",
       "      <th></th>\n",
       "      <th>index</th>\n",
       "      <th>Unnamed: 0</th>\n",
       "      <th>Date</th>\n",
       "      <th>AveragePrice</th>\n",
       "      <th>Total Volume</th>\n",
       "      <th>4046</th>\n",
       "      <th>4225</th>\n",
       "      <th>4770</th>\n",
       "      <th>Total Bags</th>\n",
       "      <th>Small Bags</th>\n",
       "      <th>Large Bags</th>\n",
       "      <th>XLarge Bags</th>\n",
       "      <th>type</th>\n",
       "      <th>year</th>\n",
       "      <th>region</th>\n",
       "    </tr>\n",
       "  </thead>\n",
       "  <tbody>\n",
       "    <tr>\n",
       "      <th>0</th>\n",
       "      <td>1063</td>\n",
       "      <td>23</td>\n",
       "      <td>2015-07-19</td>\n",
       "      <td>1.00</td>\n",
       "      <td>173741.30</td>\n",
       "      <td>111744.79</td>\n",
       "      <td>24068.98</td>\n",
       "      <td>647.13</td>\n",
       "      <td>37280.40</td>\n",
       "      <td>17718.50</td>\n",
       "      <td>19561.90</td>\n",
       "      <td>0.00</td>\n",
       "      <td>conventional</td>\n",
       "      <td>2015</td>\n",
       "      <td>Jacksonville</td>\n",
       "    </tr>\n",
       "    <tr>\n",
       "      <th>1</th>\n",
       "      <td>11622</td>\n",
       "      <td>0</td>\n",
       "      <td>2015-12-27</td>\n",
       "      <td>1.07</td>\n",
       "      <td>7851.73</td>\n",
       "      <td>1347.91</td>\n",
       "      <td>935.80</td>\n",
       "      <td>12.36</td>\n",
       "      <td>5555.66</td>\n",
       "      <td>214.52</td>\n",
       "      <td>5341.14</td>\n",
       "      <td>0.00</td>\n",
       "      <td>organic</td>\n",
       "      <td>2015</td>\n",
       "      <td>StLouis</td>\n",
       "    </tr>\n",
       "    <tr>\n",
       "      <th>2</th>\n",
       "      <td>15583</td>\n",
       "      <td>47</td>\n",
       "      <td>2017-02-05</td>\n",
       "      <td>1.14</td>\n",
       "      <td>149650.50</td>\n",
       "      <td>4548.46</td>\n",
       "      <td>70014.08</td>\n",
       "      <td>0.00</td>\n",
       "      <td>75087.96</td>\n",
       "      <td>20170.52</td>\n",
       "      <td>54917.44</td>\n",
       "      <td>0.00</td>\n",
       "      <td>organic</td>\n",
       "      <td>2017</td>\n",
       "      <td>GreatLakes</td>\n",
       "    </tr>\n",
       "    <tr>\n",
       "      <th>3</th>\n",
       "      <td>4114</td>\n",
       "      <td>6</td>\n",
       "      <td>2016-11-13</td>\n",
       "      <td>1.52</td>\n",
       "      <td>2075282.76</td>\n",
       "      <td>589046.77</td>\n",
       "      <td>723968.74</td>\n",
       "      <td>99449.47</td>\n",
       "      <td>662817.78</td>\n",
       "      <td>562621.68</td>\n",
       "      <td>97915.02</td>\n",
       "      <td>2281.08</td>\n",
       "      <td>conventional</td>\n",
       "      <td>2016</td>\n",
       "      <td>Midsouth</td>\n",
       "    </tr>\n",
       "    <tr>\n",
       "      <th>4</th>\n",
       "      <td>9247</td>\n",
       "      <td>17</td>\n",
       "      <td>2015-08-30</td>\n",
       "      <td>1.60</td>\n",
       "      <td>12626.20</td>\n",
       "      <td>2524.44</td>\n",
       "      <td>5164.04</td>\n",
       "      <td>715.02</td>\n",
       "      <td>4222.70</td>\n",
       "      <td>4219.94</td>\n",
       "      <td>2.76</td>\n",
       "      <td>0.00</td>\n",
       "      <td>organic</td>\n",
       "      <td>2015</td>\n",
       "      <td>BaltimoreWashington</td>\n",
       "    </tr>\n",
       "    <tr>\n",
       "      <th>...</th>\n",
       "      <td>...</td>\n",
       "      <td>...</td>\n",
       "      <td>...</td>\n",
       "      <td>...</td>\n",
       "      <td>...</td>\n",
       "      <td>...</td>\n",
       "      <td>...</td>\n",
       "      <td>...</td>\n",
       "      <td>...</td>\n",
       "      <td>...</td>\n",
       "      <td>...</td>\n",
       "      <td>...</td>\n",
       "      <td>...</td>\n",
       "      <td>...</td>\n",
       "      <td>...</td>\n",
       "    </tr>\n",
       "    <tr>\n",
       "      <th>18244</th>\n",
       "      <td>5674</td>\n",
       "      <td>5</td>\n",
       "      <td>2017-11-26</td>\n",
       "      <td>1.12</td>\n",
       "      <td>412213.00</td>\n",
       "      <td>211077.00</td>\n",
       "      <td>27773.00</td>\n",
       "      <td>903.00</td>\n",
       "      <td>172460.00</td>\n",
       "      <td>113141.00</td>\n",
       "      <td>55576.00</td>\n",
       "      <td>3743.00</td>\n",
       "      <td>conventional</td>\n",
       "      <td>2017</td>\n",
       "      <td>Atlanta</td>\n",
       "    </tr>\n",
       "    <tr>\n",
       "      <th>18245</th>\n",
       "      <td>10782</td>\n",
       "      <td>44</td>\n",
       "      <td>2015-02-22</td>\n",
       "      <td>1.76</td>\n",
       "      <td>2584.79</td>\n",
       "      <td>1346.61</td>\n",
       "      <td>31.51</td>\n",
       "      <td>0.00</td>\n",
       "      <td>1206.67</td>\n",
       "      <td>1206.67</td>\n",
       "      <td>0.00</td>\n",
       "      <td>0.00</td>\n",
       "      <td>organic</td>\n",
       "      <td>2015</td>\n",
       "      <td>Orlando</td>\n",
       "    </tr>\n",
       "    <tr>\n",
       "      <th>18246</th>\n",
       "      <td>12522</td>\n",
       "      <td>17</td>\n",
       "      <td>2016-08-28</td>\n",
       "      <td>1.02</td>\n",
       "      <td>34300.17</td>\n",
       "      <td>9948.68</td>\n",
       "      <td>259.53</td>\n",
       "      <td>0.00</td>\n",
       "      <td>24091.96</td>\n",
       "      <td>23775.82</td>\n",
       "      <td>316.14</td>\n",
       "      <td>0.00</td>\n",
       "      <td>organic</td>\n",
       "      <td>2016</td>\n",
       "      <td>DallasFtWorth</td>\n",
       "    </tr>\n",
       "    <tr>\n",
       "      <th>18247</th>\n",
       "      <td>325</td>\n",
       "      <td>13</td>\n",
       "      <td>2015-09-27</td>\n",
       "      <td>1.04</td>\n",
       "      <td>5216784.63</td>\n",
       "      <td>1860050.39</td>\n",
       "      <td>2635028.38</td>\n",
       "      <td>206460.07</td>\n",
       "      <td>515245.79</td>\n",
       "      <td>496867.66</td>\n",
       "      <td>13336.34</td>\n",
       "      <td>5041.79</td>\n",
       "      <td>conventional</td>\n",
       "      <td>2015</td>\n",
       "      <td>California</td>\n",
       "    </tr>\n",
       "    <tr>\n",
       "      <th>18248</th>\n",
       "      <td>14626</td>\n",
       "      <td>41</td>\n",
       "      <td>2016-03-13</td>\n",
       "      <td>1.29</td>\n",
       "      <td>1023655.87</td>\n",
       "      <td>132040.04</td>\n",
       "      <td>346341.46</td>\n",
       "      <td>6709.65</td>\n",
       "      <td>538564.72</td>\n",
       "      <td>282353.48</td>\n",
       "      <td>256211.24</td>\n",
       "      <td>0.00</td>\n",
       "      <td>organic</td>\n",
       "      <td>2016</td>\n",
       "      <td>TotalUS</td>\n",
       "    </tr>\n",
       "  </tbody>\n",
       "</table>\n",
       "<p>18249 rows × 15 columns</p>\n",
       "</div>"
      ],
      "text/plain": [
       "       index  Unnamed: 0        Date  AveragePrice  Total Volume        4046  \\\n",
       "0       1063          23  2015-07-19          1.00     173741.30   111744.79   \n",
       "1      11622           0  2015-12-27          1.07       7851.73     1347.91   \n",
       "2      15583          47  2017-02-05          1.14     149650.50     4548.46   \n",
       "3       4114           6  2016-11-13          1.52    2075282.76   589046.77   \n",
       "4       9247          17  2015-08-30          1.60      12626.20     2524.44   \n",
       "...      ...         ...         ...           ...           ...         ...   \n",
       "18244   5674           5  2017-11-26          1.12     412213.00   211077.00   \n",
       "18245  10782          44  2015-02-22          1.76       2584.79     1346.61   \n",
       "18246  12522          17  2016-08-28          1.02      34300.17     9948.68   \n",
       "18247    325          13  2015-09-27          1.04    5216784.63  1860050.39   \n",
       "18248  14626          41  2016-03-13          1.29    1023655.87   132040.04   \n",
       "\n",
       "             4225       4770  Total Bags  Small Bags  Large Bags  XLarge Bags  \\\n",
       "0        24068.98     647.13    37280.40    17718.50    19561.90         0.00   \n",
       "1          935.80      12.36     5555.66      214.52     5341.14         0.00   \n",
       "2        70014.08       0.00    75087.96    20170.52    54917.44         0.00   \n",
       "3       723968.74   99449.47   662817.78   562621.68    97915.02      2281.08   \n",
       "4         5164.04     715.02     4222.70     4219.94        2.76         0.00   \n",
       "...           ...        ...         ...         ...         ...          ...   \n",
       "18244    27773.00     903.00   172460.00   113141.00    55576.00      3743.00   \n",
       "18245       31.51       0.00     1206.67     1206.67        0.00         0.00   \n",
       "18246      259.53       0.00    24091.96    23775.82      316.14         0.00   \n",
       "18247  2635028.38  206460.07   515245.79   496867.66    13336.34      5041.79   \n",
       "18248   346341.46    6709.65   538564.72   282353.48   256211.24         0.00   \n",
       "\n",
       "               type  year               region  \n",
       "0      conventional  2015         Jacksonville  \n",
       "1           organic  2015              StLouis  \n",
       "2           organic  2017           GreatLakes  \n",
       "3      conventional  2016             Midsouth  \n",
       "4           organic  2015  BaltimoreWashington  \n",
       "...             ...   ...                  ...  \n",
       "18244  conventional  2017              Atlanta  \n",
       "18245       organic  2015              Orlando  \n",
       "18246       organic  2016        DallasFtWorth  \n",
       "18247  conventional  2015           California  \n",
       "18248       organic  2016              TotalUS  \n",
       "\n",
       "[18249 rows x 15 columns]"
      ]
     },
     "execution_count": 3,
     "metadata": {},
     "output_type": "execute_result"
    }
   ],
   "source": [
    "from sklearn.utils import shuffle\n",
    "df = shuffle(df)\n",
    "df.reset_index(inplace = True)\n",
    "df"
   ]
  },
  {
   "cell_type": "code",
   "execution_count": 4,
   "id": "c47e7b6a",
   "metadata": {},
   "outputs": [
    {
     "data": {
      "text/plain": [
       "index           0\n",
       "Unnamed: 0      0\n",
       "Date            0\n",
       "AveragePrice    0\n",
       "Total Volume    0\n",
       "4046            0\n",
       "4225            0\n",
       "4770            0\n",
       "Total Bags      0\n",
       "Small Bags      0\n",
       "Large Bags      0\n",
       "XLarge Bags     0\n",
       "type            0\n",
       "year            0\n",
       "region          0\n",
       "dtype: int64"
      ]
     },
     "execution_count": 4,
     "metadata": {},
     "output_type": "execute_result"
    }
   ],
   "source": [
    "#Lets check for null values in the dataset\n",
    "df.isnull().sum()"
   ]
  },
  {
   "cell_type": "code",
   "execution_count": 5,
   "id": "4266944e",
   "metadata": {},
   "outputs": [
    {
     "data": {
      "text/plain": [
       "0"
      ]
     },
     "execution_count": 5,
     "metadata": {},
     "output_type": "execute_result"
    }
   ],
   "source": [
    "df.duplicated().sum()"
   ]
  },
  {
   "cell_type": "code",
   "execution_count": 6,
   "id": "2bb7764d",
   "metadata": {},
   "outputs": [
    {
     "name": "stdout",
     "output_type": "stream",
     "text": [
      "<class 'pandas.core.frame.DataFrame'>\n",
      "RangeIndex: 18249 entries, 0 to 18248\n",
      "Data columns (total 15 columns):\n",
      " #   Column        Non-Null Count  Dtype  \n",
      "---  ------        --------------  -----  \n",
      " 0   index         18249 non-null  int64  \n",
      " 1   Unnamed: 0    18249 non-null  int64  \n",
      " 2   Date          18249 non-null  object \n",
      " 3   AveragePrice  18249 non-null  float64\n",
      " 4   Total Volume  18249 non-null  float64\n",
      " 5   4046          18249 non-null  float64\n",
      " 6   4225          18249 non-null  float64\n",
      " 7   4770          18249 non-null  float64\n",
      " 8   Total Bags    18249 non-null  float64\n",
      " 9   Small Bags    18249 non-null  float64\n",
      " 10  Large Bags    18249 non-null  float64\n",
      " 11  XLarge Bags   18249 non-null  float64\n",
      " 12  type          18249 non-null  object \n",
      " 13  year          18249 non-null  int64  \n",
      " 14  region        18249 non-null  object \n",
      "dtypes: float64(9), int64(3), object(3)\n",
      "memory usage: 2.1+ MB\n"
     ]
    }
   ],
   "source": [
    "#Lets look at the info relates to data\n",
    "df.info()"
   ]
  },
  {
   "cell_type": "markdown",
   "id": "a42eec97",
   "metadata": {},
   "source": [
    "By looking at data types, we can see that date is not datetime, so we will solve this problem and sort the data by date. Then will divide the dates into day-month-year for a better analysis."
   ]
  },
  {
   "cell_type": "code",
   "execution_count": 7,
   "id": "e69b4c14",
   "metadata": {},
   "outputs": [
    {
     "data": {
      "text/html": [
       "<div>\n",
       "<style scoped>\n",
       "    .dataframe tbody tr th:only-of-type {\n",
       "        vertical-align: middle;\n",
       "    }\n",
       "\n",
       "    .dataframe tbody tr th {\n",
       "        vertical-align: top;\n",
       "    }\n",
       "\n",
       "    .dataframe thead th {\n",
       "        text-align: right;\n",
       "    }\n",
       "</style>\n",
       "<table border=\"1\" class=\"dataframe\">\n",
       "  <thead>\n",
       "    <tr style=\"text-align: right;\">\n",
       "      <th></th>\n",
       "      <th>index</th>\n",
       "      <th>Unnamed: 0</th>\n",
       "      <th>Date</th>\n",
       "      <th>AveragePrice</th>\n",
       "      <th>Total Volume</th>\n",
       "      <th>4046</th>\n",
       "      <th>4225</th>\n",
       "      <th>4770</th>\n",
       "      <th>Total Bags</th>\n",
       "      <th>Small Bags</th>\n",
       "      <th>Large Bags</th>\n",
       "      <th>XLarge Bags</th>\n",
       "      <th>type</th>\n",
       "      <th>year</th>\n",
       "      <th>region</th>\n",
       "      <th>Year</th>\n",
       "      <th>Month</th>\n",
       "      <th>Day</th>\n",
       "    </tr>\n",
       "  </thead>\n",
       "  <tbody>\n",
       "    <tr>\n",
       "      <th>0</th>\n",
       "      <td>1063</td>\n",
       "      <td>23</td>\n",
       "      <td>2015-07-19</td>\n",
       "      <td>1.00</td>\n",
       "      <td>173741.30</td>\n",
       "      <td>111744.79</td>\n",
       "      <td>24068.98</td>\n",
       "      <td>647.13</td>\n",
       "      <td>37280.40</td>\n",
       "      <td>17718.50</td>\n",
       "      <td>19561.90</td>\n",
       "      <td>0.00</td>\n",
       "      <td>conventional</td>\n",
       "      <td>2015</td>\n",
       "      <td>Jacksonville</td>\n",
       "      <td>2015</td>\n",
       "      <td>07</td>\n",
       "      <td>19</td>\n",
       "    </tr>\n",
       "    <tr>\n",
       "      <th>1</th>\n",
       "      <td>11622</td>\n",
       "      <td>0</td>\n",
       "      <td>2015-12-27</td>\n",
       "      <td>1.07</td>\n",
       "      <td>7851.73</td>\n",
       "      <td>1347.91</td>\n",
       "      <td>935.80</td>\n",
       "      <td>12.36</td>\n",
       "      <td>5555.66</td>\n",
       "      <td>214.52</td>\n",
       "      <td>5341.14</td>\n",
       "      <td>0.00</td>\n",
       "      <td>organic</td>\n",
       "      <td>2015</td>\n",
       "      <td>StLouis</td>\n",
       "      <td>2015</td>\n",
       "      <td>12</td>\n",
       "      <td>27</td>\n",
       "    </tr>\n",
       "    <tr>\n",
       "      <th>2</th>\n",
       "      <td>15583</td>\n",
       "      <td>47</td>\n",
       "      <td>2017-02-05</td>\n",
       "      <td>1.14</td>\n",
       "      <td>149650.50</td>\n",
       "      <td>4548.46</td>\n",
       "      <td>70014.08</td>\n",
       "      <td>0.00</td>\n",
       "      <td>75087.96</td>\n",
       "      <td>20170.52</td>\n",
       "      <td>54917.44</td>\n",
       "      <td>0.00</td>\n",
       "      <td>organic</td>\n",
       "      <td>2017</td>\n",
       "      <td>GreatLakes</td>\n",
       "      <td>2017</td>\n",
       "      <td>02</td>\n",
       "      <td>05</td>\n",
       "    </tr>\n",
       "    <tr>\n",
       "      <th>3</th>\n",
       "      <td>4114</td>\n",
       "      <td>6</td>\n",
       "      <td>2016-11-13</td>\n",
       "      <td>1.52</td>\n",
       "      <td>2075282.76</td>\n",
       "      <td>589046.77</td>\n",
       "      <td>723968.74</td>\n",
       "      <td>99449.47</td>\n",
       "      <td>662817.78</td>\n",
       "      <td>562621.68</td>\n",
       "      <td>97915.02</td>\n",
       "      <td>2281.08</td>\n",
       "      <td>conventional</td>\n",
       "      <td>2016</td>\n",
       "      <td>Midsouth</td>\n",
       "      <td>2016</td>\n",
       "      <td>11</td>\n",
       "      <td>13</td>\n",
       "    </tr>\n",
       "    <tr>\n",
       "      <th>4</th>\n",
       "      <td>9247</td>\n",
       "      <td>17</td>\n",
       "      <td>2015-08-30</td>\n",
       "      <td>1.60</td>\n",
       "      <td>12626.20</td>\n",
       "      <td>2524.44</td>\n",
       "      <td>5164.04</td>\n",
       "      <td>715.02</td>\n",
       "      <td>4222.70</td>\n",
       "      <td>4219.94</td>\n",
       "      <td>2.76</td>\n",
       "      <td>0.00</td>\n",
       "      <td>organic</td>\n",
       "      <td>2015</td>\n",
       "      <td>BaltimoreWashington</td>\n",
       "      <td>2015</td>\n",
       "      <td>08</td>\n",
       "      <td>30</td>\n",
       "    </tr>\n",
       "    <tr>\n",
       "      <th>5</th>\n",
       "      <td>4254</td>\n",
       "      <td>42</td>\n",
       "      <td>2016-03-06</td>\n",
       "      <td>0.97</td>\n",
       "      <td>267953.78</td>\n",
       "      <td>150786.30</td>\n",
       "      <td>27025.48</td>\n",
       "      <td>565.65</td>\n",
       "      <td>89576.35</td>\n",
       "      <td>74664.71</td>\n",
       "      <td>14911.64</td>\n",
       "      <td>0.00</td>\n",
       "      <td>conventional</td>\n",
       "      <td>2016</td>\n",
       "      <td>NewOrleansMobile</td>\n",
       "      <td>2016</td>\n",
       "      <td>03</td>\n",
       "      <td>06</td>\n",
       "    </tr>\n",
       "    <tr>\n",
       "      <th>6</th>\n",
       "      <td>250</td>\n",
       "      <td>42</td>\n",
       "      <td>2015-03-08</td>\n",
       "      <td>1.17</td>\n",
       "      <td>408403.96</td>\n",
       "      <td>3425.53</td>\n",
       "      <td>290512.65</td>\n",
       "      <td>78.96</td>\n",
       "      <td>114386.82</td>\n",
       "      <td>113811.26</td>\n",
       "      <td>575.56</td>\n",
       "      <td>0.00</td>\n",
       "      <td>conventional</td>\n",
       "      <td>2015</td>\n",
       "      <td>Boston</td>\n",
       "      <td>2015</td>\n",
       "      <td>03</td>\n",
       "      <td>08</td>\n",
       "    </tr>\n",
       "    <tr>\n",
       "      <th>7</th>\n",
       "      <td>5571</td>\n",
       "      <td>7</td>\n",
       "      <td>2016-11-06</td>\n",
       "      <td>0.99</td>\n",
       "      <td>643630.66</td>\n",
       "      <td>389129.36</td>\n",
       "      <td>47289.95</td>\n",
       "      <td>17719.27</td>\n",
       "      <td>189492.08</td>\n",
       "      <td>106571.99</td>\n",
       "      <td>82920.09</td>\n",
       "      <td>0.00</td>\n",
       "      <td>conventional</td>\n",
       "      <td>2016</td>\n",
       "      <td>WestTexNewMexico</td>\n",
       "      <td>2016</td>\n",
       "      <td>11</td>\n",
       "      <td>06</td>\n",
       "    </tr>\n",
       "    <tr>\n",
       "      <th>8</th>\n",
       "      <td>13162</td>\n",
       "      <td>33</td>\n",
       "      <td>2016-05-08</td>\n",
       "      <td>1.47</td>\n",
       "      <td>1825.53</td>\n",
       "      <td>1.25</td>\n",
       "      <td>1161.26</td>\n",
       "      <td>0.00</td>\n",
       "      <td>663.02</td>\n",
       "      <td>115.48</td>\n",
       "      <td>547.54</td>\n",
       "      <td>0.00</td>\n",
       "      <td>organic</td>\n",
       "      <td>2016</td>\n",
       "      <td>Louisville</td>\n",
       "      <td>2016</td>\n",
       "      <td>05</td>\n",
       "      <td>08</td>\n",
       "    </tr>\n",
       "    <tr>\n",
       "      <th>9</th>\n",
       "      <td>8612</td>\n",
       "      <td>2</td>\n",
       "      <td>2018-03-11</td>\n",
       "      <td>0.87</td>\n",
       "      <td>1356159.96</td>\n",
       "      <td>688566.31</td>\n",
       "      <td>213463.41</td>\n",
       "      <td>5709.30</td>\n",
       "      <td>448420.94</td>\n",
       "      <td>329344.14</td>\n",
       "      <td>100310.59</td>\n",
       "      <td>18766.21</td>\n",
       "      <td>conventional</td>\n",
       "      <td>2018</td>\n",
       "      <td>DallasFtWorth</td>\n",
       "      <td>2018</td>\n",
       "      <td>03</td>\n",
       "      <td>11</td>\n",
       "    </tr>\n",
       "  </tbody>\n",
       "</table>\n",
       "</div>"
      ],
      "text/plain": [
       "   index  Unnamed: 0        Date  AveragePrice  Total Volume       4046  \\\n",
       "0   1063          23  2015-07-19          1.00     173741.30  111744.79   \n",
       "1  11622           0  2015-12-27          1.07       7851.73    1347.91   \n",
       "2  15583          47  2017-02-05          1.14     149650.50    4548.46   \n",
       "3   4114           6  2016-11-13          1.52    2075282.76  589046.77   \n",
       "4   9247          17  2015-08-30          1.60      12626.20    2524.44   \n",
       "5   4254          42  2016-03-06          0.97     267953.78  150786.30   \n",
       "6    250          42  2015-03-08          1.17     408403.96    3425.53   \n",
       "7   5571           7  2016-11-06          0.99     643630.66  389129.36   \n",
       "8  13162          33  2016-05-08          1.47       1825.53       1.25   \n",
       "9   8612           2  2018-03-11          0.87    1356159.96  688566.31   \n",
       "\n",
       "        4225      4770  Total Bags  Small Bags  Large Bags  XLarge Bags  \\\n",
       "0   24068.98    647.13    37280.40    17718.50    19561.90         0.00   \n",
       "1     935.80     12.36     5555.66      214.52     5341.14         0.00   \n",
       "2   70014.08      0.00    75087.96    20170.52    54917.44         0.00   \n",
       "3  723968.74  99449.47   662817.78   562621.68    97915.02      2281.08   \n",
       "4    5164.04    715.02     4222.70     4219.94        2.76         0.00   \n",
       "5   27025.48    565.65    89576.35    74664.71    14911.64         0.00   \n",
       "6  290512.65     78.96   114386.82   113811.26      575.56         0.00   \n",
       "7   47289.95  17719.27   189492.08   106571.99    82920.09         0.00   \n",
       "8    1161.26      0.00      663.02      115.48      547.54         0.00   \n",
       "9  213463.41   5709.30   448420.94   329344.14   100310.59     18766.21   \n",
       "\n",
       "           type  year               region  Year Month Day  \n",
       "0  conventional  2015         Jacksonville  2015    07  19  \n",
       "1       organic  2015              StLouis  2015    12  27  \n",
       "2       organic  2017           GreatLakes  2017    02  05  \n",
       "3  conventional  2016             Midsouth  2016    11  13  \n",
       "4       organic  2015  BaltimoreWashington  2015    08  30  \n",
       "5  conventional  2016     NewOrleansMobile  2016    03  06  \n",
       "6  conventional  2015               Boston  2015    03  08  \n",
       "7  conventional  2016     WestTexNewMexico  2016    11  06  \n",
       "8       organic  2016           Louisville  2016    05  08  \n",
       "9  conventional  2018        DallasFtWorth  2018    03  11  "
      ]
     },
     "execution_count": 7,
     "metadata": {},
     "output_type": "execute_result"
    }
   ],
   "source": [
    "dates = [datetime.datetime.strptime(ts, \"%Y-%m-%d\") for ts in df['Date']]\n",
    "df['Year'], df['Month'],  df['Day'] = df['Date'].str.split('-').str\n",
    "df.head(10)"
   ]
  },
  {
   "cell_type": "code",
   "execution_count": 8,
   "id": "05e44f8a",
   "metadata": {},
   "outputs": [],
   "source": [
    "#Lets drop Unnamed: 0 & index column as it just having index values\n",
    "#AS we converted Dates column into new features, we can drop Dates, years columns from our dataset\n",
    "drop_columns = [\"index\",\"Unnamed: 0\",\"Date\",\"year\"]\n",
    "df.drop(columns = drop_columns, axis=1, inplace = True)"
   ]
  },
  {
   "cell_type": "code",
   "execution_count": 9,
   "id": "b4e98832",
   "metadata": {},
   "outputs": [],
   "source": [
    "#Renaming of columns for better understanding\n",
    "df.rename(columns={'4046':'Small',\n",
    "                    '4225':'Large',\n",
    "                    '4770':'XLarge'}, \n",
    "                        inplace=True)"
   ]
  },
  {
   "cell_type": "code",
   "execution_count": 10,
   "id": "48ba81b0",
   "metadata": {},
   "outputs": [],
   "source": [
    "# we can also drop columns Total Volume and Total Bags as total volume is sum of small large and xlarge type of avocados\n",
    "# And total bags is sum of small,large and Xlarge bags\n",
    "clms = [\"Total Volume\", \"Total Bags\"]\n",
    "df.drop(columns = clms, axis = 1, inplace = True)"
   ]
  },
  {
   "cell_type": "code",
   "execution_count": 11,
   "id": "b231187e",
   "metadata": {},
   "outputs": [
    {
     "data": {
      "text/html": [
       "<div>\n",
       "<style scoped>\n",
       "    .dataframe tbody tr th:only-of-type {\n",
       "        vertical-align: middle;\n",
       "    }\n",
       "\n",
       "    .dataframe tbody tr th {\n",
       "        vertical-align: top;\n",
       "    }\n",
       "\n",
       "    .dataframe thead th {\n",
       "        text-align: right;\n",
       "    }\n",
       "</style>\n",
       "<table border=\"1\" class=\"dataframe\">\n",
       "  <thead>\n",
       "    <tr style=\"text-align: right;\">\n",
       "      <th></th>\n",
       "      <th>AveragePrice</th>\n",
       "      <th>Small</th>\n",
       "      <th>Large</th>\n",
       "      <th>XLarge</th>\n",
       "      <th>Small Bags</th>\n",
       "      <th>Large Bags</th>\n",
       "      <th>XLarge Bags</th>\n",
       "      <th>type</th>\n",
       "      <th>region</th>\n",
       "      <th>Year</th>\n",
       "      <th>Month</th>\n",
       "      <th>Day</th>\n",
       "    </tr>\n",
       "  </thead>\n",
       "  <tbody>\n",
       "    <tr>\n",
       "      <th>0</th>\n",
       "      <td>1.00</td>\n",
       "      <td>111744.79</td>\n",
       "      <td>24068.98</td>\n",
       "      <td>647.13</td>\n",
       "      <td>17718.50</td>\n",
       "      <td>19561.90</td>\n",
       "      <td>0.00</td>\n",
       "      <td>conventional</td>\n",
       "      <td>Jacksonville</td>\n",
       "      <td>2015</td>\n",
       "      <td>07</td>\n",
       "      <td>19</td>\n",
       "    </tr>\n",
       "    <tr>\n",
       "      <th>1</th>\n",
       "      <td>1.07</td>\n",
       "      <td>1347.91</td>\n",
       "      <td>935.80</td>\n",
       "      <td>12.36</td>\n",
       "      <td>214.52</td>\n",
       "      <td>5341.14</td>\n",
       "      <td>0.00</td>\n",
       "      <td>organic</td>\n",
       "      <td>StLouis</td>\n",
       "      <td>2015</td>\n",
       "      <td>12</td>\n",
       "      <td>27</td>\n",
       "    </tr>\n",
       "    <tr>\n",
       "      <th>2</th>\n",
       "      <td>1.14</td>\n",
       "      <td>4548.46</td>\n",
       "      <td>70014.08</td>\n",
       "      <td>0.00</td>\n",
       "      <td>20170.52</td>\n",
       "      <td>54917.44</td>\n",
       "      <td>0.00</td>\n",
       "      <td>organic</td>\n",
       "      <td>GreatLakes</td>\n",
       "      <td>2017</td>\n",
       "      <td>02</td>\n",
       "      <td>05</td>\n",
       "    </tr>\n",
       "    <tr>\n",
       "      <th>3</th>\n",
       "      <td>1.52</td>\n",
       "      <td>589046.77</td>\n",
       "      <td>723968.74</td>\n",
       "      <td>99449.47</td>\n",
       "      <td>562621.68</td>\n",
       "      <td>97915.02</td>\n",
       "      <td>2281.08</td>\n",
       "      <td>conventional</td>\n",
       "      <td>Midsouth</td>\n",
       "      <td>2016</td>\n",
       "      <td>11</td>\n",
       "      <td>13</td>\n",
       "    </tr>\n",
       "    <tr>\n",
       "      <th>4</th>\n",
       "      <td>1.60</td>\n",
       "      <td>2524.44</td>\n",
       "      <td>5164.04</td>\n",
       "      <td>715.02</td>\n",
       "      <td>4219.94</td>\n",
       "      <td>2.76</td>\n",
       "      <td>0.00</td>\n",
       "      <td>organic</td>\n",
       "      <td>BaltimoreWashington</td>\n",
       "      <td>2015</td>\n",
       "      <td>08</td>\n",
       "      <td>30</td>\n",
       "    </tr>\n",
       "    <tr>\n",
       "      <th>...</th>\n",
       "      <td>...</td>\n",
       "      <td>...</td>\n",
       "      <td>...</td>\n",
       "      <td>...</td>\n",
       "      <td>...</td>\n",
       "      <td>...</td>\n",
       "      <td>...</td>\n",
       "      <td>...</td>\n",
       "      <td>...</td>\n",
       "      <td>...</td>\n",
       "      <td>...</td>\n",
       "      <td>...</td>\n",
       "    </tr>\n",
       "    <tr>\n",
       "      <th>18244</th>\n",
       "      <td>1.12</td>\n",
       "      <td>211077.00</td>\n",
       "      <td>27773.00</td>\n",
       "      <td>903.00</td>\n",
       "      <td>113141.00</td>\n",
       "      <td>55576.00</td>\n",
       "      <td>3743.00</td>\n",
       "      <td>conventional</td>\n",
       "      <td>Atlanta</td>\n",
       "      <td>2017</td>\n",
       "      <td>11</td>\n",
       "      <td>26</td>\n",
       "    </tr>\n",
       "    <tr>\n",
       "      <th>18245</th>\n",
       "      <td>1.76</td>\n",
       "      <td>1346.61</td>\n",
       "      <td>31.51</td>\n",
       "      <td>0.00</td>\n",
       "      <td>1206.67</td>\n",
       "      <td>0.00</td>\n",
       "      <td>0.00</td>\n",
       "      <td>organic</td>\n",
       "      <td>Orlando</td>\n",
       "      <td>2015</td>\n",
       "      <td>02</td>\n",
       "      <td>22</td>\n",
       "    </tr>\n",
       "    <tr>\n",
       "      <th>18246</th>\n",
       "      <td>1.02</td>\n",
       "      <td>9948.68</td>\n",
       "      <td>259.53</td>\n",
       "      <td>0.00</td>\n",
       "      <td>23775.82</td>\n",
       "      <td>316.14</td>\n",
       "      <td>0.00</td>\n",
       "      <td>organic</td>\n",
       "      <td>DallasFtWorth</td>\n",
       "      <td>2016</td>\n",
       "      <td>08</td>\n",
       "      <td>28</td>\n",
       "    </tr>\n",
       "    <tr>\n",
       "      <th>18247</th>\n",
       "      <td>1.04</td>\n",
       "      <td>1860050.39</td>\n",
       "      <td>2635028.38</td>\n",
       "      <td>206460.07</td>\n",
       "      <td>496867.66</td>\n",
       "      <td>13336.34</td>\n",
       "      <td>5041.79</td>\n",
       "      <td>conventional</td>\n",
       "      <td>California</td>\n",
       "      <td>2015</td>\n",
       "      <td>09</td>\n",
       "      <td>27</td>\n",
       "    </tr>\n",
       "    <tr>\n",
       "      <th>18248</th>\n",
       "      <td>1.29</td>\n",
       "      <td>132040.04</td>\n",
       "      <td>346341.46</td>\n",
       "      <td>6709.65</td>\n",
       "      <td>282353.48</td>\n",
       "      <td>256211.24</td>\n",
       "      <td>0.00</td>\n",
       "      <td>organic</td>\n",
       "      <td>TotalUS</td>\n",
       "      <td>2016</td>\n",
       "      <td>03</td>\n",
       "      <td>13</td>\n",
       "    </tr>\n",
       "  </tbody>\n",
       "</table>\n",
       "<p>18249 rows × 12 columns</p>\n",
       "</div>"
      ],
      "text/plain": [
       "       AveragePrice       Small       Large     XLarge  Small Bags  \\\n",
       "0              1.00   111744.79    24068.98     647.13    17718.50   \n",
       "1              1.07     1347.91      935.80      12.36      214.52   \n",
       "2              1.14     4548.46    70014.08       0.00    20170.52   \n",
       "3              1.52   589046.77   723968.74   99449.47   562621.68   \n",
       "4              1.60     2524.44     5164.04     715.02     4219.94   \n",
       "...             ...         ...         ...        ...         ...   \n",
       "18244          1.12   211077.00    27773.00     903.00   113141.00   \n",
       "18245          1.76     1346.61       31.51       0.00     1206.67   \n",
       "18246          1.02     9948.68      259.53       0.00    23775.82   \n",
       "18247          1.04  1860050.39  2635028.38  206460.07   496867.66   \n",
       "18248          1.29   132040.04   346341.46    6709.65   282353.48   \n",
       "\n",
       "       Large Bags  XLarge Bags          type               region  Year Month  \\\n",
       "0        19561.90         0.00  conventional         Jacksonville  2015    07   \n",
       "1         5341.14         0.00       organic              StLouis  2015    12   \n",
       "2        54917.44         0.00       organic           GreatLakes  2017    02   \n",
       "3        97915.02      2281.08  conventional             Midsouth  2016    11   \n",
       "4            2.76         0.00       organic  BaltimoreWashington  2015    08   \n",
       "...           ...          ...           ...                  ...   ...   ...   \n",
       "18244    55576.00      3743.00  conventional              Atlanta  2017    11   \n",
       "18245        0.00         0.00       organic              Orlando  2015    02   \n",
       "18246      316.14         0.00       organic        DallasFtWorth  2016    08   \n",
       "18247    13336.34      5041.79  conventional           California  2015    09   \n",
       "18248   256211.24         0.00       organic              TotalUS  2016    03   \n",
       "\n",
       "      Day  \n",
       "0      19  \n",
       "1      27  \n",
       "2      05  \n",
       "3      13  \n",
       "4      30  \n",
       "...    ..  \n",
       "18244  26  \n",
       "18245  22  \n",
       "18246  28  \n",
       "18247  27  \n",
       "18248  13  \n",
       "\n",
       "[18249 rows x 12 columns]"
      ]
     },
     "execution_count": 11,
     "metadata": {},
     "output_type": "execute_result"
    }
   ],
   "source": [
    "#Lets check oue dataframe after updating\n",
    "df"
   ]
  },
  {
   "cell_type": "code",
   "execution_count": 12,
   "id": "d25a3914",
   "metadata": {},
   "outputs": [
    {
     "data": {
      "image/png": "[encoded data removed]",
      "text/plain": [
       "<Figure size 360x360 with 1 Axes>"
      ]
     },
     "metadata": {
      "needs_background": "light"
     },
     "output_type": "display_data"
    }
   ],
   "source": [
    "#Lets check how Small(4046) affects average price\n",
    "sns.relplot(x = \"Small\", y = \"AveragePrice\", data = df)\n",
    "plt.show()"
   ]
  },
  {
   "cell_type": "markdown",
   "id": "6813b782",
   "metadata": {},
   "source": [
    "* Here we can see the average price is maximum at total number of avocados with small size is under 50000. And above this range the price is between 0.7 to 1.5"
   ]
  },
  {
   "cell_type": "code",
   "execution_count": 13,
   "id": "d5b83900",
   "metadata": {},
   "outputs": [
    {
     "data": {
      "image/png": "[encoded data removed]",
      "text/plain": [
       "<Figure size 360x360 with 1 Axes>"
      ]
     },
     "metadata": {
      "needs_background": "light"
     },
     "output_type": "display_data"
    }
   ],
   "source": [
    "#Lets check how Large(4225) affects average price\n",
    "sns.relplot(x = \"Large\", y = \"AveragePrice\", data = df)\n",
    "plt.show()"
   ]
  },
  {
   "cell_type": "markdown",
   "id": "9a0d0211",
   "metadata": {},
   "source": [
    "* Here we can see the average price is maximum at total number of avocados with large size is under 50000. And above this range the price is between 0.7 to 1.7"
   ]
  },
  {
   "cell_type": "code",
   "execution_count": 14,
   "id": "e3ac1e37",
   "metadata": {},
   "outputs": [
    {
     "data": {
      "image/png": "[encoded data removed]",
      "text/plain": [
       "<Figure size 360x360 with 1 Axes>"
      ]
     },
     "metadata": {
      "needs_background": "light"
     },
     "output_type": "display_data"
    }
   ],
   "source": [
    "#Lets check how XLarge(4770) affects average price\n",
    "sns.relplot(x = \"XLarge\", y = \"AveragePrice\", data = df)\n",
    "plt.show()"
   ]
  },
  {
   "cell_type": "markdown",
   "id": "573de868",
   "metadata": {},
   "source": [
    "* Here we can see the average price is maximum at total number of avocados with XLarge size is under 60000. And above this range the price is between 0.7 to 1.3"
   ]
  },
  {
   "cell_type": "code",
   "execution_count": 15,
   "id": "d8d638d4",
   "metadata": {},
   "outputs": [
    {
     "data": {
      "image/png": "[encoded data removed]",
      "text/plain": [
       "<Figure size 360x360 with 1 Axes>"
      ]
     },
     "metadata": {
      "needs_background": "light"
     },
     "output_type": "display_data"
    }
   ],
   "source": [
    "#Lets check how Small Bags affects average price\n",
    "sns.relplot(x = \"Small Bags\", y = \"AveragePrice\", data = df)\n",
    "plt.show()"
   ]
  },
  {
   "cell_type": "markdown",
   "id": "0c1de565",
   "metadata": {},
   "source": [
    "*  when number small bags sold is below  20000 the average price is maximum. It says when we sell avocados in less quantity we will get more price."
   ]
  },
  {
   "cell_type": "code",
   "execution_count": 16,
   "id": "a5997c4b",
   "metadata": {},
   "outputs": [
    {
     "data": {
      "image/png": "[encoded data removed]",
      "text/plain": [
       "<Figure size 360x360 with 1 Axes>"
      ]
     },
     "metadata": {
      "needs_background": "light"
     },
     "output_type": "display_data"
    }
   ],
   "source": [
    "#Lets check how Large Bags affects average price\n",
    "sns.relplot(x = \"Large Bags\", y = \"AveragePrice\", data = df)\n",
    "plt.show()"
   ]
  },
  {
   "cell_type": "markdown",
   "id": "15c2089b",
   "metadata": {},
   "source": [
    "We can say number of large bags sold is seen in the range in 0 to 400000."
   ]
  },
  {
   "cell_type": "code",
   "execution_count": 17,
   "id": "51545c0f",
   "metadata": {},
   "outputs": [
    {
     "data": {
      "image/png": "[encoded data removed]",
      "text/plain": [
       "<Figure size 360x360 with 1 Axes>"
      ]
     },
     "metadata": {
      "needs_background": "light"
     },
     "output_type": "display_data"
    }
   ],
   "source": [
    "#Lets check how XLarge Bags affects average price\n",
    "sns.relplot(x = \"XLarge Bags\", y = \"AveragePrice\", data = df)\n",
    "plt.show()"
   ]
  },
  {
   "cell_type": "markdown",
   "id": "e06e3db1",
   "metadata": {},
   "source": [
    "* Here when number of XLarge bags sold is below 10000, then we will get more price for avocado."
   ]
  },
  {
   "cell_type": "code",
   "execution_count": 18,
   "id": "14a0e6f5",
   "metadata": {},
   "outputs": [
    {
     "data": {
      "text/plain": [
       "<AxesSubplot:xlabel='type', ylabel='count'>"
      ]
     },
     "execution_count": 18,
     "metadata": {},
     "output_type": "execute_result"
    },
    {
     "data": {
      "image/png": "[encoded data removed]",
      "text/plain": [
       "<Figure size 432x288 with 1 Axes>"
      ]
     },
     "metadata": {
      "needs_background": "light"
     },
     "output_type": "display_data"
    }
   ],
   "source": [
    "#Lets check the cuoun of conventional and organic avocados\n",
    "sns.countplot(df[\"type\"])"
   ]
  },
  {
   "cell_type": "markdown",
   "id": "d7b6c99d",
   "metadata": {},
   "source": [
    "* There are almost equal number of conventional and organic type of avocados"
   ]
  },
  {
   "cell_type": "code",
   "execution_count": 19,
   "id": "580c7e89",
   "metadata": {},
   "outputs": [
    {
     "data": {
      "image/png": "[encoded data removed]",
      "text/plain": [
       "<Figure size 432x288 with 1 Axes>"
      ]
     },
     "metadata": {
      "needs_background": "light"
     },
     "output_type": "display_data"
    }
   ],
   "source": [
    "# lets check the average price based on type\n",
    "sns.barplot(x = \"type\", y = \"AveragePrice\", data = df)\n",
    "plt.show()"
   ]
  },
  {
   "cell_type": "markdown",
   "id": "687358b8",
   "metadata": {},
   "source": [
    "* organic avocado is more expensive as a standard compared to conventional one."
   ]
  },
  {
   "cell_type": "code",
   "execution_count": 20,
   "id": "5664221a",
   "metadata": {},
   "outputs": [
    {
     "data": {
      "text/plain": [
       "LasVegas               338\n",
       "Tampa                  338\n",
       "Nashville              338\n",
       "GreatLakes             338\n",
       "Louisville             338\n",
       "Orlando                338\n",
       "California             338\n",
       "HartfordSpringfield    338\n",
       "Denver                 338\n",
       "Chicago                338\n",
       "PhoenixTucson          338\n",
       "SouthCentral           338\n",
       "Jacksonville           338\n",
       "Portland               338\n",
       "RichmondNorfolk        338\n",
       "Pittsburgh             338\n",
       "Spokane                338\n",
       "MiamiFtLauderdale      338\n",
       "Midsouth               338\n",
       "Boston                 338\n",
       "Plains                 338\n",
       "Detroit                338\n",
       "Columbus               338\n",
       "BuffaloRochester       338\n",
       "Indianapolis           338\n",
       "Northeast              338\n",
       "StLouis                338\n",
       "NewOrleansMobile       338\n",
       "SanFrancisco           338\n",
       "Syracuse               338\n",
       "RaleighGreensboro      338\n",
       "Philadelphia           338\n",
       "Charlotte              338\n",
       "CincinnatiDayton       338\n",
       "Atlanta                338\n",
       "Roanoke                338\n",
       "DallasFtWorth          338\n",
       "Seattle                338\n",
       "NewYork                338\n",
       "GrandRapids            338\n",
       "Houston                338\n",
       "Sacramento             338\n",
       "Southeast              338\n",
       "LosAngeles             338\n",
       "NorthernNewEngland     338\n",
       "SanDiego               338\n",
       "BaltimoreWashington    338\n",
       "HarrisburgScranton     338\n",
       "Albany                 338\n",
       "TotalUS                338\n",
       "West                   338\n",
       "SouthCarolina          338\n",
       "Boise                  338\n",
       "WestTexNewMexico       335\n",
       "Name: region, dtype: int64"
      ]
     },
     "execution_count": 20,
     "metadata": {},
     "output_type": "execute_result"
    }
   ],
   "source": [
    "#Lets check the unique values in region column\n",
    "df[\"region\"].value_counts()"
   ]
  },
  {
   "cell_type": "code",
   "execution_count": 21,
   "id": "b45cd625",
   "metadata": {},
   "outputs": [
    {
     "data": {
      "text/plain": [
       "Text(0.5, 1.0, 'Average Price of Avocado According to Region')"
      ]
     },
     "execution_count": 21,
     "metadata": {},
     "output_type": "execute_result"
    },
    {
     "data": {
      "image/png": "[encoded data removed]",
      "text/plain": [
       "<Figure size 1080x360 with 1 Axes>"
      ]
     },
     "metadata": {
      "needs_background": "light"
     },
     "output_type": "display_data"
    }
   ],
   "source": [
    "#Lets see how average price varies across every region\n",
    "df.groupby(\"region\")[\"AveragePrice\"].sum().sort_values(ascending=False).plot(kind=\"bar\",figsize=(15,5))\n",
    "plt.title('Average Price of Avocado According to Region')"
   ]
  },
  {
   "cell_type": "markdown",
   "id": "4bb21744",
   "metadata": {},
   "source": [
    "* AveragePrice Price of avocado varies from one region to another \n",
    "\n",
    "* HartfordSpringfield being highest and Houston being lowest price to get cheap Avocado.\n",
    "\n"
   ]
  },
  {
   "cell_type": "code",
   "execution_count": 22,
   "id": "d34709a9",
   "metadata": {},
   "outputs": [
    {
     "data": {
      "text/plain": [
       "<AxesSubplot:xlabel='Year', ylabel='AveragePrice'>"
      ]
     },
     "execution_count": 22,
     "metadata": {},
     "output_type": "execute_result"
    },
    {
     "data": {
      "image/png": "[encoded data removed]",
      "text/plain": [
       "<Figure size 432x288 with 1 Axes>"
      ]
     },
     "metadata": {
      "needs_background": "light"
     },
     "output_type": "display_data"
    }
   ],
   "source": [
    "#Lets check average price in every year \n",
    "sns.boxplot(x=\"Year\", y=\"AveragePrice\", data=df)"
   ]
  },
  {
   "cell_type": "markdown",
   "id": "cb43fa02",
   "metadata": {},
   "source": [
    "* We notice the average price was high in 2017 compared to other years."
   ]
  },
  {
   "cell_type": "code",
   "execution_count": 23,
   "id": "d86db8d4",
   "metadata": {},
   "outputs": [
    {
     "data": {
      "text/plain": [
       "<AxesSubplot:xlabel='Month', ylabel='AveragePrice'>"
      ]
     },
     "execution_count": 23,
     "metadata": {},
     "output_type": "execute_result"
    },
    {
     "data": {
      "image/png": "[encoded data removed]",
      "text/plain": [
       "<Figure size 432x288 with 1 Axes>"
      ]
     },
     "metadata": {
      "needs_background": "light"
     },
     "output_type": "display_data"
    }
   ],
   "source": [
    "#Lets see what is the average price af avocado in every month\n",
    "sns.barplot(x=\"Month\", y=\"AveragePrice\", data=df)"
   ]
  },
  {
   "cell_type": "markdown",
   "id": "17f88f10",
   "metadata": {},
   "source": [
    "* From this plot we can say that the average price of the avocado will have significantly higher value in the month of august, september and october compared to other months average price."
   ]
  },
  {
   "cell_type": "code",
   "execution_count": 24,
   "id": "6c9dc6f6",
   "metadata": {},
   "outputs": [
    {
     "data": {
      "image/png": "[encoded data removed]",
      "text/plain": [
       "<Figure size 1800x1080 with 2 Axes>"
      ]
     },
     "metadata": {
      "needs_background": "light"
     },
     "output_type": "display_data"
    }
   ],
   "source": [
    "#Lets plot heatmap to check correlation among differnt features and label\n",
    "df_corr = df.corr()\n",
    "plt.figure(figsize = (25,15))\n",
    "sns.heatmap(df_corr, vmin=-1, vmax=1, annot=True, square=True, center=0, fmt='.2g', linewidths=0.1)\n",
    "plt.tight_layout()"
   ]
  },
  {
   "cell_type": "markdown",
   "id": "469be5a4",
   "metadata": {},
   "source": [
    "* By seeing this heatmap we can say almost every feature is strongly related to some features.\n",
    "\n",
    "* And we can observe all features are having negative coefficient of correlation with average price"
   ]
  },
  {
   "cell_type": "code",
   "execution_count": 25,
   "id": "35433d1a",
   "metadata": {},
   "outputs": [
    {
     "data": {
      "text/html": [
       "<div>\n",
       "<style scoped>\n",
       "    .dataframe tbody tr th:only-of-type {\n",
       "        vertical-align: middle;\n",
       "    }\n",
       "\n",
       "    .dataframe tbody tr th {\n",
       "        vertical-align: top;\n",
       "    }\n",
       "\n",
       "    .dataframe thead th {\n",
       "        text-align: right;\n",
       "    }\n",
       "</style>\n",
       "<table border=\"1\" class=\"dataframe\">\n",
       "  <thead>\n",
       "    <tr style=\"text-align: right;\">\n",
       "      <th></th>\n",
       "      <th>AveragePrice</th>\n",
       "      <th>Small</th>\n",
       "      <th>Large</th>\n",
       "      <th>XLarge</th>\n",
       "      <th>Small Bags</th>\n",
       "      <th>Large Bags</th>\n",
       "      <th>XLarge Bags</th>\n",
       "    </tr>\n",
       "  </thead>\n",
       "  <tbody>\n",
       "    <tr>\n",
       "      <th>count</th>\n",
       "      <td>18249.000000</td>\n",
       "      <td>1.824900e+04</td>\n",
       "      <td>1.824900e+04</td>\n",
       "      <td>1.824900e+04</td>\n",
       "      <td>1.824900e+04</td>\n",
       "      <td>1.824900e+04</td>\n",
       "      <td>18249.000000</td>\n",
       "    </tr>\n",
       "    <tr>\n",
       "      <th>mean</th>\n",
       "      <td>1.405978</td>\n",
       "      <td>2.930084e+05</td>\n",
       "      <td>2.951546e+05</td>\n",
       "      <td>2.283974e+04</td>\n",
       "      <td>1.821947e+05</td>\n",
       "      <td>5.433809e+04</td>\n",
       "      <td>3106.426507</td>\n",
       "    </tr>\n",
       "    <tr>\n",
       "      <th>std</th>\n",
       "      <td>0.402677</td>\n",
       "      <td>1.264989e+06</td>\n",
       "      <td>1.204120e+06</td>\n",
       "      <td>1.074641e+05</td>\n",
       "      <td>7.461785e+05</td>\n",
       "      <td>2.439660e+05</td>\n",
       "      <td>17692.894652</td>\n",
       "    </tr>\n",
       "    <tr>\n",
       "      <th>min</th>\n",
       "      <td>0.440000</td>\n",
       "      <td>0.000000e+00</td>\n",
       "      <td>0.000000e+00</td>\n",
       "      <td>0.000000e+00</td>\n",
       "      <td>0.000000e+00</td>\n",
       "      <td>0.000000e+00</td>\n",
       "      <td>0.000000</td>\n",
       "    </tr>\n",
       "    <tr>\n",
       "      <th>25%</th>\n",
       "      <td>1.100000</td>\n",
       "      <td>8.540700e+02</td>\n",
       "      <td>3.008780e+03</td>\n",
       "      <td>0.000000e+00</td>\n",
       "      <td>2.849420e+03</td>\n",
       "      <td>1.274700e+02</td>\n",
       "      <td>0.000000</td>\n",
       "    </tr>\n",
       "    <tr>\n",
       "      <th>50%</th>\n",
       "      <td>1.370000</td>\n",
       "      <td>8.645300e+03</td>\n",
       "      <td>2.906102e+04</td>\n",
       "      <td>1.849900e+02</td>\n",
       "      <td>2.636282e+04</td>\n",
       "      <td>2.647710e+03</td>\n",
       "      <td>0.000000</td>\n",
       "    </tr>\n",
       "    <tr>\n",
       "      <th>75%</th>\n",
       "      <td>1.660000</td>\n",
       "      <td>1.110202e+05</td>\n",
       "      <td>1.502069e+05</td>\n",
       "      <td>6.243420e+03</td>\n",
       "      <td>8.333767e+04</td>\n",
       "      <td>2.202925e+04</td>\n",
       "      <td>132.500000</td>\n",
       "    </tr>\n",
       "    <tr>\n",
       "      <th>max</th>\n",
       "      <td>3.250000</td>\n",
       "      <td>2.274362e+07</td>\n",
       "      <td>2.047057e+07</td>\n",
       "      <td>2.546439e+06</td>\n",
       "      <td>1.338459e+07</td>\n",
       "      <td>5.719097e+06</td>\n",
       "      <td>551693.650000</td>\n",
       "    </tr>\n",
       "  </tbody>\n",
       "</table>\n",
       "</div>"
      ],
      "text/plain": [
       "       AveragePrice         Small         Large        XLarge    Small Bags  \\\n",
       "count  18249.000000  1.824900e+04  1.824900e+04  1.824900e+04  1.824900e+04   \n",
       "mean       1.405978  2.930084e+05  2.951546e+05  2.283974e+04  1.821947e+05   \n",
       "std        0.402677  1.264989e+06  1.204120e+06  1.074641e+05  7.461785e+05   \n",
       "min        0.440000  0.000000e+00  0.000000e+00  0.000000e+00  0.000000e+00   \n",
       "25%        1.100000  8.540700e+02  3.008780e+03  0.000000e+00  2.849420e+03   \n",
       "50%        1.370000  8.645300e+03  2.906102e+04  1.849900e+02  2.636282e+04   \n",
       "75%        1.660000  1.110202e+05  1.502069e+05  6.243420e+03  8.333767e+04   \n",
       "max        3.250000  2.274362e+07  2.047057e+07  2.546439e+06  1.338459e+07   \n",
       "\n",
       "         Large Bags    XLarge Bags  \n",
       "count  1.824900e+04   18249.000000  \n",
       "mean   5.433809e+04    3106.426507  \n",
       "std    2.439660e+05   17692.894652  \n",
       "min    0.000000e+00       0.000000  \n",
       "25%    1.274700e+02       0.000000  \n",
       "50%    2.647710e+03       0.000000  \n",
       "75%    2.202925e+04     132.500000  \n",
       "max    5.719097e+06  551693.650000  "
      ]
     },
     "execution_count": 25,
     "metadata": {},
     "output_type": "execute_result"
    }
   ],
   "source": [
    "#Lets check descrption of our data\n",
    "df.describe()"
   ]
  },
  {
   "cell_type": "markdown",
   "id": "79ec96d8",
   "metadata": {},
   "source": [
    "* This will tell us there are presence of outliers in every columns, as the data is much differing from minimum to mean and maximum."
   ]
  },
  {
   "cell_type": "code",
   "execution_count": 26,
   "id": "3eae4790",
   "metadata": {},
   "outputs": [
    {
     "data": {
      "image/png": "[encoded data removed]",
      "text/plain": [
       "<Figure size 1800x1440 with 12 Axes>"
      ]
     },
     "metadata": {
      "needs_background": "light"
     },
     "output_type": "display_data"
    }
   ],
   "source": [
    "#Lets have a look on distribution of continuous parameters\n",
    "plt.figure(figsize = (25,20))\n",
    "plotnumber = 1\n",
    "for column in df:\n",
    "    if plotnumber <=13:\n",
    "        ax = plt.subplot(4,4,plotnumber)\n",
    "        plt.hist(df[column], bins=30)\n",
    "        plt.xlabel(column,fontsize = 20)\n",
    "    plotnumber+=1\n",
    "plt.tight_layout()"
   ]
  },
  {
   "cell_type": "markdown",
   "id": "144c2283",
   "metadata": {},
   "source": [
    "* Average price column is normally distributing over the histogram.\n",
    "\n",
    "* Rest of the data are not much varying in term of numbers, so they are showing skewness."
   ]
  },
  {
   "cell_type": "code",
   "execution_count": 27,
   "id": "1be81405",
   "metadata": {},
   "outputs": [
    {
     "data": {
      "text/plain": [
       "AveragePrice     0.580303\n",
       "Small            8.648220\n",
       "Large            8.942466\n",
       "XLarge          10.159396\n",
       "Small Bags       9.540660\n",
       "Large Bags       9.796455\n",
       "XLarge Bags     13.139751\n",
       "Year             0.215339\n",
       "Month            0.106617\n",
       "Day              0.014310\n",
       "dtype: float64"
      ]
     },
     "execution_count": 27,
     "metadata": {},
     "output_type": "execute_result"
    }
   ],
   "source": [
    "#Lets check the skewness present in our dataset\n",
    "df.skew()"
   ]
  },
  {
   "cell_type": "markdown",
   "id": "ed0bb8d6",
   "metadata": {},
   "source": [
    "* I think due to presence of outliers in the dataset, its showing larger skewness"
   ]
  },
  {
   "cell_type": "code",
   "execution_count": 28,
   "id": "29150d75",
   "metadata": {},
   "outputs": [],
   "source": [
    "#lets remove outliers using zscore method\n",
    "from scipy import stats\n",
    "from scipy.stats import zscore\n",
    "z_score = zscore(df[[\"Small\",\"Large\",\"XLarge\",\"Small Bags\",\"Large Bags\",\"XLarge Bags\"]])\n",
    "abs_z_score = np.abs(z_score)\n",
    "filtering_entry = (abs_z_score < 3).all(axis = 1)\n",
    "df = df[filtering_entry]\n",
    "df.reset_index(inplace = True)"
   ]
  },
  {
   "cell_type": "code",
   "execution_count": 29,
   "id": "de98a0b2",
   "metadata": {},
   "outputs": [
    {
     "data": {
      "text/plain": [
       "(17782, 13)"
      ]
     },
     "execution_count": 29,
     "metadata": {},
     "output_type": "execute_result"
    }
   ],
   "source": [
    "#Lets check the shape of our dataset after removal of outliers, to check loss of data\n",
    "df.shape"
   ]
  },
  {
   "cell_type": "markdown",
   "id": "baab78ed",
   "metadata": {},
   "source": [
    "* By removing outliers from dataset we are loosing 2.5% of data, for better results we will remove outliers."
   ]
  },
  {
   "cell_type": "code",
   "execution_count": 30,
   "id": "5e32f12f",
   "metadata": {},
   "outputs": [],
   "source": [
    "#lets drop index column as it in not needed prediction\n",
    "col = [\"index\"]\n",
    "df.drop(columns = col, inplace = True )"
   ]
  },
  {
   "cell_type": "code",
   "execution_count": 31,
   "id": "d09ffbaf",
   "metadata": {},
   "outputs": [
    {
     "data": {
      "text/plain": [
       "AveragePrice    0.560969\n",
       "Small           4.928850\n",
       "Large           4.472729\n",
       "XLarge          5.137120\n",
       "Small Bags      4.238647\n",
       "Large Bags      5.072468\n",
       "XLarge Bags     6.159391\n",
       "Year            0.220792\n",
       "Month           0.098217\n",
       "Day             0.011251\n",
       "dtype: float64"
      ]
     },
     "execution_count": 31,
     "metadata": {},
     "output_type": "execute_result"
    }
   ],
   "source": [
    "# Again check the skewness after removing outliers\n",
    "df.skew()\n",
    "#we can see after removing outliers also there is significant skewness is present\n",
    "#we need to treat this skewness for better results"
   ]
  },
  {
   "cell_type": "code",
   "execution_count": 32,
   "id": "cea36018",
   "metadata": {},
   "outputs": [],
   "source": [
    "#lets seperat our data into label and features\n",
    "#Also remove column \"Day\" from features as its not contributng significantly to price \n",
    "x = df.drop(columns = [\"AveragePrice\", \"Day\"], axis = 1)\n",
    "y = df[\"AveragePrice\"]"
   ]
  },
  {
   "cell_type": "code",
   "execution_count": 33,
   "id": "74e98d12",
   "metadata": {},
   "outputs": [],
   "source": [
    "#Lets treat the skewed data\n",
    "for index in x.skew().index:\n",
    "    if x.skew().loc[index]>0.5:\n",
    "        x[index]=np.log1p(x[index])\n",
    "    if x.skew().loc[index]<-0.5:\n",
    "        x[index]=np.square(x[index])"
   ]
  },
  {
   "cell_type": "code",
   "execution_count": 34,
   "id": "b585c186",
   "metadata": {},
   "outputs": [
    {
     "data": {
      "text/plain": [
       "Small         -0.408827\n",
       "Large          0.113631\n",
       "XLarge         0.079074\n",
       "Small Bags     0.070202\n",
       "Large Bags     0.271867\n",
       "XLarge Bags    1.225926\n",
       "Year           0.220792\n",
       "Month          0.098217\n",
       "dtype: float64"
      ]
     },
     "execution_count": 34,
     "metadata": {},
     "output_type": "execute_result"
    }
   ],
   "source": [
    "#lets have a look skewness after treating\n",
    "x.skew()"
   ]
  },
  {
   "cell_type": "markdown",
   "id": "7a7efb2d",
   "metadata": {},
   "source": [
    "we removed much of skewed data from our dataset."
   ]
  },
  {
   "cell_type": "code",
   "execution_count": 35,
   "id": "56be2939",
   "metadata": {},
   "outputs": [],
   "source": [
    "#Lets bring Numerical features to common scale and convert categorical data to numerics\n",
    "#First create a dataset with only numerical features\n",
    "numeric_data = x.drop(columns = [\"type\",\"region\"])"
   ]
  },
  {
   "cell_type": "code",
   "execution_count": 36,
   "id": "66a2b0b2",
   "metadata": {},
   "outputs": [],
   "source": [
    "#Apply standard scaler to numerical features\n",
    "scaler = StandardScaler()\n",
    "x_num = scaler.fit_transform(numeric_data)\n",
    "x_num = pd.DataFrame(x_num,columns=numeric_data.columns)"
   ]
  },
  {
   "cell_type": "code",
   "execution_count": 37,
   "id": "2b05cbaa",
   "metadata": {},
   "outputs": [
    {
     "data": {
      "text/html": [
       "<div>\n",
       "<style scoped>\n",
       "    .dataframe tbody tr th:only-of-type {\n",
       "        vertical-align: middle;\n",
       "    }\n",
       "\n",
       "    .dataframe tbody tr th {\n",
       "        vertical-align: top;\n",
       "    }\n",
       "\n",
       "    .dataframe thead th {\n",
       "        text-align: right;\n",
       "    }\n",
       "</style>\n",
       "<table border=\"1\" class=\"dataframe\">\n",
       "  <thead>\n",
       "    <tr style=\"text-align: right;\">\n",
       "      <th></th>\n",
       "      <th>Small</th>\n",
       "      <th>Large</th>\n",
       "      <th>XLarge</th>\n",
       "      <th>Small Bags</th>\n",
       "      <th>Large Bags</th>\n",
       "      <th>XLarge Bags</th>\n",
       "      <th>Year</th>\n",
       "      <th>Month</th>\n",
       "    </tr>\n",
       "  </thead>\n",
       "  <tbody>\n",
       "    <tr>\n",
       "      <th>0</th>\n",
       "      <td>0.857897</td>\n",
       "      <td>0.001137</td>\n",
       "      <td>0.401673</td>\n",
       "      <td>-0.046919</td>\n",
       "      <td>0.767302</td>\n",
       "      <td>-0.624920</td>\n",
       "      <td>-1.214908</td>\n",
       "      <td>0.227794</td>\n",
       "    </tr>\n",
       "    <tr>\n",
       "      <th>1</th>\n",
       "      <td>-0.500771</td>\n",
       "      <td>-1.098501</td>\n",
       "      <td>-0.564050</td>\n",
       "      <td>-1.575710</td>\n",
       "      <td>0.243830</td>\n",
       "      <td>-0.624920</td>\n",
       "      <td>-1.214908</td>\n",
       "      <td>1.641434</td>\n",
       "    </tr>\n",
       "    <tr>\n",
       "      <th>2</th>\n",
       "      <td>-0.126813</td>\n",
       "      <td>0.454982</td>\n",
       "      <td>-1.208956</td>\n",
       "      <td>0.011475</td>\n",
       "      <td>1.236115</td>\n",
       "      <td>-0.624920</td>\n",
       "      <td>0.914459</td>\n",
       "      <td>-1.185845</td>\n",
       "    </tr>\n",
       "    <tr>\n",
       "      <th>3</th>\n",
       "      <td>1.369223</td>\n",
       "      <td>1.606999</td>\n",
       "      <td>1.653867</td>\n",
       "      <td>1.774365</td>\n",
       "      <td>1.519091</td>\n",
       "      <td>1.730633</td>\n",
       "      <td>-0.150224</td>\n",
       "      <td>1.358706</td>\n",
       "    </tr>\n",
       "    <tr>\n",
       "      <th>4</th>\n",
       "      <td>-0.307867</td>\n",
       "      <td>-0.572771</td>\n",
       "      <td>0.426456</td>\n",
       "      <td>-0.641949</td>\n",
       "      <td>-1.326978</td>\n",
       "      <td>-0.624920</td>\n",
       "      <td>-1.214908</td>\n",
       "      <td>0.510522</td>\n",
       "    </tr>\n",
       "    <tr>\n",
       "      <th>...</th>\n",
       "      <td>...</td>\n",
       "      <td>...</td>\n",
       "      <td>...</td>\n",
       "      <td>...</td>\n",
       "      <td>...</td>\n",
       "      <td>...</td>\n",
       "      <td>...</td>\n",
       "      <td>...</td>\n",
       "    </tr>\n",
       "    <tr>\n",
       "      <th>17777</th>\n",
       "      <td>1.053534</td>\n",
       "      <td>0.059328</td>\n",
       "      <td>0.484452</td>\n",
       "      <td>0.861533</td>\n",
       "      <td>1.241801</td>\n",
       "      <td>1.881438</td>\n",
       "      <td>0.914459</td>\n",
       "      <td>1.358706</td>\n",
       "    </tr>\n",
       "    <tr>\n",
       "      <th>17778</th>\n",
       "      <td>-0.501068</td>\n",
       "      <td>-1.792705</td>\n",
       "      <td>-1.208956</td>\n",
       "      <td>-1.084082</td>\n",
       "      <td>-1.365289</td>\n",
       "      <td>-0.624920</td>\n",
       "      <td>-1.214908</td>\n",
       "      <td>-1.185845</td>\n",
       "    </tr>\n",
       "    <tr>\n",
       "      <th>17779</th>\n",
       "      <td>0.113898</td>\n",
       "      <td>-1.416122</td>\n",
       "      <td>-1.208956</td>\n",
       "      <td>0.086670</td>\n",
       "      <td>-0.640824</td>\n",
       "      <td>-0.624920</td>\n",
       "      <td>-0.150224</td>\n",
       "      <td>0.510522</td>\n",
       "    </tr>\n",
       "    <tr>\n",
       "      <th>17780</th>\n",
       "      <td>1.722923</td>\n",
       "      <td>2.337870</td>\n",
       "      <td>1.835589</td>\n",
       "      <td>1.699427</td>\n",
       "      <td>0.605160</td>\n",
       "      <td>1.972155</td>\n",
       "      <td>-1.214908</td>\n",
       "      <td>0.793250</td>\n",
       "    </tr>\n",
       "    <tr>\n",
       "      <th>17781</th>\n",
       "      <td>0.909232</td>\n",
       "      <td>1.219806</td>\n",
       "      <td>0.983163</td>\n",
       "      <td>1.367571</td>\n",
       "      <td>2.022158</td>\n",
       "      <td>-0.624920</td>\n",
       "      <td>-0.150224</td>\n",
       "      <td>-0.903117</td>\n",
       "    </tr>\n",
       "  </tbody>\n",
       "</table>\n",
       "<p>17782 rows × 8 columns</p>\n",
       "</div>"
      ],
      "text/plain": [
       "          Small     Large    XLarge  Small Bags  Large Bags  XLarge Bags  \\\n",
       "0      0.857897  0.001137  0.401673   -0.046919    0.767302    -0.624920   \n",
       "1     -0.500771 -1.098501 -0.564050   -1.575710    0.243830    -0.624920   \n",
       "2     -0.126813  0.454982 -1.208956    0.011475    1.236115    -0.624920   \n",
       "3      1.369223  1.606999  1.653867    1.774365    1.519091     1.730633   \n",
       "4     -0.307867 -0.572771  0.426456   -0.641949   -1.326978    -0.624920   \n",
       "...         ...       ...       ...         ...         ...          ...   \n",
       "17777  1.053534  0.059328  0.484452    0.861533    1.241801     1.881438   \n",
       "17778 -0.501068 -1.792705 -1.208956   -1.084082   -1.365289    -0.624920   \n",
       "17779  0.113898 -1.416122 -1.208956    0.086670   -0.640824    -0.624920   \n",
       "17780  1.722923  2.337870  1.835589    1.699427    0.605160     1.972155   \n",
       "17781  0.909232  1.219806  0.983163    1.367571    2.022158    -0.624920   \n",
       "\n",
       "           Year     Month  \n",
       "0     -1.214908  0.227794  \n",
       "1     -1.214908  1.641434  \n",
       "2      0.914459 -1.185845  \n",
       "3     -0.150224  1.358706  \n",
       "4     -1.214908  0.510522  \n",
       "...         ...       ...  \n",
       "17777  0.914459  1.358706  \n",
       "17778 -1.214908 -1.185845  \n",
       "17779 -0.150224  0.510522  \n",
       "17780 -1.214908  0.793250  \n",
       "17781 -0.150224 -0.903117  \n",
       "\n",
       "[17782 rows x 8 columns]"
      ]
     },
     "execution_count": 37,
     "metadata": {},
     "output_type": "execute_result"
    }
   ],
   "source": [
    "#lets see how our numerical data looks after scaling\n",
    "x_num"
   ]
  },
  {
   "cell_type": "code",
   "execution_count": 38,
   "id": "faaf6066",
   "metadata": {},
   "outputs": [],
   "source": [
    "#create a dataset with categorical features\n",
    "cat_data = pd.DataFrame(x, columns = [\"type\",\"region\"])"
   ]
  },
  {
   "cell_type": "code",
   "execution_count": 39,
   "id": "9a64788a",
   "metadata": {},
   "outputs": [],
   "source": [
    "#lets convert categorical data into numeric values, using label encoder\n",
    "from sklearn.preprocessing import LabelEncoder\n",
    "\n",
    "leb_enc = LabelEncoder()\n",
    "for i in cat_data.columns:\n",
    "    cat_data[i] = leb_enc.fit_transform(cat_data[i])"
   ]
  },
  {
   "cell_type": "code",
   "execution_count": 40,
   "id": "9d0d98bc",
   "metadata": {},
   "outputs": [
    {
     "data": {
      "text/html": [
       "<div>\n",
       "<style scoped>\n",
       "    .dataframe tbody tr th:only-of-type {\n",
       "        vertical-align: middle;\n",
       "    }\n",
       "\n",
       "    .dataframe tbody tr th {\n",
       "        vertical-align: top;\n",
       "    }\n",
       "\n",
       "    .dataframe thead th {\n",
       "        text-align: right;\n",
       "    }\n",
       "</style>\n",
       "<table border=\"1\" class=\"dataframe\">\n",
       "  <thead>\n",
       "    <tr style=\"text-align: right;\">\n",
       "      <th></th>\n",
       "      <th>Small</th>\n",
       "      <th>Large</th>\n",
       "      <th>XLarge</th>\n",
       "      <th>Small Bags</th>\n",
       "      <th>Large Bags</th>\n",
       "      <th>XLarge Bags</th>\n",
       "      <th>Year</th>\n",
       "      <th>Month</th>\n",
       "      <th>type</th>\n",
       "      <th>region</th>\n",
       "    </tr>\n",
       "  </thead>\n",
       "  <tbody>\n",
       "    <tr>\n",
       "      <th>0</th>\n",
       "      <td>0.857897</td>\n",
       "      <td>0.001137</td>\n",
       "      <td>0.401673</td>\n",
       "      <td>-0.046919</td>\n",
       "      <td>0.767302</td>\n",
       "      <td>-0.624920</td>\n",
       "      <td>-1.214908</td>\n",
       "      <td>0.227794</td>\n",
       "      <td>0</td>\n",
       "      <td>20</td>\n",
       "    </tr>\n",
       "    <tr>\n",
       "      <th>1</th>\n",
       "      <td>-0.500771</td>\n",
       "      <td>-1.098501</td>\n",
       "      <td>-0.564050</td>\n",
       "      <td>-1.575710</td>\n",
       "      <td>0.243830</td>\n",
       "      <td>-0.624920</td>\n",
       "      <td>-1.214908</td>\n",
       "      <td>1.641434</td>\n",
       "      <td>1</td>\n",
       "      <td>48</td>\n",
       "    </tr>\n",
       "    <tr>\n",
       "      <th>2</th>\n",
       "      <td>-0.126813</td>\n",
       "      <td>0.454982</td>\n",
       "      <td>-1.208956</td>\n",
       "      <td>0.011475</td>\n",
       "      <td>1.236115</td>\n",
       "      <td>-0.624920</td>\n",
       "      <td>0.914459</td>\n",
       "      <td>-1.185845</td>\n",
       "      <td>1</td>\n",
       "      <td>15</td>\n",
       "    </tr>\n",
       "    <tr>\n",
       "      <th>3</th>\n",
       "      <td>1.369223</td>\n",
       "      <td>1.606999</td>\n",
       "      <td>1.653867</td>\n",
       "      <td>1.774365</td>\n",
       "      <td>1.519091</td>\n",
       "      <td>1.730633</td>\n",
       "      <td>-0.150224</td>\n",
       "      <td>1.358706</td>\n",
       "      <td>0</td>\n",
       "      <td>25</td>\n",
       "    </tr>\n",
       "    <tr>\n",
       "      <th>4</th>\n",
       "      <td>-0.307867</td>\n",
       "      <td>-0.572771</td>\n",
       "      <td>0.426456</td>\n",
       "      <td>-0.641949</td>\n",
       "      <td>-1.326978</td>\n",
       "      <td>-0.624920</td>\n",
       "      <td>-1.214908</td>\n",
       "      <td>0.510522</td>\n",
       "      <td>1</td>\n",
       "      <td>2</td>\n",
       "    </tr>\n",
       "    <tr>\n",
       "      <th>...</th>\n",
       "      <td>...</td>\n",
       "      <td>...</td>\n",
       "      <td>...</td>\n",
       "      <td>...</td>\n",
       "      <td>...</td>\n",
       "      <td>...</td>\n",
       "      <td>...</td>\n",
       "      <td>...</td>\n",
       "      <td>...</td>\n",
       "      <td>...</td>\n",
       "    </tr>\n",
       "    <tr>\n",
       "      <th>17777</th>\n",
       "      <td>1.053534</td>\n",
       "      <td>0.059328</td>\n",
       "      <td>0.484452</td>\n",
       "      <td>0.861533</td>\n",
       "      <td>1.241801</td>\n",
       "      <td>1.881438</td>\n",
       "      <td>0.914459</td>\n",
       "      <td>1.358706</td>\n",
       "      <td>0</td>\n",
       "      <td>1</td>\n",
       "    </tr>\n",
       "    <tr>\n",
       "      <th>17778</th>\n",
       "      <td>-0.501068</td>\n",
       "      <td>-1.792705</td>\n",
       "      <td>-1.208956</td>\n",
       "      <td>-1.084082</td>\n",
       "      <td>-1.365289</td>\n",
       "      <td>-0.624920</td>\n",
       "      <td>-1.214908</td>\n",
       "      <td>-1.185845</td>\n",
       "      <td>1</td>\n",
       "      <td>31</td>\n",
       "    </tr>\n",
       "    <tr>\n",
       "      <th>17779</th>\n",
       "      <td>0.113898</td>\n",
       "      <td>-1.416122</td>\n",
       "      <td>-1.208956</td>\n",
       "      <td>0.086670</td>\n",
       "      <td>-0.640824</td>\n",
       "      <td>-0.624920</td>\n",
       "      <td>-0.150224</td>\n",
       "      <td>0.510522</td>\n",
       "      <td>1</td>\n",
       "      <td>11</td>\n",
       "    </tr>\n",
       "    <tr>\n",
       "      <th>17780</th>\n",
       "      <td>1.722923</td>\n",
       "      <td>2.337870</td>\n",
       "      <td>1.835589</td>\n",
       "      <td>1.699427</td>\n",
       "      <td>0.605160</td>\n",
       "      <td>1.972155</td>\n",
       "      <td>-1.214908</td>\n",
       "      <td>0.793250</td>\n",
       "      <td>0</td>\n",
       "      <td>6</td>\n",
       "    </tr>\n",
       "    <tr>\n",
       "      <th>17781</th>\n",
       "      <td>0.909232</td>\n",
       "      <td>1.219806</td>\n",
       "      <td>0.983163</td>\n",
       "      <td>1.367571</td>\n",
       "      <td>2.022158</td>\n",
       "      <td>-0.624920</td>\n",
       "      <td>-0.150224</td>\n",
       "      <td>-0.903117</td>\n",
       "      <td>1</td>\n",
       "      <td>51</td>\n",
       "    </tr>\n",
       "  </tbody>\n",
       "</table>\n",
       "<p>17782 rows × 10 columns</p>\n",
       "</div>"
      ],
      "text/plain": [
       "          Small     Large    XLarge  Small Bags  Large Bags  XLarge Bags  \\\n",
       "0      0.857897  0.001137  0.401673   -0.046919    0.767302    -0.624920   \n",
       "1     -0.500771 -1.098501 -0.564050   -1.575710    0.243830    -0.624920   \n",
       "2     -0.126813  0.454982 -1.208956    0.011475    1.236115    -0.624920   \n",
       "3      1.369223  1.606999  1.653867    1.774365    1.519091     1.730633   \n",
       "4     -0.307867 -0.572771  0.426456   -0.641949   -1.326978    -0.624920   \n",
       "...         ...       ...       ...         ...         ...          ...   \n",
       "17777  1.053534  0.059328  0.484452    0.861533    1.241801     1.881438   \n",
       "17778 -0.501068 -1.792705 -1.208956   -1.084082   -1.365289    -0.624920   \n",
       "17779  0.113898 -1.416122 -1.208956    0.086670   -0.640824    -0.624920   \n",
       "17780  1.722923  2.337870  1.835589    1.699427    0.605160     1.972155   \n",
       "17781  0.909232  1.219806  0.983163    1.367571    2.022158    -0.624920   \n",
       "\n",
       "           Year     Month  type  region  \n",
       "0     -1.214908  0.227794     0      20  \n",
       "1     -1.214908  1.641434     1      48  \n",
       "2      0.914459 -1.185845     1      15  \n",
       "3     -0.150224  1.358706     0      25  \n",
       "4     -1.214908  0.510522     1       2  \n",
       "...         ...       ...   ...     ...  \n",
       "17777  0.914459  1.358706     0       1  \n",
       "17778 -1.214908 -1.185845     1      31  \n",
       "17779 -0.150224  0.510522     1      11  \n",
       "17780 -1.214908  0.793250     0       6  \n",
       "17781 -0.150224 -0.903117     1      51  \n",
       "\n",
       "[17782 rows x 10 columns]"
      ]
     },
     "execution_count": 40,
     "metadata": {},
     "output_type": "execute_result"
    }
   ],
   "source": [
    "#Now  join both categorical and numerical features detasets\n",
    "X = x_num.join(cat_data)\n",
    "X"
   ]
  },
  {
   "cell_type": "markdown",
   "id": "892b4c83",
   "metadata": {},
   "source": [
    "## Finding best randomstate"
   ]
  },
  {
   "cell_type": "code",
   "execution_count": 41,
   "id": "bdb45c02",
   "metadata": {},
   "outputs": [
    {
     "name": "stdout",
     "output_type": "stream",
     "text": [
      "max r2 score is 0.874009043327366 on Random State 1\n"
     ]
    }
   ],
   "source": [
    "#Lets find best random state using KNeighborsRegressor\n",
    "from sklearn.neighbors import KNeighborsRegressor\n",
    "max_r_score=0\n",
    "r_state = 0\n",
    "for i in range(1,100):\n",
    "    x_train, x_test, y_train, y_test = train_test_split(X, y, test_size = 0.30,random_state = r_state)\n",
    "    kn = KNeighborsRegressor()\n",
    "    kn.fit(x_train,y_train)\n",
    "    y_pred = kn.predict(x_test)\n",
    "    r2_scr = r2_score(y_test,y_pred)\n",
    "    if r2_scr > max_r_score:\n",
    "        max_r_score = r2_scr\n",
    "        r_state = i\n",
    "print(\"max r2 score is\",max_r_score,\"on Random State\",r_state)"
   ]
  },
  {
   "cell_type": "code",
   "execution_count": 42,
   "id": "11164d6b",
   "metadata": {},
   "outputs": [],
   "source": [
    "#lets split our train data into train and test part\n",
    "x_train, x_test, y_train, y_test = train_test_split(X, y,test_size = 0.30,random_state = r_state)"
   ]
  },
  {
   "cell_type": "code",
   "execution_count": 43,
   "id": "3334bbd7",
   "metadata": {},
   "outputs": [
    {
     "name": "stdout",
     "output_type": "stream",
     "text": [
      "MAE : 0.22028360577074016\n",
      "RMSE : 0.28319839969369337\n",
      "Training r2 Score : 50.21269744260992 %\n",
      "Testing r2 Score: 51.129802172372905%\n"
     ]
    }
   ],
   "source": [
    "#Model with LinearRegression\n",
    "from sklearn.linear_model import LinearRegression\n",
    "lr = LinearRegression()\n",
    "lr.fit(x_train, y_train)\n",
    "y_pred = lr.predict(x_train)\n",
    "pred_lr = lr.predict(x_test)\n",
    "\n",
    "#evaluation\n",
    "mse = mean_squared_error(y_test,pred_lr)\n",
    "rmse = np.sqrt(mse)\n",
    "mae = mean_absolute_error(y_test,pred_lr)\n",
    "print(\"MAE :\", mae)\n",
    "print(\"RMSE :\", rmse)\n",
    "\n",
    "# r2 score\n",
    "print(\"Training r2 Score :\", r2_score(y_train,y_pred)*100,'%')\n",
    "print(f\"Testing r2 Score: {r2_score(y_test,pred_lr)*100}%\")"
   ]
  },
  {
   "cell_type": "code",
   "execution_count": 44,
   "id": "42bf99e2",
   "metadata": {},
   "outputs": [
    {
     "name": "stdout",
     "output_type": "stream",
     "text": [
      "MAE : 0.12870665417057173\n",
      "RMSE : 0.20044631550196434\n",
      "Training r2 Score : 100.0 %\n",
      "Testing r2 Score: 75.51733654781665%\n"
     ]
    }
   ],
   "source": [
    "#Model with DecesionTreeRegressor\n",
    "from sklearn.tree import DecisionTreeRegressor\n",
    "dt = DecisionTreeRegressor()\n",
    "dt.fit(x_train, y_train)\n",
    "y_pred = dt.predict(x_train)\n",
    "pred_dt = dt.predict(x_test)\n",
    "\n",
    "#evaluation\n",
    "mse = mean_squared_error(y_test,pred_dt)\n",
    "rmse = np.sqrt(mse)\n",
    "mae = mean_absolute_error(y_test,pred_dt)\n",
    "print(\"MAE :\", mae)\n",
    "print(\"RMSE :\", rmse)\n",
    "\n",
    "# r2 score\n",
    "print(\"Training r2 Score :\", r2_score(y_train,y_pred)*100,'%')\n",
    "print(f\"Testing r2 Score: {r2_score(y_test,pred_dt)*100}%\")"
   ]
  },
  {
   "cell_type": "code",
   "execution_count": 45,
   "id": "db41f056",
   "metadata": {},
   "outputs": [
    {
     "name": "stdout",
     "output_type": "stream",
     "text": [
      "MAE : 0.09752395501405811\n",
      "RMSE : 0.14062020483379215\n",
      "Training r2 Score : 98.34604473598185 %\n",
      "Testing r2 Score: 87.9508070313443%\n"
     ]
    }
   ],
   "source": [
    "#Model with RandomForestRegressor\n",
    "from sklearn.ensemble import RandomForestRegressor\n",
    "\n",
    "rf = RandomForestRegressor()\n",
    "rf.fit(x_train, y_train)\n",
    "y_pred = rf.predict(x_train)\n",
    "pred_rf = rf.predict(x_test)\n",
    "\n",
    "# evaluation\n",
    "mse = mean_squared_error(y_test,pred_rf)\n",
    "rmse = np.sqrt(mse)\n",
    "mae = mean_absolute_error(y_test,pred_rf)\n",
    "print(\"MAE :\", mae)\n",
    "print(\"RMSE :\", rmse)\n",
    "\n",
    "\n",
    "# r2 score\n",
    "print(\"Training r2 Score :\", r2_score(y_train,y_pred)*100,'%')\n",
    "print(f\"Testing r2 Score: {r2_score(y_test,pred_rf)*100}%\")"
   ]
  },
  {
   "cell_type": "code",
   "execution_count": 46,
   "id": "8f3c9f8c",
   "metadata": {},
   "outputs": [
    {
     "name": "stdout",
     "output_type": "stream",
     "text": [
      "MAE : 0.10277113402061858\n",
      "RMSE : 0.14748264905174935\n",
      "Training r2 Score : 91.87819548701984 %\n",
      "Testing r2 Score: 86.74607933471889%\n"
     ]
    }
   ],
   "source": [
    "#Model with KNeighborsRegressor\n",
    "from sklearn.neighbors import KNeighborsRegressor\n",
    "knr =  KNeighborsRegressor()\n",
    "knr.fit(x_train, y_train)\n",
    "y_pred = knr.predict(x_train)\n",
    "pred_knr = knr.predict(x_test)\n",
    "\n",
    "# evaluation\n",
    "mse = mean_squared_error(y_test,pred_knr)\n",
    "rmse = np.sqrt(mse)\n",
    "mae = mean_absolute_error(y_test,pred_knr)\n",
    "print(\"MAE :\", mae)\n",
    "print(\"RMSE :\", rmse)\n",
    "\n",
    "# r2 score\n",
    "print(\"Training r2 Score :\", r2_score(y_train,y_pred)*100,'%')\n",
    "print(f\"Testing r2 Score: {r2_score(y_test,pred_knr)*100}%\")"
   ]
  },
  {
   "cell_type": "code",
   "execution_count": 47,
   "id": "5d3b4c43",
   "metadata": {},
   "outputs": [
    {
     "name": "stdout",
     "output_type": "stream",
     "text": [
      "MAE : 0.10277113402061858\n",
      "RMSE : 0.14748264905174935\n",
      "Training r2 Score : 91.87819548701984 %\n",
      "Testing r2 Score: 86.74607933471889%\n"
     ]
    }
   ],
   "source": [
    "#Lets use SVM regressor\n",
    "from sklearn.svm import SVR\n",
    "svr =  KNeighborsRegressor()\n",
    "svr.fit(x_train, y_train)\n",
    "y_pred = svr.predict(x_train)\n",
    "pred_svr = svr.predict(x_test)\n",
    "\n",
    "# evaluation\n",
    "mse = mean_squared_error(y_test,pred_svr)\n",
    "rmse = np.sqrt(mse)\n",
    "mae = mean_absolute_error(y_test,pred_svr)\n",
    "print(\"MAE :\", mae)\n",
    "print(\"RMSE :\", rmse)\n",
    "\n",
    "# r2 score\n",
    "print(\"Training r2 Score :\", r2_score(y_train,y_pred)*100,'%')\n",
    "print(f\"Testing r2 Score: {r2_score(y_test,pred_svr)*100}%\")"
   ]
  },
  {
   "cell_type": "markdown",
   "id": "78705798",
   "metadata": {},
   "source": [
    "* Looking at the r2 scores of every algorithms, we can say the RandomForestRegressor is giving maximum r2 score and minimum rmse. \n",
    "* Lets go for cross validation to check overfitting problem."
   ]
  },
  {
   "cell_type": "markdown",
   "id": "7cae0224",
   "metadata": {},
   "source": [
    "## Cross validation"
   ]
  },
  {
   "cell_type": "code",
   "execution_count": 48,
   "id": "c432f8a6",
   "metadata": {},
   "outputs": [
    {
     "name": "stdout",
     "output_type": "stream",
     "text": [
      "Cross validation score of LinearRegression model is : 0.5045457893986164\n"
     ]
    }
   ],
   "source": [
    "from sklearn.model_selection import KFold, cross_val_score\n",
    "k_f =KFold(n_splits = 3, shuffle = True)\n",
    "k_f\n",
    "#for  LinearRegression model\n",
    "lr = LinearRegression()\n",
    "c_scores = cross_val_score(lr,X,y,cv=5, scoring = 'r2')\n",
    "print(\"Cross validation score of LinearRegression model is :\", c_scores.mean())"
   ]
  },
  {
   "cell_type": "code",
   "execution_count": 49,
   "id": "cb5a758a",
   "metadata": {},
   "outputs": [
    {
     "name": "stdout",
     "output_type": "stream",
     "text": [
      "Cross validation score of DecisionTreeRegressor model is : 0.7630405043541952\n"
     ]
    }
   ],
   "source": [
    "#for  DecisionTreeRegressor model\n",
    "dt = DecisionTreeRegressor()\n",
    "c_scores = cross_val_score(dt,X,y,cv=5, scoring = 'r2')\n",
    "print(\"Cross validation score of DecisionTreeRegressor model is :\", c_scores.mean())"
   ]
  },
  {
   "cell_type": "code",
   "execution_count": 50,
   "id": "efd1acb2",
   "metadata": {},
   "outputs": [
    {
     "name": "stdout",
     "output_type": "stream",
     "text": [
      "Cross validation score of RandomForestRegressor model is : 0.8901387405351597\n"
     ]
    }
   ],
   "source": [
    "#for RandomForestRegressor model\n",
    "c_scores = cross_val_score(rf,X,y,cv=5, scoring = 'r2')\n",
    "print(\"Cross validation score of RandomForestRegressor model is :\", c_scores.mean())"
   ]
  },
  {
   "cell_type": "code",
   "execution_count": 51,
   "id": "f832496d",
   "metadata": {},
   "outputs": [
    {
     "name": "stdout",
     "output_type": "stream",
     "text": [
      "Cross validation score of KNeighborsRegressor model is : 0.8757665670632642\n"
     ]
    }
   ],
   "source": [
    "#for KNeighborsRegressor model\n",
    "c_scores = cross_val_score(knr,X,y,cv=5, scoring = 'r2')\n",
    "print(\"Cross validation score of KNeighborsRegressor model is :\", c_scores.mean())"
   ]
  },
  {
   "cell_type": "code",
   "execution_count": 52,
   "id": "e508345c",
   "metadata": {},
   "outputs": [
    {
     "name": "stdout",
     "output_type": "stream",
     "text": [
      "Cross validation score of SVM Regressor model is : 0.8757665670632642\n"
     ]
    }
   ],
   "source": [
    "#for SVM Regressor model\n",
    "c_scores = cross_val_score(svr,X,y,cv=5, scoring = 'r2')\n",
    "print(\"Cross validation score of SVM Regressor model is :\", c_scores.mean())"
   ]
  },
  {
   "cell_type": "markdown",
   "id": "1e7bb676",
   "metadata": {},
   "source": [
    "* We can see the minimum difference in r2 score and cv score for randomforestregresor, SVM and KNeighborsRegressor is same of 0.73%. \n",
    "* By taking into consideration time required for hyperparameter tuning for RandomForestRegressor is very much high. so I am prefering KNeighborsRegressor for further process"
   ]
  },
  {
   "cell_type": "markdown",
   "id": "b10511dc",
   "metadata": {},
   "source": [
    "## Hyperparameter Tuning"
   ]
  },
  {
   "cell_type": "code",
   "execution_count": 53,
   "id": "62cf532a",
   "metadata": {},
   "outputs": [],
   "source": [
    "grid_params = {\n",
    "                'algorithm' : ['auto', 'kd_tree','ball_tree','brute'],\n",
    "                'weights': ['uniform','distance'],\n",
    "                'leaf_size':[15,18,20],\n",
    "                'n_neighbors': [3,5,7,13]\n",
    "                }"
   ]
  },
  {
   "cell_type": "code",
   "execution_count": 54,
   "id": "cc3fae5f",
   "metadata": {},
   "outputs": [
    {
     "data": {
      "text/plain": [
       "GridSearchCV(cv=5, estimator=KNeighborsRegressor(),\n",
       "             param_grid={'algorithm': ['auto', 'kd_tree', 'ball_tree', 'brute'],\n",
       "                         'leaf_size': [15, 18, 20],\n",
       "                         'n_neighbors': [3, 5, 7, 13],\n",
       "                         'weights': ['uniform', 'distance']})"
      ]
     },
     "execution_count": 54,
     "metadata": {},
     "output_type": "execute_result"
    }
   ],
   "source": [
    "GCV =  GridSearchCV(KNeighborsRegressor(), grid_params, cv = 5)\n",
    "GCV.fit(x_train,y_train)"
   ]
  },
  {
   "cell_type": "code",
   "execution_count": 55,
   "id": "cad81d63",
   "metadata": {},
   "outputs": [
    {
     "data": {
      "text/plain": [
       "{'algorithm': 'auto', 'leaf_size': 15, 'n_neighbors': 3, 'weights': 'distance'}"
      ]
     },
     "execution_count": 55,
     "metadata": {},
     "output_type": "execute_result"
    }
   ],
   "source": [
    "GCV.best_params_       #printing the best parameters found by GridSearchCV"
   ]
  },
  {
   "cell_type": "code",
   "execution_count": 56,
   "id": "30575656",
   "metadata": {},
   "outputs": [
    {
     "name": "stdout",
     "output_type": "stream",
     "text": [
      "MAE : 0.09221969377831055\n",
      "RMSE : 0.13581486914627047\n",
      "---------------------------------------------------\n",
      "Training r2 Score : 100.0 %\n",
      "Testing r2 Score: 88.76023719462368%\n"
     ]
    }
   ],
   "source": [
    "#Let's train and test our model using best parameters\n",
    "model = KNeighborsRegressor(algorithm = 'auto', leaf_size = 15, n_neighbors = 3, weights = 'distance' )\n",
    "\n",
    "model.fit(x_train,y_train)\n",
    "pred = model.predict(x_test)\n",
    "y_pred = model.predict(x_train)\n",
    "# evaluation\n",
    "mse = mean_squared_error(y_test, pred)\n",
    "rmse = np.sqrt(mse)\n",
    "mae = mean_absolute_error(y_test,pred)\n",
    "\n",
    "print(\"MAE :\", mae)\n",
    "print(\"RMSE :\", rmse)\n",
    "print(\"---------------------------------------------------\")\n",
    "\n",
    "#r2 scores\n",
    "print(\"Training r2 Score :\", r2_score(y_train,y_pred)*100,'%')\n",
    "print(f\"Testing r2 Score: {r2_score(y_test,pred)*100}%\")"
   ]
  },
  {
   "cell_type": "markdown",
   "id": "48d6458f",
   "metadata": {},
   "source": [
    "This is the final model for average price prediction of avocados"
   ]
  },
  {
   "cell_type": "markdown",
   "id": "49c6e814",
   "metadata": {},
   "source": [
    "- __Lets see final Actual Vs Predicted sample.__"
   ]
  },
  {
   "cell_type": "code",
   "execution_count": 57,
   "id": "08eb3a5f",
   "metadata": {},
   "outputs": [
    {
     "data": {
      "text/html": [
       "<div>\n",
       "<style scoped>\n",
       "    .dataframe tbody tr th:only-of-type {\n",
       "        vertical-align: middle;\n",
       "    }\n",
       "\n",
       "    .dataframe tbody tr th {\n",
       "        vertical-align: top;\n",
       "    }\n",
       "\n",
       "    .dataframe thead th {\n",
       "        text-align: right;\n",
       "    }\n",
       "</style>\n",
       "<table border=\"1\" class=\"dataframe\">\n",
       "  <thead>\n",
       "    <tr style=\"text-align: right;\">\n",
       "      <th></th>\n",
       "      <th>Y Test</th>\n",
       "      <th>Pred</th>\n",
       "    </tr>\n",
       "  </thead>\n",
       "  <tbody>\n",
       "    <tr>\n",
       "      <th>10718</th>\n",
       "      <td>1.38</td>\n",
       "      <td>1.378667</td>\n",
       "    </tr>\n",
       "    <tr>\n",
       "      <th>3049</th>\n",
       "      <td>0.76</td>\n",
       "      <td>0.832338</td>\n",
       "    </tr>\n",
       "    <tr>\n",
       "      <th>16084</th>\n",
       "      <td>1.32</td>\n",
       "      <td>1.574522</td>\n",
       "    </tr>\n",
       "    <tr>\n",
       "      <th>6565</th>\n",
       "      <td>1.59</td>\n",
       "      <td>1.622797</td>\n",
       "    </tr>\n",
       "    <tr>\n",
       "      <th>4919</th>\n",
       "      <td>0.93</td>\n",
       "      <td>1.100100</td>\n",
       "    </tr>\n",
       "  </tbody>\n",
       "</table>\n",
       "</div>"
      ],
      "text/plain": [
       "       Y Test      Pred\n",
       "10718    1.38  1.378667\n",
       "3049     0.76  0.832338\n",
       "16084    1.32  1.574522\n",
       "6565     1.59  1.622797\n",
       "4919     0.93  1.100100"
      ]
     },
     "execution_count": 57,
     "metadata": {},
     "output_type": "execute_result"
    },
    {
     "data": {
      "image/png": "[encoded data removed]",
      "text/plain": [
       "<Figure size 360x360 with 1 Axes>"
      ]
     },
     "metadata": {
      "needs_background": "light"
     },
     "output_type": "display_data"
    }
   ],
   "source": [
    "data = pd.DataFrame({'Y Test':y_test , 'Pred':pred},columns=['Y Test','Pred'])\n",
    "sns.lmplot(x='Y Test',y='Pred',data=data,palette='rainbow')\n",
    "data.head()"
   ]
  },
  {
   "cell_type": "markdown",
   "id": "02ce6355",
   "metadata": {},
   "source": [
    "## Saving the model"
   ]
  },
  {
   "cell_type": "code",
   "execution_count": 58,
   "id": "e974fd06",
   "metadata": {},
   "outputs": [
    {
     "data": {
      "text/plain": [
       "['Avocado_price_prediction.pkl']"
      ]
     },
     "execution_count": 58,
     "metadata": {},
     "output_type": "execute_result"
    }
   ],
   "source": [
    "import joblib\n",
    "joblib.dump(model,\"Avocado_price_prediction.pkl\")"
   ]
  },
  {
   "cell_type": "code",
   "execution_count": null,
   "id": "5622c9aa",
   "metadata": {},
   "outputs": [],
   "source": []
  }
 ],
 "metadata": {
  "kernelspec": {
   "display_name": "Python 3",
   "language": "python",
   "name": "python3"
  },
  "language_info": {
   "codemirror_mode": {
    "name": "ipython",
    "version": 3
   },
   "file_extension": ".py",
   "mimetype": "text/x-python",
   "name": "python",
   "nbconvert_exporter": "python",
   "pygments_lexer": "ipython3",
   "version": "3.8.8"
  }
 },
 "nbformat": 4,
 "nbformat_minor": 5
}
